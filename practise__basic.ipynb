{
 "cells": [
  {
   "cell_type": "code",
   "execution_count": 1,
   "metadata": {},
   "outputs": [
    {
     "name": "stdout",
     "output_type": "stream",
     "text": [
      "4\n"
     ]
    }
   ],
   "source": [
    "#Python Program to find Sum of Natural Numbers\n",
    "a=int(input())\n",
    "b=int(input())\n",
    "print(a+b)"
   ]
  },
  {
   "cell_type": "code",
   "execution_count": 2,
   "metadata": {},
   "outputs": [
    {
     "name": "stdout",
     "output_type": "stream",
     "text": [
      "6\n"
     ]
    }
   ],
   "source": [
    "#2)Python Program to find Sum of Even Numbers\n",
    "a=2\n",
    "b=4\n",
    "print(a+b)"
   ]
  },
  {
   "cell_type": "code",
   "execution_count": 4,
   "metadata": {},
   "outputs": [
    {
     "name": "stdout",
     "output_type": "stream",
     "text": [
      "5 3.5\n"
     ]
    }
   ],
   "source": [
    "#3)Python example to find Sum and Average of Natural Numbers\n",
    "a=2\n",
    "b=3\n",
    "print(a+b,a+b/2)"
   ]
  },
  {
   "cell_type": "code",
   "execution_count": 5,
   "metadata": {},
   "outputs": [
    {
     "name": "stdout",
     "output_type": "stream",
     "text": [
      "12\n"
     ]
    }
   ],
   "source": [
    "#4)Python example to find Sum of Odd Numbers\n",
    "a=3\n",
    "v=9\n",
    "print(a+v)"
   ]
  },
  {
   "cell_type": "code",
   "execution_count": 6,
   "metadata": {},
   "outputs": [
    {
     "name": "stdout",
     "output_type": "stream",
     "text": [
      "5\n"
     ]
    }
   ],
   "source": [
    "#5)Python example to find sum of Even and Odd Numbers\n",
    "a=2\n",
    "b=3\n",
    "print(a+b)"
   ]
  },
  {
   "cell_type": "code",
   "execution_count": 7,
   "metadata": {},
   "outputs": [
    {
     "name": "stdout",
     "output_type": "stream",
     "text": [
      "97\n"
     ]
    }
   ],
   "source": [
    "#6)Python example for ASCII Value of a Single Character\n",
    "ch=input()\n",
    "print(ord(ch))"
   ]
  },
  {
   "cell_type": "code",
   "execution_count": 8,
   "metadata": {},
   "outputs": [
    {
     "name": "stdout",
     "output_type": "stream",
     "text": [
      "106\n",
      "97\n",
      "103\n",
      "97\n",
      "100\n",
      "101\n",
      "101\n",
      "115\n",
      "104\n"
     ]
    }
   ],
   "source": [
    "#7)Python program to print ASCII Value of Total Characters in a String\n",
    "str=input()\n",
    "for i in str:\n",
    "    print(ord(i))"
   ]
  },
  {
   "cell_type": "code",
   "execution_count": 9,
   "metadata": {},
   "outputs": [
    {
     "name": "stdout",
     "output_type": "stream",
     "text": [
      "jagadeesh\n"
     ]
    }
   ],
   "source": [
    "#8)Python program to Concatenate Strings\n",
    "a=input()\n",
    "b=input()\n",
    "print(a+b)\n"
   ]
  },
  {
   "cell_type": "code",
   "execution_count": 13,
   "metadata": {},
   "outputs": [
    {
     "name": "stdout",
     "output_type": "stream",
     "text": [
      "JAGADEESH\n",
      "JAGADEESH"
     ]
    }
   ],
   "source": [
    "#9)Python program to Convert String to Uppercase\n",
    "str=input()\n",
    "str1=str\n",
    "print(str.upper())\n",
    "for i in str1:\n",
    "    print(chr(ord(i)-32),end='')"
   ]
  },
  {
   "cell_type": "code",
   "execution_count": 14,
   "metadata": {},
   "outputs": [
    {
     "name": "stdout",
     "output_type": "stream",
     "text": [
      "jagadeesh\n",
      "jagadeesh"
     ]
    }
   ],
   "source": [
    "#10)Python program to Convert String to Lowercase\n",
    "str=input()\n",
    "str1=str\n",
    "print(str.lower())\n",
    "for i in str1:\n",
    "    print(chr(ord(i)+32),end='')"
   ]
  },
  {
   "cell_type": "code",
   "execution_count": 16,
   "metadata": {},
   "outputs": [
    {
     "name": "stdout",
     "output_type": "stream",
     "text": [
      "jagadeesh\n",
      "jagadeesh\n"
     ]
    }
   ],
   "source": [
    "#11)Python program to Copy a String\n",
    "str=input()\n",
    "res=str\n",
    "print(res)\n",
    "#or\n",
    "str2=''\n",
    "for i in str:\n",
    "    str2+=i\n",
    "print(str2)"
   ]
  },
  {
   "cell_type": "code",
   "execution_count": 18,
   "metadata": {},
   "outputs": [
    {
     "name": "stdout",
     "output_type": "stream",
     "text": [
      "3\n",
      "3\n"
     ]
    }
   ],
   "source": [
    "#12Python program to Count Occurrence of a Character in a String\n",
    "str=input()\n",
    "char=input()\n",
    "print( str.count(char))\n",
    "\n",
    "#or\n",
    "c=0\n",
    "for i in str:\n",
    "   if i==char:\n",
    "       c+=1\n",
    "print(c) "
   ]
  },
  {
   "cell_type": "code",
   "execution_count": 1,
   "metadata": {},
   "outputs": [
    {
     "name": "stdout",
     "output_type": "stream",
     "text": [
      "9\n",
      "9\n"
     ]
    }
   ],
   "source": [
    "#13)Python program to Count Total Characters in a String\n",
    "str=input()\n",
    "print(len(str))\n",
    "\n",
    "\n",
    "#or\n",
    "c=0\n",
    "for i in str:\n",
    "    c+=1\n",
    "    \n",
    "print(c)"
   ]
  },
  {
   "cell_type": "code",
   "execution_count": 5,
   "metadata": {},
   "outputs": [
    {
     "name": "stdout",
     "output_type": "stream",
     "text": [
      "hellow i am jagadeesh 4\n",
      "['hellow', 'i', 'am', 'jagadeesh'] 4\n"
     ]
    }
   ],
   "source": [
    "#14Python program to Count Total Number of Words in a String\n",
    "str=input()\n",
    "res=''\n",
    "count=0\n",
    "for i in str:\n",
    "    if i!=' ':\n",
    "        res+=i\n",
    "    elif i==' ':\n",
    "        count+=1\n",
    "        res=''\n",
    "if res:\n",
    "    count+=1\n",
    "print(str,count)\n",
    "#or\n",
    "l=str.split()\n",
    "print(l,len(l))"
   ]
  },
  {
   "cell_type": "code",
   "execution_count": 9,
   "metadata": {},
   "outputs": [
    {
     "name": "stdout",
     "output_type": "stream",
     "text": [
      "jagadeesh 4\n"
     ]
    }
   ],
   "source": [
    "#15Python program to Count Vowels in a String\n",
    "str=input()\n",
    "vowelS=\"aeiouAEIOU\"\n",
    "count=0\n",
    "for i in str:\n",
    "    if i in vowelS:\n",
    "        count+=1\n",
    "print(str,count)"
   ]
  },
  {
   "cell_type": "code",
   "execution_count": 10,
   "metadata": {},
   "outputs": [
    {
     "name": "stdout",
     "output_type": "stream",
     "text": [
      "jagadeesh 4 5\n"
     ]
    }
   ],
   "source": [
    "#16Python program to Count Vowels and Consonants in a String\n",
    "str=input()\n",
    "vowelS=\"aeiouAEIOU\"\n",
    "vowe=0\n",
    "conso=0\n",
    "for i in str:\n",
    "    if i in vowelS:\n",
    "        vowe+=1\n",
    "    elif i>='A' and i<=\"Z\" or i>='a' and i<='z' and i not in vowelS:\n",
    "        conso+=1 \n",
    "print(str,vowe,conso)\n"
   ]
  },
  {
   "cell_type": "code",
   "execution_count": 15,
   "metadata": {},
   "outputs": [
    {
     "name": "stdout",
     "output_type": "stream",
     "text": [
      "dfghjk345678@#$%^& ==> digits ==> characters==> special symbols ==> 6 6 0\n"
     ]
    }
   ],
   "source": [
    "#17Python program to Count Alphabets Digits and Special Characters in a String\n",
    "str=input()\n",
    "\n",
    "digits=0\n",
    "characters=0\n",
    "special=0\n",
    "for i in str:\n",
    "    if i in \"0123456789\":\n",
    "        digits+=1\n",
    "    elif i>='A' and i<=\"Z\" or i>='a' and i<='z' :\n",
    "        characters+=1 \n",
    "    elif  not( i>='A' and i<=\"Z\" or i>='a' and i<='z' or i not in \"0123456789\") :\n",
    "        special+=1 \n",
    "     \n",
    "print(str,\"==> digits ==> characters==> special symbols ==>\",digits,characters,special)"
   ]
  },
  {
   "cell_type": "code",
   "execution_count": 17,
   "metadata": {},
   "outputs": [
    {
     "name": "stdout",
     "output_type": "stream",
     "text": [
      "2\n"
     ]
    }
   ],
   "source": [
    "#18Python program to Print First Occurrence of a Character in a String\n",
    "str=input()\n",
    "char=input()\n",
    "for i in range(len(str)):\n",
    "    if char==str[i]:\n",
    "        print(i)\n",
    "        break\n",
    "    \n"
   ]
  },
  {
   "cell_type": "code",
   "execution_count": 21,
   "metadata": {},
   "outputs": [
    {
     "name": "stdout",
     "output_type": "stream",
     "text": [
      "3\n"
     ]
    }
   ],
   "source": [
    "#19Python program to Print Last Occurrence of a Character in a String\n",
    "str=input()\n",
    "char=input()\n",
    "k=0\n",
    "for i in range(len(str)):\n",
    "    if char==str[i]:\n",
    "        k=i\n",
    "print(k)\n",
    "        "
   ]
  },
  {
   "cell_type": "code",
   "execution_count": 23,
   "metadata": {},
   "outputs": [
    {
     "name": "stdout",
     "output_type": "stream",
     "text": [
      "not palindrome\n"
     ]
    }
   ],
   "source": [
    "#20Python program to check Palindrome or Not\n",
    "str=input()\n",
    "if str==str[::-1]:\n",
    "    print(\"palindrome\")\n",
    "else:\n",
    "    print(\"not palindrome\")"
   ]
  },
  {
   "cell_type": "code",
   "execution_count": 25,
   "metadata": {},
   "outputs": [
    {
     "name": "stdout",
     "output_type": "stream",
     "text": [
      "x\n",
      "c\n",
      "f\n",
      "g\n",
      "h\n",
      "j\n",
      "k\n"
     ]
    }
   ],
   "source": [
    "#21Python program to Print Characters in a String\n",
    "str=input()\n",
    "for i in str:\n",
    "    print(i)"
   ]
  },
  {
   "cell_type": "code",
   "execution_count": 26,
   "metadata": {},
   "outputs": [
    {
     "name": "stdout",
     "output_type": "stream",
     "text": [
      "hellow-i-am-jagadeesh'\n"
     ]
    }
   ],
   "source": [
    "#22Python program to Replace Blank Space with Hyphen in a String\n",
    "str=input()\n",
    "res=''\n",
    "for i in str:\n",
    "    if i!=' ':\n",
    "        res+=i\n",
    "    elif i ==' ':\n",
    "        res+=\"-\"\n",
    "print(res)"
   ]
  },
  {
   "cell_type": "code",
   "execution_count": 27,
   "metadata": {},
   "outputs": [
    {
     "name": "stdout",
     "output_type": "stream",
     "text": [
      "hellow world\n"
     ]
    }
   ],
   "source": [
    "#23Python program to Replace Characters in a String\n",
    "str=\"hellow bro\"\n",
    "print(str.replace(\"bro\",\"world\"))"
   ]
  },
  {
   "cell_type": "code",
   "execution_count": 29,
   "metadata": {},
   "outputs": [
    {
     "name": "stdout",
     "output_type": "stream",
     "text": [
      "1234 -- 24\n"
     ]
    }
   ],
   "source": [
    "#24)Python program to Remove Odd Characters in a String\n",
    "str=input()\n",
    "res=''\n",
    "for i in str:\n",
    "    if int(i)%2==1:\n",
    "        pass\n",
    "    else:\n",
    "        res+=i\n",
    "print(str,\"--\",res)"
   ]
  },
  {
   "cell_type": "code",
   "execution_count": 30,
   "metadata": {},
   "outputs": [
    {
     "name": "stdout",
     "output_type": "stream",
     "text": [
      "jagadeesh -- jgdeh\n"
     ]
    }
   ],
   "source": [
    "#25Python program to Remove Odd Index Characters in a String\n",
    "str=input()\n",
    "res=''\n",
    "for i in range(len(str)):\n",
    "    if i%2==1:\n",
    "        pass\n",
    "    else:\n",
    "        res+=str[i]\n",
    "print(str,\"--\",res)"
   ]
  },
  {
   "cell_type": "code",
   "execution_count": 35,
   "metadata": {},
   "outputs": [
    {
     "name": "stdout",
     "output_type": "stream",
     "text": [
      "['j', 'a', 'g', 'a', 'd', 'e', 'e', 's', 'g', 'c', 'x', 'h', 'j', 'j', 'j', 'k']\n",
      "jagadeesgcxjjjk\n"
     ]
    }
   ],
   "source": [
    "#26Python program to Remove First Occurrence of a Character in a String\n",
    "str=input()\n",
    "char=input()\n",
    "\n",
    "for i in range(len(str)):\n",
    "    if str[i]==char:\n",
    "        l1=list(str)\n",
    "        del l1[i]\n",
    "        break\n",
    "print(l1)\n",
    "\n",
    "#or\n",
    "res=''\n",
    "for i in str:\n",
    "    if i!=char:\n",
    "        res+=i\n",
    "    elif i==char:\n",
    "        pass\n",
    "print(res)"
   ]
  },
  {
   "cell_type": "code",
   "execution_count": 36,
   "metadata": {},
   "outputs": [
    {
     "name": "stdout",
     "output_type": "stream",
     "text": [
      "['a', 'b', 'c', 'd', 'e', 'b']\n"
     ]
    }
   ],
   "source": [
    "#27Python program to Remove Last Occurrence of Character in a String\n",
    "st=\"abcdebb\"\n",
    "i=len(st)-1\n",
    "c=0\n",
    "while i>=0:\n",
    "    ch=st[i]\n",
    "    if ch=='b':\n",
    "        c+=1\n",
    "        if c==1:\n",
    "            st=list(st)\n",
    "            del st[i]            \n",
    "    i-=1\n",
    "print(st)"
   ]
  },
  {
   "cell_type": "code",
   "execution_count": 7,
   "metadata": {},
   "outputs": [
    {
     "name": "stdout",
     "output_type": "stream",
     "text": [
      "agaj\n",
      "jaga agaj\n"
     ]
    }
   ],
   "source": [
    "#28Python program to Reverse a String\n",
    "str=input()\n",
    "print(str[::-1])\n",
    "\n",
    "#or\n",
    "i=0\n",
    "res=''\n",
    "while i<len(str):\n",
    "    res=str[i]+res\n",
    "    i+=1\n",
    "print(str,res)"
   ]
  },
  {
   "cell_type": "code",
   "execution_count": 9,
   "metadata": {},
   "outputs": [
    {
     "name": "stdout",
     "output_type": "stream",
     "text": [
      "4\n",
      "4\n"
     ]
    }
   ],
   "source": [
    "#29)Python program to find String Length\n",
    "str=input()\n",
    "print(len(str))\n",
    "\n",
    "#or\n",
    "c=0\n",
    "for i in str:\n",
    "    c+=1\n",
    "print(c)"
   ]
  },
  {
   "cell_type": "code",
   "execution_count": 13,
   "metadata": {},
   "outputs": [
    {
     "name": "stdout",
     "output_type": "stream",
     "text": [
      "2\n",
      "{'a': 2}\n"
     ]
    }
   ],
   "source": [
    "#30)Python program to find Total Occurrence of a Character in a String\n",
    "str=input()\n",
    "char=input()\n",
    "print(str.count(char))\n",
    "\n",
    "#or\n",
    "\n",
    "d={}\n",
    "for i in range(len(str)):\n",
    "    if char==str[i] and char not in d:\n",
    "        d[char]=1\n",
    "    elif char==str[i] and char in d:\n",
    "        d[char]+=1\n",
    "print(d)"
   ]
  },
  {
   "cell_type": "code",
   "execution_count": 14,
   "metadata": {},
   "outputs": [
    {
     "name": "stdout",
     "output_type": "stream",
     "text": [
      "jAgAdeesH\n"
     ]
    }
   ],
   "source": [
    "#31)Python program to Toggle Characters Case in a String\n",
    "str=input()\n",
    "res=''\n",
    "for i in str:\n",
    "    if i>='A' and i<='Z':\n",
    "        res+=chr(ord(i)+32)\n",
    "    if i>='a' and i<='z':\n",
    "        res+=chr(ord(i)-32)\n",
    "print(res)\n",
    "    \n",
    "        "
   ]
  },
  {
   "cell_type": "code",
   "execution_count": null,
   "metadata": {},
   "outputs": [],
   "source": [
    "#32"
   ]
  },
  {
   "cell_type": "code",
   "execution_count": null,
   "metadata": {},
   "outputs": [],
   "source": [
    "#33"
   ]
  },
  {
   "cell_type": "code",
   "execution_count": null,
   "metadata": {},
   "outputs": [],
   "source": [
    "#34"
   ]
  },
  {
   "cell_type": "code",
   "execution_count": null,
   "metadata": {},
   "outputs": [],
   "source": [
    "#35"
   ]
  },
  {
   "cell_type": "code",
   "execution_count": null,
   "metadata": {},
   "outputs": [],
   "source": [
    "#36"
   ]
  },
  {
   "cell_type": "code",
   "execution_count": null,
   "metadata": {},
   "outputs": [],
   "source": [
    "#37"
   ]
  },
  {
   "cell_type": "code",
   "execution_count": null,
   "metadata": {},
   "outputs": [],
   "source": [
    "#38"
   ]
  },
  {
   "cell_type": "code",
   "execution_count": null,
   "metadata": {},
   "outputs": [],
   "source": [
    "#39"
   ]
  },
  {
   "cell_type": "code",
   "execution_count": null,
   "metadata": {},
   "outputs": [],
   "source": [
    "#40"
   ]
  },
  {
   "cell_type": "code",
   "execution_count": null,
   "metadata": {},
   "outputs": [],
   "source": [
    "#41"
   ]
  },
  {
   "cell_type": "code",
   "execution_count": null,
   "metadata": {},
   "outputs": [],
   "source": [
    "#42"
   ]
  },
  {
   "cell_type": "code",
   "execution_count": null,
   "metadata": {},
   "outputs": [],
   "source": [
    "#43"
   ]
  }
 ],
 "metadata": {
  "kernelspec": {
   "display_name": "Python 3",
   "language": "python",
   "name": "python3"
  },
  "language_info": {
   "codemirror_mode": {
    "name": "ipython",
    "version": 3
   },
   "file_extension": ".py",
   "mimetype": "text/x-python",
   "name": "python",
   "nbconvert_exporter": "python",
   "pygments_lexer": "ipython3",
   "version": "undefined.undefined.undefined"
  }
 },
 "nbformat": 4,
 "nbformat_minor": 2
}
