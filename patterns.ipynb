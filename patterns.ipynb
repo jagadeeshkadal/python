{
 "cells": [
  {
   "cell_type": "markdown",
   "metadata": {},
   "source": [
    "print the pattern\n",
    "* * * * * * \n",
    "* * * * * *\n",
    "* * * * * * \n",
    "* * * * * * \n",
    "* * * * * * "
   ]
  },
  {
   "cell_type": "code",
   "execution_count": 1,
   "metadata": {},
   "outputs": [
    {
     "name": "stdout",
     "output_type": "stream",
     "text": [
      "* * * * *  \n",
      "* * * * *  \n",
      "* * * * *  \n",
      "* * * * *  \n",
      "* * * * *  \n"
     ]
    }
   ],
   "source": [
    "i=1\n",
    "while i<=5:\n",
    "    j=1\n",
    "    while j<=5:\n",
    "        print(\"*\",end=' ')\n",
    "        j+=1\n",
    "    print(\" \")\n",
    "    i+=1\n"
   ]
  },
  {
   "cell_type": "markdown",
   "metadata": {},
   "source": [
    "print the pattern\n",
    "  *   \n",
    "  *  \n",
    "  *  \n",
    "  *  \n",
    "  *  "
   ]
  },
  {
   "cell_type": "code",
   "execution_count": 5,
   "metadata": {},
   "outputs": [
    {
     "name": "stdout",
     "output_type": "stream",
     "text": [
      "    *      \n",
      "    *      \n",
      "    *      \n",
      "    *      \n",
      "    *      \n"
     ]
    }
   ],
   "source": [
    "i=1\n",
    "while i<=5:\n",
    "    j=1\n",
    "    while j<=5:\n",
    "        if j==3:\n",
    "            print(\"*\",end=' ')\n",
    "        else:\n",
    "            print(\" \",end=' ')\n",
    "        j+=1\n",
    "    print(\" \")\n",
    "    i+=1\n"
   ]
  },
  {
   "cell_type": "markdown",
   "metadata": {},
   "source": [
    "*   *   *  \n",
    "*   *   *  \n",
    "*   *   *  \n",
    "*   *   *  \n",
    "*   *   * "
   ]
  },
  {
   "cell_type": "code",
   "execution_count": 4,
   "metadata": {},
   "outputs": [
    {
     "name": "stdout",
     "output_type": "stream",
     "text": [
      "*   *   *  \n",
      "*   *   *  \n",
      "*   *   *  \n",
      "*   *   *  \n",
      "*   *   *  \n"
     ]
    }
   ],
   "source": [
    "i=1\n",
    "while i<=5:\n",
    "    j=1\n",
    "    while j<=5:\n",
    "        if j%2==1:\n",
    "            print(\"*\",end=' ')\n",
    "        else:\n",
    "            print(\" \",end=' ')\n",
    "        j+=1\n",
    "    print(\" \")\n",
    "    i+=1\n"
   ]
  },
  {
   "cell_type": "markdown",
   "metadata": {},
   "source": [
    "print \n",
    "\n",
    "* $ * # *  \n",
    "* $ * # *  \n",
    "* $ * # *  \n",
    "* $ * # *  \n",
    "* $ * # *"
   ]
  },
  {
   "cell_type": "code",
   "execution_count": 7,
   "metadata": {},
   "outputs": [
    {
     "name": "stdout",
     "output_type": "stream",
     "text": [
      "* $* #*  \n",
      "* $* #*  \n",
      "* $* #*  \n",
      "* $* #*  \n",
      "* $* #*  \n"
     ]
    }
   ],
   "source": [
    "i=1\n",
    "while i<=5:\n",
    "    j=1\n",
    "    while j<=5:\n",
    "        if j%2==1:\n",
    "            print(\"*\",end=' ')\n",
    "        elif j==2:\n",
    "            print(\"$\",end=' ')\n",
    "        elif j==4:\n",
    "            print(\"#\",end=' ')\n",
    "        j+=1\n",
    "    print(\" \")\n",
    "    i+=1\n"
   ]
  },
  {
   "cell_type": "markdown",
   "metadata": {},
   "source": [
    "* * * * *  \n",
    "*          \n",
    "*          \n",
    "*          \n",
    "*          "
   ]
  },
  {
   "cell_type": "code",
   "execution_count": 14,
   "metadata": {},
   "outputs": [
    {
     "name": "stdout",
     "output_type": "stream",
     "text": [
      "* * * * *  \n",
      "*          \n",
      "*          \n",
      "*          \n",
      "*          \n"
     ]
    }
   ],
   "source": [
    "i=1\n",
    "while i<=5:\n",
    "    j=1\n",
    "    while j<=5:\n",
    "        if j==1 or i==1:\n",
    "            print(\"*\",end=' ')\n",
    "        # if i==1:\n",
    "        #     print(p\"*\",end=' ')\n",
    "        else:\n",
    "            print(\" \",end=' ')\n",
    "        j+=1\n",
    "    print(\" \")\n",
    "    i+=1\n"
   ]
  },
  {
   "cell_type": "markdown",
   "metadata": {},
   "source": [
    "* * * * *  \n",
    "*       *  \n",
    "*       *  \n",
    "*       *  \n",
    "* * * * * "
   ]
  },
  {
   "cell_type": "code",
   "execution_count": 16,
   "metadata": {},
   "outputs": [
    {
     "name": "stdout",
     "output_type": "stream",
     "text": [
      "* * * * *  \n",
      "*       *  \n",
      "*       *  \n",
      "*       *  \n",
      "* * * * *  \n"
     ]
    }
   ],
   "source": [
    "i=1\n",
    "while i<=5:\n",
    "    j=1\n",
    "    while j<=5:\n",
    "        if j==1 or i==5 or j==5 or i==1:\n",
    "            print(\"*\",end=' ')\n",
    "        else:\n",
    "            print(\" \",end=' ')\n",
    "        j+=1\n",
    "    print(\" \")\n",
    "    i+=1\n"
   ]
  },
  {
   "cell_type": "markdown",
   "metadata": {},
   "source": [
    "* * * * *  \n",
    "*   *   *  \n",
    "* * * * *  \n",
    "*   *   *  \n",
    "* * * * * "
   ]
  },
  {
   "cell_type": "code",
   "execution_count": 17,
   "metadata": {},
   "outputs": [
    {
     "name": "stdout",
     "output_type": "stream",
     "text": [
      "* * * * *  \n",
      "*   *   *  \n",
      "* * * * *  \n",
      "*   *   *  \n",
      "* * * * *  \n"
     ]
    }
   ],
   "source": [
    "i=1\n",
    "while i<=5:\n",
    "    j=1\n",
    "    while j<=5:\n",
    "        if j==1 or i==5 or j==5 or i==1 or i==3 or j==3:\n",
    "            print(\"*\",end=' ')\n",
    "        else:\n",
    "            print(\" \",end=' ')\n",
    "        j+=1\n",
    "    print(\" \")\n",
    "    i+=1\n"
   ]
  },
  {
   "cell_type": "markdown",
   "metadata": {},
   "source": [
    "- - - - -\n",
    "- - - - -\n",
    "- - * - -\n",
    "- - - - -\n",
    "- - - - -  \n",
    "\n",
    "\"-\" =empty space\n",
    "           \n",
    "           "
   ]
  },
  {
   "cell_type": "code",
   "execution_count": 18,
   "metadata": {},
   "outputs": [
    {
     "name": "stdout",
     "output_type": "stream",
     "text": [
      "           \n",
      "           \n",
      "    *      \n",
      "           \n",
      "           \n"
     ]
    }
   ],
   "source": [
    "i=1\n",
    "while i<=5:\n",
    "    j=1\n",
    "    while j<=5:\n",
    "        if i==3 and j==3:\n",
    "            print(\"*\",end=' ')\n",
    "        else:\n",
    "            print(\" \",end=' ')\n",
    "        j+=1\n",
    "    print(\" \")\n",
    "    i+=1\n"
   ]
  },
  {
   "cell_type": "markdown",
   "metadata": {},
   "source": [
    "- - - - -\n",
    "- - - - -\n",
    "- - * - -\n",
    "- - - - -\n",
    "- - - - -  "
   ]
  },
  {
   "cell_type": "code",
   "execution_count": 20,
   "metadata": {},
   "outputs": [
    {
     "name": "stdout",
     "output_type": "stream",
     "text": [
      "- - - - -  \n",
      "- - - - -  \n",
      "- - * - -  \n",
      "- - - - -  \n",
      "- - - - -  \n"
     ]
    }
   ],
   "source": [
    "i=1\n",
    "while i<=5:\n",
    "    j=1\n",
    "    while j<=5:\n",
    "        if i==3 and j==3:\n",
    "            print(\"*\",end=' ')\n",
    "        else:\n",
    "            print(\"-\",end=' ')\n",
    "        j+=1\n",
    "    print(\" \")\n",
    "    i+=1\n"
   ]
  },
  {
   "cell_type": "markdown",
   "metadata": {},
   "source": [
    "* * * * *  \n",
    "*       *  \n",
    "*   *   *  \n",
    "*       *  \n",
    "* * * * * "
   ]
  },
  {
   "cell_type": "code",
   "execution_count": 27,
   "metadata": {},
   "outputs": [
    {
     "name": "stdout",
     "output_type": "stream",
     "text": [
      "* * * * *  \n",
      "*       *  \n",
      "*   *   *  \n",
      "*       *  \n",
      "* * * * *  \n"
     ]
    }
   ],
   "source": [
    "i=1\n",
    "while i<=5:\n",
    "    j=1\n",
    "    while j<=5:\n",
    "        if i==3 and j==3 or i==1 or j==1 or i==5 or j==5:\n",
    "            print(\"*\",end=' ')\n",
    "        else:\n",
    "            print(\" \",end=' ')\n",
    "        j+=1\n",
    "    print(\" \")\n",
    "    i+=1\n"
   ]
  },
  {
   "cell_type": "markdown",
   "metadata": {},
   "source": [
    "*       *  \n",
    "           \n",
    "    *       \n",
    "           \n",
    "*       *  "
   ]
  },
  {
   "cell_type": "code",
   "execution_count": 30,
   "metadata": {},
   "outputs": [
    {
     "name": "stdout",
     "output_type": "stream",
     "text": [
      "*       *  \n",
      "           \n",
      "    *      \n",
      "           \n",
      "*       *  \n"
     ]
    }
   ],
   "source": [
    "i=1\n",
    "while i<=5:\n",
    "    j=1\n",
    "    while j<=5:\n",
    "        if (i==1 and j==1 ) or (i==1 and j==5) or (i==5 and j==1) or (i==5 and j==5) or (i==3 and j==3):\n",
    "            print(\"*\",end=' ')\n",
    "        else:\n",
    "            print(\" \",end=' ')\n",
    "        j+=1\n",
    "    print(\" \")\n",
    "    i+=1\n"
   ]
  },
  {
   "cell_type": "markdown",
   "metadata": {},
   "source": [
    "*          \n",
    "  *        \n",
    "    *      \n",
    "      *    \n",
    "*       * "
   ]
  },
  {
   "cell_type": "code",
   "execution_count": 31,
   "metadata": {},
   "outputs": [
    {
     "name": "stdout",
     "output_type": "stream",
     "text": [
      "*          \n",
      "  *        \n",
      "    *      \n",
      "      *    \n",
      "*       *  \n"
     ]
    }
   ],
   "source": [
    "i=1\n",
    "while i<=5:\n",
    "    j=1\n",
    "    while j<=5:\n",
    "        if (i==j) or (i==5 and j==1):\n",
    "            print(\"*\",end=' ')\n",
    "        else:\n",
    "            print(\" \",end=' ')\n",
    "        j+=1\n",
    "    print(\" \")\n",
    "    i+=1\n"
   ]
  },
  {
   "cell_type": "markdown",
   "metadata": {},
   "source": [
    "  * * *    \n",
    "*       *  \n",
    "* * * * *  \n",
    "*       *  \n",
    "*       *"
   ]
  },
  {
   "cell_type": "code",
   "execution_count": 5,
   "metadata": {},
   "outputs": [
    {
     "name": "stdout",
     "output_type": "stream",
     "text": [
      "  * * *    \n",
      "*       *  \n",
      "* * * * *  \n",
      "*       *  \n",
      "*       *  \n"
     ]
    }
   ],
   "source": [
    "i=1\n",
    "while i<=5:\n",
    "    j=1\n",
    "    while j<=5:\n",
    "        if (i==1 or j==1 or i==3 or j==5 ):\n",
    "            if i==1 and j==1 or i==1 and j==5:\n",
    "                print(\"  \",end='')\n",
    "            else:\n",
    "                print(\"*\",end=' ')\n",
    "        else:\n",
    "            print(\" \",end=' ')\n",
    "        j+=1\n",
    "    print(\" \")\n",
    "    i+=1\n",
    "    \n",
    "\n",
    "\n"
   ]
  },
  {
   "cell_type": "markdown",
   "metadata": {},
   "source": [
    "*          \n",
    "* *        \n",
    "* * *      \n",
    "* * * *    \n",
    "* * * * * "
   ]
  },
  {
   "cell_type": "code",
   "execution_count": 1,
   "metadata": {},
   "outputs": [
    {
     "name": "stdout",
     "output_type": "stream",
     "text": [
      "*          \n",
      "* *        \n",
      "* * *      \n",
      "* * * *    \n",
      "* * * * *  \n"
     ]
    }
   ],
   "source": [
    "i=1\n",
    "while i<=5:\n",
    "    j=1\n",
    "    while j<=5:\n",
    "        if (i>=j):\n",
    "            print(\"*\",end=' ')\n",
    "        else:\n",
    "            print(\" \",end=' ')\n",
    "        j+=1\n",
    "    print(\" \")\n",
    "    i+=1\n"
   ]
  },
  {
   "cell_type": "markdown",
   "metadata": {},
   "source": [
    "* * * * *  \n",
    "  * * * *  \n",
    "    * * *  \n",
    "      * *  \n",
    "        *  "
   ]
  },
  {
   "cell_type": "code",
   "execution_count": 2,
   "metadata": {},
   "outputs": [
    {
     "name": "stdout",
     "output_type": "stream",
     "text": [
      "* * * * *  \n",
      "  * * * *  \n",
      "    * * *  \n",
      "      * *  \n",
      "        *  \n"
     ]
    }
   ],
   "source": [
    "i=1\n",
    "while i<=5:\n",
    "    j=1\n",
    "    while j<=5:\n",
    "        if (i<=j):\n",
    "            print(\"*\",end=' ')\n",
    "        else:\n",
    "            print(\" \",end=' ')\n",
    "        j+=1\n",
    "    print(\" \")\n",
    "    i+=1\n"
   ]
  },
  {
   "cell_type": "markdown",
   "metadata": {},
   "source": [
    "        *  \n",
    "      * *  \n",
    "    * * *  \n",
    "  * * * *  \n",
    "* * * * * "
   ]
  },
  {
   "cell_type": "code",
   "execution_count": 5,
   "metadata": {},
   "outputs": [
    {
     "name": "stdout",
     "output_type": "stream",
     "text": [
      "        *  \n",
      "      * *  \n",
      "    * * *  \n",
      "  * * * *  \n",
      "* * * * *  \n"
     ]
    }
   ],
   "source": [
    "i=1\n",
    "while i<=5:\n",
    "    j=1\n",
    "    while j<=5:\n",
    "        if (i+j>=6):\n",
    "            print(\"*\",end=' ')\n",
    "        else:\n",
    "            print(\" \",end=' ')\n",
    "        j+=1\n",
    "    print(\" \")\n",
    "    i+=1\n"
   ]
  },
  {
   "cell_type": "markdown",
   "metadata": {},
   "source": [
    "* * * * *  \n",
    "* * * *    \n",
    "* * *      \n",
    "* *        \n",
    "*   "
   ]
  },
  {
   "cell_type": "code",
   "execution_count": 6,
   "metadata": {},
   "outputs": [
    {
     "name": "stdout",
     "output_type": "stream",
     "text": [
      "* * * * *  \n",
      "* * * *    \n",
      "* * *      \n",
      "* *        \n",
      "*          \n"
     ]
    }
   ],
   "source": [
    "i=1\n",
    "while i<=5:\n",
    "    j=1\n",
    "    while j<=5:\n",
    "        if (i+j<=6):\n",
    "            print(\"*\",end=' ')\n",
    "        else:\n",
    "            print(\" \",end=' ')\n",
    "        j+=1\n",
    "    print(\" \")\n",
    "    i+=1\n"
   ]
  },
  {
   "cell_type": "markdown",
   "metadata": {},
   "source": [
    "* * * * * * * * * *  \n",
    "*                 *  \n",
    "*                 *  \n",
    "*                 *  \n",
    "* * * * * * * * * * "
   ]
  },
  {
   "cell_type": "code",
   "execution_count": 8,
   "metadata": {},
   "outputs": [
    {
     "name": "stdout",
     "output_type": "stream",
     "text": [
      "* * * * * * * * * *  \n",
      "*                 *  \n",
      "*                 *  \n",
      "*                 *  \n",
      "* * * * * * * * * *  \n"
     ]
    }
   ],
   "source": [
    "n=5\n",
    "i=1\n",
    "while i<=n:\n",
    "    j=1\n",
    "    while j<=n:\n",
    "        if j==1 or i==1 or i==5:\n",
    "            print(\"*\",end=' ')\n",
    "        else:\n",
    "            print(\" \",end=' ')\n",
    "        j+=1\n",
    "    j=1\n",
    "    while j<=n:\n",
    "        if i==1 or j==5 or i==5:\n",
    "            print(\"*\",end=' ')\n",
    "        else:\n",
    "            print(\" \",end=' ')\n",
    "        j+=1\n",
    "    print(\" \")\n",
    "    i+=1\n"
   ]
  },
  {
   "cell_type": "markdown",
   "metadata": {},
   "source": [
    "*                 *  \n",
    "* *             * *  \n",
    "* * *         * * *  \n",
    "* * * *     * * * *  \n",
    "* * * * * * * * * * "
   ]
  },
  {
   "cell_type": "code",
   "execution_count": 1,
   "metadata": {},
   "outputs": [
    {
     "name": "stdout",
     "output_type": "stream",
     "text": [
      "*                 *  \n",
      "* *             * *  \n",
      "* * *         * * *  \n",
      "* * * *     * * * *  \n",
      "* * * * * * * * * *  \n"
     ]
    }
   ],
   "source": [
    "n=5\n",
    "i=1\n",
    "while i<=n:\n",
    "    j=1\n",
    "    while j<=n:\n",
    "        if i>=j:\n",
    "            print(\"*\",end=' ')\n",
    "        else:\n",
    "            print(\" \",end=' ')\n",
    "        j+=1\n",
    "    j=1\n",
    "    while j<=n:\n",
    "        if i+j>=n+1:\n",
    "            \n",
    "            print(\"*\",end=' ')\n",
    "        else:\n",
    "            print(\" \",end=' ')\n",
    "        j+=1\n",
    "    print(\" \")\n",
    "    i+=1\n"
   ]
  },
  {
   "cell_type": "markdown",
   "metadata": {},
   "source": [
    "* * * * * * * * * *  \n",
    "*     * * * *     *  \n",
    "*   * * * * * *   *  \n",
    "* * * * * * * * * *  \n",
    "* * * * * * * * * * "
   ]
  },
  {
   "cell_type": "code",
   "execution_count": 9,
   "metadata": {},
   "outputs": [
    {
     "name": "stdout",
     "output_type": "stream",
     "text": [
      "* * * * * * * * * *  \n",
      "*     * * * *     *  \n",
      "*   * * * * * *   *  \n",
      "* * * * * * * * * *  \n",
      "* * * * * * * * * *  \n"
     ]
    }
   ],
   "source": [
    "n=5\n",
    "i=1\n",
    "while i<=n:\n",
    "    j=1\n",
    "    while j<=n:\n",
    "        if i+j>=n+1 or i==1 or j==1:\n",
    "            print(\"*\",end=' ')\n",
    "        else:\n",
    "            print(\" \",end=' ')\n",
    "        j+=1\n",
    "    j=1\n",
    "    while j<=n:\n",
    "        if i>=j or i==1 or j==5:           \n",
    "            print(\"*\",end=' ')\n",
    "        else:\n",
    "            print(\" \",end=' ')\n",
    "        j+=1\n",
    "    print(\" \")\n",
    "    i+=1\n"
   ]
  },
  {
   "cell_type": "markdown",
   "metadata": {},
   "source": [
    "* * * * * * * * * *  \n",
    "*       * *       *  \n",
    "*     * * * *     *  \n",
    "*   * * * * * *   *  \n",
    "* * * * * * * * * * "
   ]
  },
  {
   "cell_type": "code",
   "execution_count": 10,
   "metadata": {},
   "outputs": [
    {
     "name": "stdout",
     "output_type": "stream",
     "text": [
      "* * * * * * * * * *  \n",
      "*       * *       *  \n",
      "*     * * * *     *  \n",
      "*   * * * * * *   *  \n",
      "* * * * * * * * * *  \n"
     ]
    }
   ],
   "source": [
    "n=5\n",
    "i=1\n",
    "while i<=n:\n",
    "    j=1\n",
    "    while j<=n:\n",
    "        if i+j>n+1 or i==1 or j==1:\n",
    "            print(\"*\",end=' ')\n",
    "        else:\n",
    "            print(\" \",end=' ')\n",
    "        j+=1\n",
    "    j=1\n",
    "    while j<=n:\n",
    "        if i>j or i==1 or j==5:           \n",
    "            print(\"*\",end=' ')\n",
    "        else:\n",
    "            print(\" \",end=' ')\n",
    "        j+=1\n",
    "    print(\" \")\n",
    "    i+=1\n"
   ]
  },
  {
   "cell_type": "markdown",
   "metadata": {},
   "source": [
    "* *                       * *  \n",
    "* *           *           * *  \n",
    "* *         * * *         * *  \n",
    "* *       * * * * *       * *  \n",
    "* * * * * * * * * * * * * * * "
   ]
  },
  {
   "cell_type": "code",
   "execution_count": 53,
   "metadata": {},
   "outputs": [
    {
     "name": "stdout",
     "output_type": "stream",
     "text": [
      "* *                       * *  \n",
      "* *           *           * *  \n",
      "* *         * * *         * *  \n",
      "* *       * * * * *       * *  \n",
      "* * * * * * * * * * * * * * *  \n"
     ]
    }
   ],
   "source": [
    "n=5\n",
    "i=1\n",
    "while i<=n:\n",
    "    j=1\n",
    "    while j<=n:\n",
    "        if j==1 or j==2 or i==5:\n",
    "            print(\"*\",end=' ')\n",
    "        else:\n",
    "            print(\" \",end=' ')\n",
    "        j+=1\n",
    "    j=1\n",
    "    while (j<=n):\n",
    "        if i==5 or j==3  or (i==3 and j==2)or (i==4 and j==2) or (i==4 and j==1) or (i==3 and j==4) or (i==4 and j==4)or (i==4 and j==5):\n",
    "            if i==1 and j==3:\n",
    "                print(\" \",end=' ')\n",
    "            else:\n",
    "                print(\"*\",end=' ')\n",
    "        else:\n",
    "            print(\" \",end=' ')\n",
    "        j+=1\n",
    "    j=1\n",
    "    while j<=n:\n",
    "        if i==5 or j==5 or j==4 :\n",
    "            print(\"*\",end=' ')\n",
    "        else:\n",
    "            print(\" \",end=' ')\n",
    "        j+=1\n",
    "    print(\" \")\n",
    "    i+=1\n"
   ]
  },
  {
   "cell_type": "markdown",
   "metadata": {},
   "source": [
    "                               \n",
    "    *         *         *      \n",
    "  * * *     * * *     * * *    \n",
    "* * * * * * * * * * * * * * *  \n",
    "* * * * * * * * * * * * * * * "
   ]
  },
  {
   "cell_type": "code",
   "execution_count": 8,
   "metadata": {},
   "outputs": [
    {
     "name": "stdout",
     "output_type": "stream",
     "text": [
      "                               \n",
      "    *         *         *      \n",
      "  * * *     * * *     * * *    \n",
      "* * * * * * * * * * * * * * *  \n",
      "* * * * * * * * * * * * * * *  \n"
     ]
    }
   ],
   "source": [
    "n=5\n",
    "i=1\n",
    "while i<=n:\n",
    "    j=1\n",
    "    while j<=n:\n",
    "        if i==5 or j==3  or (i==3 and j==2)or (i==4 and j==2) or (i==4 and j==1) or (i==3 and j==4) or (i==4 and j==4)or (i==4 and j==5):\n",
    "            if i==1 and j==3:\n",
    "                print(\" \",end=' ')\n",
    "            else:\n",
    "                print(\"*\",end=' ')\n",
    "        else:\n",
    "            print(\" \",end=' ')\n",
    "        j+=1\n",
    "    j=1\n",
    "    while (j<=n):\n",
    "        if i==5 or j==3  or (i==3 and j==2)or (i==4 and j==2) or (i==4 and j==1) or (i==3 and j==4) or (i==4 and j==4)or (i==4 and j==5):\n",
    "            if i==1 and j==3:\n",
    "                print(\" \",end=' ')\n",
    "            else:\n",
    "                print(\"*\",end=' ')\n",
    "        else:\n",
    "            print(\" \",end=' ')\n",
    "        j+=1\n",
    "    j=1\n",
    "    while j<=n:\n",
    "        if i==5 or j==3  or (i==3 and j==2)or (i==4 and j==2) or (i==4 and j==1) or (i==3 and j==4) or (i==4 and j==4)or (i==4 and j==5):\n",
    "            if i==1 and j==3:\n",
    "                print(\" \",end=' ')\n",
    "            else:\n",
    "                print(\"*\",end=' ')\n",
    "        else:\n",
    "            print(\" \",end=' ')\n",
    "        j+=1\n",
    "    print(\" \")\n",
    "    i+=1\n"
   ]
  },
  {
   "cell_type": "markdown",
   "metadata": {},
   "source": [
    "*          \n",
    "* *        \n",
    "* * *      \n",
    "* * * *    \n",
    "* * * * *  \n",
    "* * * *    \n",
    "* * *      \n",
    "* *        \n",
    "*         "
   ]
  },
  {
   "cell_type": "code",
   "execution_count": 14,
   "metadata": {},
   "outputs": [
    {
     "name": "stdout",
     "output_type": "stream",
     "text": [
      "*          \n",
      "* *        \n",
      "* * *      \n",
      "* * * *    \n",
      "* * * * *  \n",
      "* * * *    \n",
      "* * *      \n",
      "* *        \n",
      "*          \n",
      "           \n"
     ]
    }
   ],
   "source": [
    "\n",
    "i=1\n",
    "while i<=5:\n",
    "    j=1\n",
    "    while j<=5:\n",
    "        if i>=j:\n",
    "            print(\"*\",end=' ')\n",
    "        else:\n",
    "            print(\" \",end=' ')\n",
    "        j+=1\n",
    "    print(\" \")\n",
    "    i+=1\n",
    "i=1\n",
    "while i<=5:\n",
    "    j=1\n",
    "    while j<=5:\n",
    "        if i+j<6:\n",
    "            print(\"*\",end=' ')\n",
    "        else:\n",
    "            print(\" \",end=' ')\n",
    "        j+=1\n",
    "    j=1\n",
    "    print(\" \")\n",
    "    i+=1\n"
   ]
  },
  {
   "cell_type": "markdown",
   "metadata": {},
   "source": [
    "          *          \n",
    "          * *        \n",
    "          * * *      \n",
    "          * * * *    \n",
    "* * * * * * * * * *  \n",
    "          * * * *    \n",
    "          * * *      \n",
    "          * *        \n",
    "          *      "
   ]
  },
  {
   "cell_type": "code",
   "execution_count": 34,
   "metadata": {},
   "outputs": [
    {
     "name": "stdout",
     "output_type": "stream",
     "text": [
      "          *          \n",
      "          * *        \n",
      "          * * *      \n",
      "          * * * *    \n",
      "* * * * * * * * * *  \n",
      "          * * * *    \n",
      "          * * *      \n",
      "          * *        \n",
      "          *          \n",
      "                     \n"
     ]
    }
   ],
   "source": [
    "\n",
    "i=1\n",
    "while i<=5:\n",
    "    j=1\n",
    "    while j<=5:\n",
    "        if i==5 :\n",
    "            print(\"*\",end=' ')\n",
    "        else:\n",
    "            print(\" \",end=' ')\n",
    "        j+=1\n",
    "    j=1\n",
    "    while j<=5:\n",
    "        if i>=j:\n",
    "            print(\"*\",end=' ')\n",
    "        else:\n",
    "            print(\" \",end=' ')\n",
    "        j+=1\n",
    "        \n",
    "        \n",
    "    print(\" \")\n",
    "    i+=1\n",
    "i=1\n",
    "while i<=5:\n",
    "    j=1\n",
    "    while j<=5:\n",
    "        print(\" \",end=' ')\n",
    "        j+=1\n",
    "    j=1\n",
    "    while j<=5:\n",
    "        if i+j<=5:\n",
    "            print(\"*\",end=' ')\n",
    "        else:\n",
    "            print(\" \",end=' ')\n",
    "        j+=1\n",
    "    print(\" \")\n",
    "    i+=1\n"
   ]
  },
  {
   "cell_type": "markdown",
   "metadata": {},
   "source": [
    "\n",
    "       \n",
    "                     \n",
    "*                 *  \n",
    "* *             * *  \n",
    "* * *         * * *  \n",
    "* * * *     * * * *  \n",
    "* * * * * * * * * *  \n",
    "* * * *     * * * *  \n",
    "* * *         * * *  \n",
    "* *             * *  \n",
    "*                 *"
   ]
  },
  {
   "cell_type": "code",
   "execution_count": 66,
   "metadata": {},
   "outputs": [
    {
     "name": "stdout",
     "output_type": "stream",
     "text": [
      "*                 *  \n",
      "* *             * *  \n",
      "* * *         * * *  \n",
      "* * * *     * * * *  \n",
      "* * * * * * * * * *  \n",
      "* * * *     * * * *  \n",
      "* * *         * * *  \n",
      "* *             * *  \n",
      "*                 *  \n",
      "                     \n"
     ]
    }
   ],
   "source": [
    "\n",
    "i=1\n",
    "while i<=5:\n",
    "    j=1\n",
    "    while j<=5:\n",
    "        if i>=j:\n",
    "            print(\"*\",end=' ')\n",
    "        else:\n",
    "            print(\" \",end=' ')\n",
    "        j+=1\n",
    "    j=1\n",
    "    while j<=5:\n",
    "        if i+j>=6:\n",
    "            print(\"*\",end=' ')\n",
    "        else:\n",
    "            print(\" \",end=' ')\n",
    "        j+=1    \n",
    "    print(\" \")\n",
    "    i+=1\n",
    "i=1\n",
    "while i<=5:\n",
    "    j=1\n",
    "    while j<=5:\n",
    "        if i+j<6:\n",
    "            print(\"*\",end=' ')\n",
    "        else:\n",
    "            print(\" \",end=' ')\n",
    "        j+=1\n",
    "    j=1\n",
    "    while j<=5:\n",
    "        if i<j:\n",
    "            print(\"*\",end=' ')\n",
    "        else:\n",
    "            print(\" \",end=' ')\n",
    "        j+=1\n",
    "    print(\" \")\n",
    "    i+=1\n"
   ]
  },
  {
   "cell_type": "markdown",
   "metadata": {},
   "source": [
    "*         *          \n",
    "* *       * *        \n",
    "* * *     * * *      \n",
    "* * * *   * * * *    \n",
    "* * * * * * * * * *  \n",
    "* * * *   * * * *    \n",
    "* * *     * * *      \n",
    "* *       * *        \n",
    "*         *        "
   ]
  },
  {
   "cell_type": "code",
   "execution_count": 65,
   "metadata": {},
   "outputs": [
    {
     "name": "stdout",
     "output_type": "stream",
     "text": [
      "*         *          \n",
      "* *       * *        \n",
      "* * *     * * *      \n",
      "* * * *   * * * *    \n",
      "* * * * * * * * * *  \n",
      "* * * *   * * * *    \n",
      "* * *     * * *      \n",
      "* *       * *        \n",
      "*         *          \n",
      "                     \n"
     ]
    }
   ],
   "source": [
    "\n",
    "i=1\n",
    "while i<=5:\n",
    "    j=1\n",
    "    while j<=5:\n",
    "        if i>=j :\n",
    "            print(\"*\",end=' ')\n",
    "        else:\n",
    "            print(\" \",end=' ')\n",
    "        j+=1\n",
    "    j=1\n",
    "    while j<=5:\n",
    "        if i>=j:\n",
    "            print(\"*\",end=' ')\n",
    "        else:\n",
    "            print(\" \",end=' ')\n",
    "        j+=1\n",
    "        \n",
    "        \n",
    "    print(\" \")\n",
    "    i+=1\n",
    "i=1\n",
    "while i<=5:\n",
    "    j=1\n",
    "    while j<=5:\n",
    "        if i+j<=5:\n",
    "            print(\"*\",end=' ')\n",
    "        else:\n",
    "            print(\" \",end=' ')\n",
    "        j+=1\n",
    "    j=1\n",
    "    while j<=5:\n",
    "        if i+j<=5:\n",
    "            print(\"*\",end=' ')\n",
    "        else:\n",
    "            print(\" \",end=' ')\n",
    "        j+=1\n",
    "    print(\" \")\n",
    "    i+=1\n"
   ]
  },
  {
   "cell_type": "markdown",
   "metadata": {},
   "source": [
    "*                           *  \n",
    "* *           *           * *  \n",
    "* * *       * * *       * * *  \n",
    "* * * *   * * * * *   * * * *  \n",
    "* * * * * * * * * * * * * * *  \n",
    "*       *           *       *  \n",
    "*       *           *       *  \n",
    "*       *           *       *  \n",
    "*       *           *       *  \n",
    "*       *           *       *"
   ]
  },
  {
   "cell_type": "code",
   "execution_count": 89,
   "metadata": {},
   "outputs": [
    {
     "name": "stdout",
     "output_type": "stream",
     "text": [
      "*                           *  \n",
      "* *           *           * *  \n",
      "* * *       * * *       * * *  \n",
      "* * * *   * * * * *   * * * *  \n",
      "* * * * * * * * * * * * * * *  \n",
      "*       *           *       *  \n",
      "*       *           *       *  \n",
      "*       *           *       *  \n",
      "*       *           *       *  \n",
      "*       *           *       *  \n"
     ]
    }
   ],
   "source": [
    "\n",
    "i=1\n",
    "while i<=5:\n",
    "    j=1\n",
    "    while j<=5:\n",
    "        if i>=j :\n",
    "            print(\"*\",end=' ')\n",
    "        else:\n",
    "            print(\" \",end=' ')\n",
    "        j+=1\n",
    "    j=1\n",
    "    while j<=5:\n",
    "        if i+j>=5:\n",
    "            if i==1 and j==4 or i==1 and j==5 or i==2 and j==5  or i==3 and j== 5 or i==2 and j==4:\n",
    "                print(\" \",end=' ')\n",
    "            else:\n",
    "                print(\"*\",end=' ')\n",
    "        else:\n",
    "            print(\" \",end=' ')\n",
    "        j+=1  \n",
    "    j=1\n",
    "    while j<=5:\n",
    "        if i+j>5:\n",
    "            print(\"*\",end=' ')\n",
    "        else:\n",
    "            print(\" \",end=' ')\n",
    "        j+=1 \n",
    "     \n",
    "    print(\" \")\n",
    "    i+=1\n",
    "\n",
    "i=1\n",
    "while i<=5:\n",
    "    j=1\n",
    "    while j<=5:\n",
    "        if j==1 or j==5 :\n",
    "            print(\"*\",end=' ')\n",
    "        else:\n",
    "            print(\" \",end=' ')\n",
    "        j+=1\n",
    "    j=1\n",
    "    while j<=5:\n",
    "            print(\" \",end=' ')\n",
    "            j+=1\n",
    "    j=1\n",
    "    while j<=5:\n",
    "        if j==1 or j==5:\n",
    "            print(\"*\",end=' ')\n",
    "        else:\n",
    "            print(\" \",end=' ')\n",
    "        j+=1 \n",
    "    print(\" \")\n",
    "    i+=1\n"
   ]
  },
  {
   "cell_type": "markdown",
   "metadata": {},
   "source": [
    "* * * * *     * * *     * * * * *     * * *     * * * *     * * * * *   * * * * *     * * * *   *       *  \n",
    "    *       *       *   *           *       *   *       *   *           *           *           *       *  \n",
    "    *       * * * * *   *   * * *   * * * * *   *       *   * * * * *   * * * * *     * * *     * * * * *  \n",
    "    *       *       *   *       *   *       *   *       *   *           *                   *   *       *  \n",
    "* * *       *       *   * * * * *   *       *   * * * *     * * * * *   * * * * *   * * * *     *       * "
   ]
  },
  {
   "cell_type": "code",
   "execution_count": 100,
   "metadata": {},
   "outputs": [
    {
     "name": "stdout",
     "output_type": "stream",
     "text": [
      "* * * * *     * * *     * * * * *     * * *     * * * *     * * * * *   * * * * *     * * * *   *       *  \n",
      "    *       *       *   *           *       *   *       *   *           *           *           *       *  \n",
      "    *       * * * * *   *   * * *   * * * * *   *       *   * * * * *   * * * * *     * * *     * * * * *  \n",
      "    *       *       *   *       *   *       *   *       *   *           *                   *   *       *  \n",
      "* * *       *       *   * * * * *   *       *   * * * *     * * * * *   * * * * *   * * * *     *       *  \n"
     ]
    }
   ],
   "source": [
    "i=1\n",
    "while i<=5:\n",
    "    j=1\n",
    "    while j<=5:\n",
    "        if (i==1) or (i==5) or(j==3):\n",
    "            if (i==5 and j==4) or (i==5 and j==5):\n",
    "                print(\" \",end=' ')\n",
    "            else:        \n",
    "                print(\"*\",end=\" \")\n",
    "        else:\n",
    "            print(\" \",end=' ')\n",
    "        j+=1\n",
    "    j=1\n",
    "    while j==1:\n",
    "        print(\" \",end=' ')\n",
    "        j+=1\n",
    "    j=1\n",
    "    while j<=5:\n",
    "        if (i==1 or j==1 or i==3 or j==5 ):\n",
    "            if i==1 and j==1 or i==1 and j==5:\n",
    "                print(\"  \",end='')\n",
    "            else:\n",
    "                print(\"*\",end=' ')\n",
    "        else:\n",
    "            print(\" \",end=' ')\n",
    "        j+=1\n",
    "    j=1\n",
    "    while j==1:\n",
    "        print(\" \",end=' ')\n",
    "        j+=1\n",
    "    j=1\n",
    "    while j<=5:\n",
    "        if  (i==1) or (j==1) or (i==5) or (i==3)or (i==4 and j==5) :\n",
    "            if (i==3 and j==2):\n",
    "                print(\" \",end=' ')\n",
    "            else:\n",
    "                print(\"*\",end=' ')\n",
    "        else:\n",
    "            print(\" \",end=' ')\n",
    "        j+=1\n",
    "    j=1\n",
    "    while j==1:\n",
    "        print(\" \",end=' ')\n",
    "        j+=1\n",
    "    j=1\n",
    "    while j<=5:\n",
    "        if (i==1 or j==1 or i==3 or j==5 ):\n",
    "            if i==1 and j==1 or i==1 and j==5:\n",
    "                print(\"  \",end='')\n",
    "            else:\n",
    "                print(\"*\",end=' ')\n",
    "        else:\n",
    "            print(\" \",end=' ')\n",
    "        j+=1\n",
    "    j=1\n",
    "    while j==1:\n",
    "        print(\" \",end=' ')\n",
    "        j+=1\n",
    "    j=1\n",
    "    while j<=5:\n",
    "        if  (i==1) or (j==1) or (i==5) or (j==5):\n",
    "            if (i==1 and j==5) or (i==5 and j==5):\n",
    "                print(\" \",end=' ')\n",
    "            else:\n",
    "                print(\"*\",end=\" \")\n",
    "        else:\n",
    "            print(\" \",end=' ')\n",
    "        j+=1\n",
    "    j=1\n",
    "    while j==1:\n",
    "        print(\" \",end=' ')\n",
    "        j+=1\n",
    "    j=1\n",
    "    while j<=5:\n",
    "        if  (i==1) or (j==1) or (i==5) or (i==3):\n",
    "            print(\"*\",end=\" \")\n",
    "        else:\n",
    "            print(\" \",end=' ')\n",
    "        j+=1\n",
    "    j=1\n",
    "    while j==1:\n",
    "        print(\" \",end=' ')\n",
    "        j+=1\n",
    "    j=1\n",
    "    while j<=5:\n",
    "        if  (i==1) or (j==1) or (i==5) or (i==3):\n",
    "            print(\"*\",end=\" \")\n",
    "        else:\n",
    "            print(\" \",end=' ')\n",
    "        j+=1\n",
    "    j=1\n",
    "    while j==1:\n",
    "        print(\" \",end=' ')\n",
    "        j+=1\n",
    "    j=1\n",
    "    while j<=5:\n",
    "        if (i==3) or (i==1) or (i==5) or (i==2 and j==1) or (i==4 and j==5):\n",
    "            if (i==1 and j==1) or (i==3 and j==1) or (i==3 and j==5) or (i==5 and j==5):\n",
    "                print(\" \",end=' ')\n",
    "            else:\n",
    "                print(\"*\",end=' ')\n",
    "        else:\n",
    "            print(\" \",end=' ')\n",
    "        j+=1\n",
    "    j=1\n",
    "    while j==1:\n",
    "        print(\" \",end=' ')\n",
    "        j+=1\n",
    "    j=1\n",
    "    while j<=5:\n",
    "        if  (j==1)  or (i==3) or j==5:\n",
    "            print(\"*\",end=\" \")\n",
    "        else:\n",
    "            print(\" \",end=' ')\n",
    "        j+=1\n",
    "    print(\" \")\n",
    "    i+=1\n",
    "    "
   ]
  },
  {
   "cell_type": "markdown",
   "metadata": {},
   "source": [
    "5 4 3 2 1  \n",
    "  4 3 2 1  \n",
    "    3 2 1  \n",
    "      2 1  \n",
    "        1 "
   ]
  },
  {
   "cell_type": "code",
   "execution_count": 105,
   "metadata": {},
   "outputs": [
    {
     "name": "stdout",
     "output_type": "stream",
     "text": [
      "5 4 3 2 1  \n",
      "  4 3 2 1  \n",
      "    3 2 1  \n",
      "      2 1  \n",
      "        1  \n"
     ]
    }
   ],
   "source": [
    "i=1\n",
    "while i<=5:\n",
    "    j=5\n",
    "    while j>=1:\n",
    "        if (i+j<=6):\n",
    "            print(j,end=' ')\n",
    "        else:\n",
    "            print(\" \",end=' ')\n",
    "        j-=1\n",
    "    print(\" \")\n",
    "    i+=1\n"
   ]
  },
  {
   "cell_type": "markdown",
   "metadata": {},
   "source": [
    "1          \n",
    "1 2        \n",
    "1 2 3      \n",
    "1 2 3 4    \n",
    "1 2 3 4 5"
   ]
  },
  {
   "cell_type": "code",
   "execution_count": 112,
   "metadata": {},
   "outputs": [
    {
     "name": "stdout",
     "output_type": "stream",
     "text": [
      "1          \n",
      "1 2        \n",
      "1 2 3      \n",
      "1 2 3 4    \n",
      "1 2 3 4 5  \n"
     ]
    }
   ],
   "source": [
    "i=1\n",
    "while i<=5:\n",
    "    j=1\n",
    "    while j<=5:\n",
    "        if (i>=j):\n",
    "            print(j,end=' ')\n",
    "        else:\n",
    "            print(\" \",end=' ')\n",
    "        j+=1\n",
    "    print(\" \")\n",
    "    i+=1\n"
   ]
  },
  {
   "cell_type": "markdown",
   "metadata": {},
   "source": [
    "5 4 3 2 1  \n",
    "5 4 3 2    \n",
    "5 4 3      \n",
    "5 4        \n",
    "5   "
   ]
  },
  {
   "cell_type": "code",
   "execution_count": 118,
   "metadata": {},
   "outputs": [
    {
     "name": "stdout",
     "output_type": "stream",
     "text": [
      "5 4 3 2 1  \n",
      "5 4 3 2    \n",
      "5 4 3      \n",
      "5 4        \n",
      "5          \n"
     ]
    }
   ],
   "source": [
    "i=1\n",
    "while i<=5:\n",
    "    j=5\n",
    "    while j>=1:\n",
    "        if (i<=j):\n",
    "            print(j,end=' ')\n",
    "        else:\n",
    "            print(\" \",end=' ')\n",
    "        j-=1\n",
    "    print(\" \")\n",
    "    i+=1\n"
   ]
  },
  {
   "cell_type": "markdown",
   "metadata": {},
   "source": []
  },
  {
   "cell_type": "code",
   "execution_count": null,
   "metadata": {},
   "outputs": [],
   "source": []
  },
  {
   "cell_type": "markdown",
   "metadata": {},
   "source": []
  },
  {
   "cell_type": "code",
   "execution_count": null,
   "metadata": {},
   "outputs": [],
   "source": []
  },
  {
   "cell_type": "markdown",
   "metadata": {},
   "source": []
  },
  {
   "cell_type": "code",
   "execution_count": null,
   "metadata": {},
   "outputs": [],
   "source": []
  },
  {
   "cell_type": "markdown",
   "metadata": {},
   "source": []
  },
  {
   "cell_type": "code",
   "execution_count": null,
   "metadata": {},
   "outputs": [],
   "source": []
  },
  {
   "cell_type": "markdown",
   "metadata": {},
   "source": []
  },
  {
   "cell_type": "code",
   "execution_count": null,
   "metadata": {},
   "outputs": [],
   "source": []
  },
  {
   "cell_type": "markdown",
   "metadata": {},
   "source": []
  },
  {
   "cell_type": "code",
   "execution_count": null,
   "metadata": {},
   "outputs": [],
   "source": []
  },
  {
   "cell_type": "markdown",
   "metadata": {},
   "source": []
  },
  {
   "cell_type": "code",
   "execution_count": null,
   "metadata": {},
   "outputs": [],
   "source": []
  },
  {
   "cell_type": "markdown",
   "metadata": {},
   "source": []
  },
  {
   "cell_type": "code",
   "execution_count": null,
   "metadata": {},
   "outputs": [],
   "source": []
  },
  {
   "cell_type": "markdown",
   "metadata": {},
   "source": []
  },
  {
   "cell_type": "code",
   "execution_count": null,
   "metadata": {},
   "outputs": [],
   "source": []
  }
 ],
 "metadata": {
  "kernelspec": {
   "display_name": "Python 3",
   "language": "python",
   "name": "python3"
  },
  "language_info": {
   "codemirror_mode": {
    "name": "ipython",
    "version": 3
   },
   "file_extension": ".py",
   "mimetype": "text/x-python",
   "name": "python",
   "nbconvert_exporter": "python",
   "pygments_lexer": "ipython3",
   "version": "3.10.0"
  }
 },
 "nbformat": 4,
 "nbformat_minor": 2
}
