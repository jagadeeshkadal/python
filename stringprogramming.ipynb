{
 "cells": [
  {
   "cell_type": "code",
   "execution_count": 48,
   "metadata": {},
   "outputs": [
    {
     "name": "stdout",
     "output_type": "stream",
     "text": [
      "abbcccd\n"
     ]
    }
   ],
   "source": [
    "#input=ab2c3d output= abbcccd\n",
    "\n",
    "st=\"ab2c3d\"\n",
    "i=0\n",
    "res=\"\"\n",
    "while i<len(st)-1:\n",
    "    ch=st[i]\n",
    "    ch1=st[i+1]\n",
    "    if ch>='A' and ch<='Z' or ch >='a'and ch<='z' and ch1>='0' and ch1<='9':\n",
    "        res+=str(ch*int(ch1))\n",
    "    elif ch>='A' and ch<='Z' or ch >='a'and ch<='z' and ch1>='a' and ch1<='z' or ch1>='A' and ch1<='Z':\n",
    "        res+=ch\n",
    "    i+=1\n",
    "if st[-1]>='A' and st[-1]<='Z' or st[-1] >='a'and st[-1]<='z':\n",
    "    res+=st[-1]\n",
    "print(res)"
   ]
  },
  {
   "cell_type": "code",
   "execution_count": 49,
   "metadata": {},
   "outputs": [
    {
     "name": "stdout",
     "output_type": "stream",
     "text": [
      "alphabets--> 3\n",
      "digits--> 4\n",
      "symbols--> 5\n"
     ]
    }
   ],
   "source": [
    "#count no. of alphabets,numbers,special characters\n",
    "st=\"abc123@#4\"\n",
    "c=0\n",
    "c1=0\n",
    "c2=0\n",
    "for i in st:\n",
    "    if i>='a'and i<='z'  or i>='A'and i<='Z':\n",
    "        c+=1\n",
    "    if i>='0'and i<='9':\n",
    "        c1+=1\n",
    "    else:\n",
    "        c2+=1\n",
    "print(\"alphabets-->\",c )\n",
    "print(\"digits-->\",c1)\n",
    "print(\"symbols-->\",c2)\n"
   ]
  },
  {
   "cell_type": "code",
   "execution_count": 50,
   "metadata": {},
   "outputs": [
    {
     "name": "stdout",
     "output_type": "stream",
     "text": [
      "6\n"
     ]
    }
   ],
   "source": [
    "#sum of digits in string\n",
    "st=\"123\"\n",
    "sum=0\n",
    "for i in st:\n",
    "    sum+=int(i)\n",
    "print(sum)"
   ]
  },
  {
   "cell_type": "code",
   "execution_count": 51,
   "metadata": {},
   "outputs": [
    {
     "name": "stdout",
     "output_type": "stream",
     "text": [
      "b 1st occurence @ 1\n",
      "b 1st occurence @ 1\n"
     ]
    }
   ],
   "source": [
    "#1st occurence of alphabet in string\n",
    "st=\"abcdeb\"\n",
    "c=0\n",
    "flag=True\n",
    "for i in st:\n",
    "    if i=='b' and flag==True:\n",
    "        print(\"b 1st occurence @\",c)\n",
    "        flag=False\n",
    "    c+=1\n",
    "\n",
    "#using while\n",
    "j=0\n",
    "c1=0\n",
    "while j<len(st)-1:\n",
    "    ch=st[j]\n",
    "    if ch=='b':\n",
    "        c1+=1\n",
    "        if c1==1:\n",
    "            print(\"b 1st occurence @\",j)\n",
    "    j+=1\n",
    "            \n",
    "\n"
   ]
  },
  {
   "cell_type": "code",
   "execution_count": 52,
   "metadata": {},
   "outputs": [
    {
     "name": "stdout",
     "output_type": "stream",
     "text": [
      "b last occurence @ 5\n",
      "b last occurence @ 5\n"
     ]
    }
   ],
   "source": [
    "#1st occurence of alphabet in string\n",
    "st=\"abcdeb\"\n",
    "c=0\n",
    "flag=True\n",
    "for i in st:\n",
    "    if i=='b' and flag==True:\n",
    "        k=c\n",
    "    c+=1\n",
    "print(\"b last occurence @\",k)\n",
    "#using while\n",
    "j=len(st)-1\n",
    "c1=0\n",
    "while j>=0:\n",
    "    ch=st[j]\n",
    "    if ch=='b':\n",
    "        c1+=1\n",
    "        if c1==1:\n",
    "            print(\"b last occurence @\",j)\n",
    "    j-=1\n",
    "            \n",
    "\n"
   ]
  },
  {
   "cell_type": "code",
   "execution_count": 53,
   "metadata": {},
   "outputs": [
    {
     "name": "stdout",
     "output_type": "stream",
     "text": [
      "4\n"
     ]
    }
   ],
   "source": [
    "#number words in string\n",
    "st=\"     hello how are u  \" \n",
    "c=1\n",
    "i=0\n",
    "while i<len(st)-1:\n",
    "    ch=st[i]\n",
    "    ch1=st[i+1]\n",
    "    if ch==' ' and ch1!=' ' :\n",
    "        c+=1\n",
    "    i+=1\n",
    "if st[0]==' ':\n",
    "    c-=1\n",
    "print(c)"
   ]
  },
  {
   "cell_type": "code",
   "execution_count": 54,
   "metadata": {},
   "outputs": [
    {
     "name": "stdout",
     "output_type": "stream",
     "text": [
      "b occurence @ 5\n",
      "b occurence @ 6\n"
     ]
    }
   ],
   "source": [
    "#not first occurence\n",
    "st=\"abcdebb\"\n",
    "i=0\n",
    "c=0\n",
    "while i<=len(st)-1:\n",
    "    ch=st[i]\n",
    "    if ch=='b':\n",
    "        c+=1\n",
    "        if c>1:\n",
    "            print(\"b occurence @\",i)\n",
    "    i+=1\n",
    "            \n"
   ]
  },
  {
   "cell_type": "code",
   "execution_count": 55,
   "metadata": {},
   "outputs": [
    {
     "name": "stdout",
     "output_type": "stream",
     "text": [
      "b occurence @ 5\n",
      "b occurence @ 1\n"
     ]
    }
   ],
   "source": [
    "#not last occurence\n",
    "st=\"abcdebb\"\n",
    "i=len(st)-1\n",
    "c=0\n",
    "while i>=0:\n",
    "    ch=st[i]\n",
    "    if ch=='b':\n",
    "        c+=1\n",
    "        if c>1:\n",
    "            print(\"b occurence @\",i)\n",
    "    i-=1\n",
    "            \n"
   ]
  },
  {
   "cell_type": "code",
   "execution_count": 56,
   "metadata": {},
   "outputs": [
    {
     "name": "stdout",
     "output_type": "stream",
     "text": [
      "['a', 'c', 'd', 'e', 'b', 'b']\n"
     ]
    }
   ],
   "source": [
    "#delete 1st ocuurence\n",
    "st=\"abcdebb\"\n",
    "i=0\n",
    "c=0\n",
    "while i<=len(st)-1:\n",
    "    ch=st[i]\n",
    "    if ch=='b':\n",
    "        c+=1\n",
    "        if c==1:\n",
    "            st=list(st)\n",
    "            del st[i]            \n",
    "    i+=1\n",
    "print(st)"
   ]
  },
  {
   "cell_type": "code",
   "execution_count": 57,
   "metadata": {},
   "outputs": [
    {
     "name": "stdout",
     "output_type": "stream",
     "text": [
      "['a', 'b', 'c', 'd', 'e', 'b']\n"
     ]
    }
   ],
   "source": [
    "#delete last ocuurence\n",
    "st=\"abcdebb\"\n",
    "i=len(st)-1\n",
    "c=0\n",
    "while i>=0:\n",
    "    ch=st[i]\n",
    "    if ch=='b':\n",
    "        c+=1\n",
    "        if c==1:\n",
    "            st=list(st)\n",
    "            del st[i]            \n",
    "    i-=1\n",
    "print(st)"
   ]
  },
  {
   "cell_type": "code",
   "execution_count": 58,
   "metadata": {},
   "outputs": [
    {
     "name": "stdout",
     "output_type": "stream",
     "text": [
      "b total occurence--> 3\n"
     ]
    }
   ],
   "source": [
    "# total occurences of specific character in string\n",
    "st=\"abcdebb\"\n",
    "i=0\n",
    "c=1\n",
    "while i<len(st)-1:\n",
    "    ch=st[i]\n",
    "    if ch=='b':\n",
    "        c+=1\n",
    "    i+=1\n",
    "print(\"b total occurence-->\",c)\n",
    "            \n"
   ]
  },
  {
   "cell_type": "code",
   "execution_count": 59,
   "metadata": {},
   "outputs": [
    {
     "name": "stdout",
     "output_type": "stream",
     "text": [
      "g --> 16\n"
     ]
    }
   ],
   "source": [
    "#max occurences of a character in a string\n",
    "st='abbcccdddddeeeeeeeegggggggggggggggg'\n",
    "i=0\n",
    "max_ocuurence=0\n",
    "max_ocuured=\" \"\n",
    "while i<len(st):\n",
    "    ch=st[i]\n",
    "    j=0\n",
    "    c=0\n",
    "    while j <=len(st)-1:\n",
    "        ch1=st[j]\n",
    "        if ch1==ch:\n",
    "            c+=1\n",
    "        j+=1\n",
    "    if c>max_ocuurence:\n",
    "        max_ocuurence=c\n",
    "        max_ocuured=ch\n",
    "    i+=1\n",
    "print(max_ocuured,\"-->\",max_ocuurence)"
   ]
  },
  {
   "cell_type": "code",
   "execution_count": 60,
   "metadata": {},
   "outputs": [
    {
     "name": "stdout",
     "output_type": "stream",
     "text": [
      "f --> 1\n"
     ]
    }
   ],
   "source": [
    "#max occurences of a character in a string\n",
    "st='ababcbccdddddeeeeefeeegggggggggggggggg'\n",
    "i=0\n",
    "min_ocuurence=len(st)\n",
    "min_ocuured=\" \"\n",
    "while i<len(st)-1:\n",
    "    ch=st[i]\n",
    "    j=0\n",
    "    c=0\n",
    "    while j <=len(st)-1:\n",
    "        ch1=st[j]\n",
    "        if ch1==ch:\n",
    "            c+=1\n",
    "        j+=1\n",
    "    if c<=min_ocuurence:\n",
    "        min_ocuurence=c\n",
    "        min_ocuured=ch\n",
    "    i+=1\n",
    "print(min_ocuured,\"-->\",min_ocuurence)"
   ]
  },
  {
   "cell_type": "code",
   "execution_count": 61,
   "metadata": {},
   "outputs": [
    {
     "name": "stdout",
     "output_type": "stream",
     "text": [
      " eoo123aii\n"
     ]
    }
   ],
   "source": [
    "# input= \"hello world 123 haii\" ---->output \"eoo123aii\"\n",
    "st=\"hello world 123 haii\"\n",
    "result=\" \"\n",
    "for i in st:\n",
    "    if i in \"aeiou123456789\":\n",
    "        result+=i\n",
    "print(result)"
   ]
  },
  {
   "cell_type": "code",
   "execution_count": 62,
   "metadata": {},
   "outputs": [
    {
     "name": "stdout",
     "output_type": "stream",
     "text": [
      " eo o 123 aii\n"
     ]
    }
   ],
   "source": [
    "#input= \"hello world 123 haii\" ---->output \"eo o 123 aii\"\n",
    "st=\"hello world 123 haii\"\n",
    "result=\" \"\n",
    "for i in st:\n",
    "    if i in \"aeiou123456789\" or i ==' ':\n",
    "        result+=i\n",
    "print(result)"
   ]
  },
  {
   "cell_type": "code",
   "execution_count": 63,
   "metadata": {},
   "outputs": [
    {
     "name": "stdout",
     "output_type": "stream",
     "text": [
      " eo o  aii\n"
     ]
    }
   ],
   "source": [
    "#input= \"hello world 123 haii\" ---->output \"eo o 123 aii\"\n",
    "st=\"hello world 123 haii\"\n",
    "result=\" \"\n",
    "for i in st:\n",
    "    if i in \"aeiou\" or i ==' ':\n",
    "        result+=i\n",
    "print(result)"
   ]
  },
  {
   "cell_type": "code",
   "execution_count": 83,
   "metadata": {},
   "outputs": [
    {
     "name": "stdout",
     "output_type": "stream",
     "text": [
      " hll world  haii\n"
     ]
    }
   ],
   "source": [
    "#input= \"hello world 123 haii\" ---->output \"hll world  haii\"\n",
    "st=\"hello world 123 haii\"\n",
    "result=\" \"\n",
    "c=1\n",
    "i=0\n",
    "while i<len(st)-1:\n",
    "    ch=st[i]\n",
    "    ch1=st[i+1]\n",
    "    if ch==' ' and ch1!=' ' :\n",
    "        c+=1\n",
    "    i+=1\n",
    "    if c%2==1 and ch not in \"aeiuo123456789\":\n",
    "        result+=ch\n",
    "    elif c%2==0 and ch not in\"1234567890\":\n",
    "        result+=ch    \n",
    "result+=st[-1]\n",
    "print(result)"
   ]
  },
  {
   "cell_type": "code",
   "execution_count": 64,
   "metadata": {},
   "outputs": [
    {
     "name": "stdout",
     "output_type": "stream",
     "text": [
      "hll wrld \n",
      "eoo\n"
     ]
    }
   ],
   "source": [
    "#input= \"hello world \" ---->output  \"hll wrld \" and\"eoo\"\n",
    "st=\"hello world \"\n",
    "result=\"\"\n",
    "result1 =\"\"\n",
    "for i in st:\n",
    "    if i not in \"aeiou\" or i ==' ':\n",
    "        result+=i\n",
    "    elif i in \"aeiou\":\n",
    "        result1+=i\n",
    "        \n",
    "print(result)\n",
    "print(result1)\n"
   ]
  },
  {
   "cell_type": "code",
   "execution_count": 65,
   "metadata": {},
   "outputs": [
    {
     "name": "stdout",
     "output_type": "stream",
     "text": [
      "hll wrld\n",
      "eoo\n"
     ]
    }
   ],
   "source": [
    "#input= \"12hello3 4world4\" ---->output  \"hll wrld \" and\"eoo\"\n",
    "st=\"12hello3 4world4\"\n",
    "result=\"\"\n",
    "result1 =\"\"\n",
    "for i in st:\n",
    "    if i not in \"aeiou123456789\" or i ==' ':\n",
    "        result+=i\n",
    "    elif i in \"aeiou\":\n",
    "        result1+=i\n",
    "        \n",
    "print(result)\n",
    "print(result1)\n"
   ]
  },
  {
   "cell_type": "code",
   "execution_count": 68,
   "metadata": {},
   "outputs": [
    {
     "name": "stdout",
     "output_type": "stream",
     "text": [
      "hll wrld\n",
      "eoo\n",
      "12344\n"
     ]
    }
   ],
   "source": [
    "#input= \"12hello3 4world4\" ---->output  \"hll wrld \" and\"eoo\" and \"12344\"\n",
    "st=\"12hello3 4world4\"\n",
    "result=\"\"\n",
    "result1 =\"\"\n",
    "result2=\"\"\n",
    "for i in st:\n",
    "    if i not in \"aeiou123456789\" or i ==' ':\n",
    "        result+=i\n",
    "    elif i in \"aeiou\":\n",
    "        result1+=i\n",
    "    elif i in \"1234567890\":\n",
    "        result2+=i  \n",
    "print(result)\n",
    "print(result1)\n",
    "print(result2)"
   ]
  },
  {
   "cell_type": "code",
   "execution_count": 90,
   "metadata": {},
   "outputs": [
    {
     "name": "stdout",
     "output_type": "stream",
     "text": [
      "hllwrld\n",
      "eoo\n",
      "12344\n",
      "*$$#*\n"
     ]
    }
   ],
   "source": [
    "#input= \"12hello3 4world4\" ---->output  \"hll wrld \" and\"eoo\" and \"12344\" and \"*#$$#*\"\n",
    "st=\"*12hello3$ $4#world4*\"\n",
    "result=\"\"\n",
    "result1 =\"\"\n",
    "result2=\"\"\n",
    "result3=\"\"\n",
    "for i in st:\n",
    "    if i >='a'and i<='z' and i not in\"aeiou1234567890\":\n",
    "        result+=i\n",
    "    elif i in \"aeiou\":\n",
    "        result1+=i\n",
    "    elif i in \"1234567890\":\n",
    "        result2+=i  \n",
    "    elif not(i>='a' and i<='z' or i>='0' and i<='9') and i!=' ':\n",
    "        result3+=i\n",
    "print(result)\n",
    "print(result1)\n",
    "print(result2)\n",
    "print(result3)"
   ]
  },
  {
   "cell_type": "code",
   "execution_count": 96,
   "metadata": {},
   "outputs": [
    {
     "name": "stdout",
     "output_type": "stream",
     "text": [
      "hllwrld\n",
      "eoo\n",
      "12344\n",
      "(*$$#*)\n"
     ]
    }
   ],
   "source": [
    "#input= \"(12hello3 4world4)\" ---->output  \"hll wrld \" and\"eoo\" and \"12344\" and \"(*#$$#*)\"\n",
    "st=\"(*12hello3$ $4#world4*)\"\n",
    "result=\"\"\n",
    "result1 =\"\"\n",
    "result2=\"\"\n",
    "result3=\"\"\n",
    "for i in st:\n",
    "    if i >='a'and i<='z' and i not in\"aeiou1234567890\":\n",
    "        result+=i\n",
    "    elif i in \"aeiou\":\n",
    "        result1+=i\n",
    "    elif i in \"1234567890\":\n",
    "        result2+=i  \n",
    "    elif not(i>='a' and i<='z' or i>='0' and i<='9') and i!=' ' :\n",
    "        result3+=i\n",
    "print(result)\n",
    "print(result1)\n",
    "print(result2)\n",
    "print(result3)"
   ]
  },
  {
   "cell_type": "code",
   "execution_count": 3,
   "metadata": {},
   "outputs": [
    {
     "name": "stdout",
     "output_type": "stream",
     "text": [
      ")*#$$*(,44321,ooe,dlrwllh\n"
     ]
    }
   ],
   "source": [
    "#input= \"(12hello3 4world4)\" ---->output  \")*#$$*(,44321,ooe,dlrwllh\"\n",
    "st=\"(*12hello3$ $4#world4*)\"\n",
    "result=\"\"\n",
    "result1 =\"\"\n",
    "result2=\"\"\n",
    "result3=\"\"\n",
    "for i in st:\n",
    "    if not(i>='a' and i<='z' or i>='0' and i<='9') and i!=' ' :\n",
    "        result+=i\n",
    "    elif i in \"123456789\":\n",
    "        result1+=i\n",
    "    elif i in \"aeiou\":\n",
    "        result2+=i  \n",
    "    elif i >='a'and i<='z' and i not in\"aeiou1234567890\":\n",
    "        result3+=i\n",
    "print(result[::-1],result1[::-1],result2[::-1],result3[::-1],sep=',')\n"
   ]
  },
  {
   "cell_type": "code",
   "execution_count": 6,
   "metadata": {},
   "outputs": [
    {
     "name": "stdout",
     "output_type": "stream",
     "text": [
      "hllwrld,eoo,12344,(*$$#*)\n"
     ]
    }
   ],
   "source": [
    "#input= \"(12hello3 4world4)\" ---->output  \"hllwrld,eoo,12344,(*$$#*)\"\n",
    "st=\"(*12hello3$ $4#world4*)\"\n",
    "result=\"\"\n",
    "result1 =\"\"\n",
    "result2=\"\"\n",
    "result3=\"\"\n",
    "for i in st:\n",
    "    if not(i>='a' and i<='z' or i>='0' and i<='9') and i!=' ' :\n",
    "        result+=i\n",
    "    elif i in \"123456789\":\n",
    "        result1+=i\n",
    "    elif i in \"aeiou\":\n",
    "        result2+=i  \n",
    "    elif i >='a'and i<='z' and i not in\"aeiou1234567890\":\n",
    "        result3+=i\n",
    "print(result3,result2,result1,result,sep=',')\n"
   ]
  },
  {
   "cell_type": "code",
   "execution_count": 10,
   "metadata": {},
   "outputs": [
    {
     "name": "stdout",
     "output_type": "stream",
     "text": [
      "hllwrld,)*#$$*(,eoo,44321\n"
     ]
    }
   ],
   "source": [
    "#input= \"(12hello3 4world4)\" ---->output  \"hllwrld,)*#$$*(,eoo,44321\"\n",
    "st=\"(*12hello3$ $4#world4*)\"\n",
    "result=\"\"\n",
    "result1 =\"\"\n",
    "result2=\"\"\n",
    "result3=\"\"\n",
    "for i in st:\n",
    "    if not(i>='a' and i<='z' or i>='0' and i<='9') and i!=' ' :\n",
    "        result+=i\n",
    "    elif i in \"123456789\":\n",
    "        result1+=i\n",
    "    elif i in \"aeiou\":\n",
    "        result2+=i  \n",
    "    elif i >='a'and i<='z' and i not in\"aeiou1234567890\":\n",
    "        result3+=i\n",
    "print(result3,result[::-1],result2,result1[::-1],sep=',')\n"
   ]
  },
  {
   "cell_type": "code",
   "execution_count": 16,
   "metadata": {},
   "outputs": [
    {
     "name": "stdout",
     "output_type": "stream",
     "text": [
      ")*#$$*(,44321,ooe,dlrwllh\n"
     ]
    }
   ],
   "source": [
    "#input= \"(12hello3 4world4)\" ---->output  \")*#$$*(,44321,ooe,dlrwllh\"\n",
    "st=\"(*12hello3$ $4#world4*)\"\n",
    "result=\"\"\n",
    "result1 =\"\"\n",
    "result2=\"\"\n",
    "result3=\"\"\n",
    "for i in st:\n",
    "    if not(i>='a' and i<='z' or i>='0' and i<='9') and i!=' ' :\n",
    "        result+=i\n",
    "    elif i in \"123456789\":\n",
    "        result1+=i\n",
    "    elif i in \"aeiou\":\n",
    "        result2+=i  \n",
    "    elif i >='a'and i<='z' and i not in\"aeiou1234567890\":\n",
    "        result3+=i\n",
    "print(result[::-1],result1[::-1],result2[::-1],result3[::-1],sep=',')\n"
   ]
  },
  {
   "cell_type": "code",
   "execution_count": 21,
   "metadata": {},
   "outputs": [
    {
     "name": "stdout",
     "output_type": "stream",
     "text": [
      "dlrwllh)*#$$*(ooe44321\n"
     ]
    }
   ],
   "source": [
    "#input= \"(12hello3 4world4)\" ---->output  \")*#$$*(,44321,ooe,dlrwllh\"\n",
    "st=\"(*12hello3$ $4#world4*)\"\n",
    "result=\"\"\n",
    "result1 =\"\"\n",
    "result2=\"\"\n",
    "result3=\"\"\n",
    "for i in st:\n",
    "    if not(i>='a' and i<='z' or i>='0' and i<='9') and i!=' ' :\n",
    "        result+=i\n",
    "    elif i in \"123456789\":\n",
    "        result1+=i\n",
    "    elif i in \"aeiou\":\n",
    "        result2+=i  \n",
    "    elif i >='a'and i<='z' and i not in\"aeiou1234567890\":\n",
    "        result3+=i\n",
    "print(result3[::-1],result[::-1],result2[::-1],result1[::-1],sep='')\n"
   ]
  },
  {
   "cell_type": "code",
   "execution_count": 41,
   "metadata": {},
   "outputs": [
    {
     "name": "stdout",
     "output_type": "stream",
     "text": [
      "h$ll*w*rld\n"
     ]
    }
   ],
   "source": [
    "#input \"HELLOWORLD\" output\"h$ll*w*rld\"\n",
    "st=\"HELLOWORLD\"\n",
    "result=\"\"\n",
    "for i in st:\n",
    "    if i>='A' and i<='Z' :\n",
    "        if i=='E':\n",
    "            i='$'\n",
    "            result+=i\n",
    "        elif i=='O':\n",
    "            i='*'\n",
    "            result+=i\n",
    "        else:\n",
    "            result+=chr(ord(i)+32)          \n",
    "print(result)"
   ]
  },
  {
   "cell_type": "code",
   "execution_count": 42,
   "metadata": {},
   "outputs": [
    {
     "name": "stdout",
     "output_type": "stream",
     "text": [
      "hllwrld21\n"
     ]
    }
   ],
   "source": [
    "#input=\"123HELLO WORLD456\" output=\"hllwrld21\"\n",
    "st=\"123HELLO WORLD456\"\n",
    "i=0\n",
    "sum=0\n",
    "res=\"\"\n",
    "while i<=len(st)-1:\n",
    "    ch=st[i]\n",
    "    if ch>='A' and ch<='Z':\n",
    "        if ch not in \"AEIOU\":\n",
    "            res+=chr(ord(ch)+32)\n",
    "    if ch>='0' and ch<='9':\n",
    "        sum+=int(ch)\n",
    "    i+=1\n",
    "res+=str(sum)\n",
    "print(res)"
   ]
  },
  {
   "cell_type": "code",
   "execution_count": 44,
   "metadata": {},
   "outputs": [
    {
     "name": "stdout",
     "output_type": "stream",
     "text": [
      "123hEllO wOrld456\n"
     ]
    }
   ],
   "source": [
    "#input=\"123HELLO WORLD456\" output=\"123hEllO wOrld456\"\n",
    "st=\"123HELLO WORLD456\"\n",
    "i=0\n",
    "res=\"\"\n",
    "while i<=len(st)-1:\n",
    "    ch=st[i]\n",
    "    if ch>='A' and ch<='Z':\n",
    "        if ch in \"AEIOU\":\n",
    "            res+=ch\n",
    "        else:\n",
    "            res+=chr(ord(ch)+32)\n",
    "    else:\n",
    "        res+=ch\n",
    "    i+=1\n",
    "print(res)"
   ]
  },
  {
   "cell_type": "code",
   "execution_count": 58,
   "metadata": {},
   "outputs": [
    {
     "name": "stdout",
     "output_type": "stream",
     "text": [
      "123*E**O *O***456\n"
     ]
    }
   ],
   "source": [
    "#input \"123HELLO WORLD456\" output\"123*E**O *O***456\"\n",
    "st=\"123HELLO WORLD456\"\n",
    "result=\"\"\n",
    "for i in st:\n",
    "    if i>='A' and i<='Z' :\n",
    "        if i>='A' and i<='Z'  and i not in\"AEIOU\":\n",
    "            i='*'\n",
    "            result+=i\n",
    "    if  i>='A' and i<='Z' and i in \"AEIOU\" or i ==' ' or i in\"123456789\":\n",
    "            result+=i    \n",
    "print(result)"
   ]
  },
  {
   "cell_type": "code",
   "execution_count": 59,
   "metadata": {},
   "outputs": [
    {
     "name": "stdout",
     "output_type": "stream",
     "text": [
      "321hEllO wOrld654\n"
     ]
    }
   ],
   "source": [
    "#input \"123HELLO WORLD456\" output \"321hEllO wOrld654\"\n",
    "st=\"123HELLO WORLD456\"\n",
    "i=0\n",
    "res=\"\"\n",
    "while i<=len(st)-3:\n",
    "    ch=st[i]\n",
    "    ch1=st[i+1]\n",
    "    ch2=st[i+2]\n",
    "    if ch>='A' and ch<='Z' or ch==' ':\n",
    "        if ch in \"AEIOU\" or ch==' ':\n",
    "            res+=ch\n",
    "        else:\n",
    "            res+=chr(ord(ch)+32)\n",
    "    elif (ch>='0' and ch<='9') and (ch1>='0' and ch1<='9') and (ch2>='0' and ch2<='9'):\n",
    "        res+=ch2+ch1+ch  \n",
    "    i+=1\n",
    "print(res)"
   ]
  },
  {
   "cell_type": "code",
   "execution_count": 67,
   "metadata": {},
   "outputs": [
    {
     "name": "stdout",
     "output_type": "stream",
     "text": [
      "321*E**O *O***654\n"
     ]
    }
   ],
   "source": [
    "#input \"123HELLO WORLD456\" output \"321*E**O *O***654\"\n",
    "st=\"123HELLO WORLD456\"\n",
    "i=0\n",
    "res=\"\"\n",
    "while i<=len(st)-3:\n",
    "    ch=st[i]\n",
    "    ch1=st[i+1]\n",
    "    ch2=st[i+2]\n",
    "    if ch>='A' and ch<='Z' or ch==' ':\n",
    "        if ch in \"AEIOU\" or ch==' ':\n",
    "            res+=ch\n",
    "        else:\n",
    "            ch='*'\n",
    "            res+=ch\n",
    "    elif (ch>='0' and ch<='9') and (ch1>='0' and ch1<='9') and (ch2>='0' and ch2<='9'):\n",
    "        res+=ch2+ch1+ch  \n",
    "    i+=1\n",
    "print(res)"
   ]
  },
  {
   "cell_type": "code",
   "execution_count": 76,
   "metadata": {},
   "outputs": [
    {
     "name": "stdout",
     "output_type": "stream",
     "text": [
      "axbycz\n"
     ]
    }
   ],
   "source": [
    "#input=\"abc\",\"xyz\" output=\"axbycz\"\n",
    "st=\"abc\"\n",
    "st1=\"xyz\"\n",
    "result=\"\"\n",
    "i=0\n",
    "j=0\n",
    "while i<=len(st)-1 and j<=len(st1)-1:\n",
    "    ch=st[i]\n",
    "    ch1=st1[j]\n",
    "    result+=ch\n",
    "    result+=ch1\n",
    "    i+=1\n",
    "    j+=1\n",
    "print(result)"
   ]
  },
  {
   "cell_type": "code",
   "execution_count": 86,
   "metadata": {},
   "outputs": [
    {
     "name": "stdout",
     "output_type": "stream",
     "text": [
      "axbyczw\n"
     ]
    }
   ],
   "source": [
    "#input=\"abc\",\"xyzw\" output=\"axbyczw\"\n",
    "st=\"abc\"\n",
    "st1=\"xyzw\"\n",
    "result=\"\"\n",
    "i=0\n",
    "j=0\n",
    "while i<len(st) and j<len(st1):\n",
    "    ch=st[i]\n",
    "    ch1=st1[j]\n",
    "    result+=ch\n",
    "    result+=ch1\n",
    "    i+=1\n",
    "    j+=1\n",
    "if st1[-1]>='a'and st1[-1]<='z':\n",
    "    result+=st1[-1]\n",
    "print(result)"
   ]
  },
  {
   "cell_type": "code",
   "execution_count": 88,
   "metadata": {},
   "outputs": [
    {
     "name": "stdout",
     "output_type": "stream",
     "text": [
      "axbyczd\n"
     ]
    }
   ],
   "source": [
    "#input=\"abcd\",\"xyz\" output=\"axbyczd\"\n",
    "st=\"abcd\"\n",
    "st1=\"xyz\"\n",
    "result=\"\"\n",
    "i=0\n",
    "j=0\n",
    "while i<len(st) and j<len(st1):\n",
    "    ch=st[i]\n",
    "    ch1=st1[j]\n",
    "    result+=ch\n",
    "    result+=ch1\n",
    "    i+=1\n",
    "    j+=1\n",
    "if st[-1]>='a'and st[-1]<='z':\n",
    "    result+=st[-1]\n",
    "print(result)"
   ]
  },
  {
   "cell_type": "code",
   "execution_count": 98,
   "metadata": {},
   "outputs": [
    {
     "name": "stdout",
     "output_type": "stream",
     "text": [
      "axbyczwop\n",
      "axbyczwop\n"
     ]
    }
   ],
   "source": [
    "#input=\"abc\",\"xyzwop\" output=\"axbyczwop\"\n",
    "st=\"abc\"\n",
    "st1=\"xyzwop\"\n",
    "result=\"\"\n",
    "i=0\n",
    "j=0\n",
    "while i<len(st) and  j<len(st1):\n",
    "    ch=st[i]\n",
    "    ch1=st1[j]\n",
    "    result+=ch\n",
    "    result+=ch1\n",
    "    i+=1\n",
    "    j+=1\n",
    "for k in range(len(st),len(st1)):\n",
    "    result+=st1[k]\n",
    "print(result)\n",
    "\n",
    "#########################################\n",
    "res=\"\"\n",
    "k=0\n",
    "l=0\n",
    "while k<len(st) or l<len(st1):\n",
    "    if k<len(st):\n",
    "        res+=st[k]\n",
    "    if l<len(st1):\n",
    "        res+=st1[l]\n",
    "    k+=1\n",
    "    l+=1\n",
    "print(res)\n",
    "         "
   ]
  },
  {
   "cell_type": "code",
   "execution_count": 129,
   "metadata": {},
   "outputs": [
    {
     "name": "stdout",
     "output_type": "stream",
     "text": [
      "a1b2c34\n"
     ]
    }
   ],
   "source": [
    "#input=\"abc123\" output=\"a1b2c3\"\n",
    "st=\"abc123\"\n",
    "i=0\n",
    "res=\"\"\n",
    "res1=\"\"\n",
    "op=\"\"\n",
    "while i<=len(st)-1:\n",
    "    ch=st[i]\n",
    "    if ch>='a' and ch<='z':\n",
    "        res+=ch\n",
    "    if ch>='0' and ch<='9':\n",
    "        res1+=ch\n",
    "    i+=1\n",
    "j=0\n",
    "while j<=len(res)-1 or j<=len(res1)-1:\n",
    "    if j<=len(res)-1:\n",
    "        op+=res[j]\n",
    "    if j<=len(st1)-1:\n",
    "        op+=res1[j]\n",
    "    j+=1\n",
    "print(op)\n",
    "        "
   ]
  },
  {
   "cell_type": "code",
   "execution_count": 131,
   "metadata": {},
   "outputs": [
    {
     "name": "stdout",
     "output_type": "stream",
     "text": [
      "a1b2c\n"
     ]
    }
   ],
   "source": [
    "#input=\"abc12\" output=\"a1b2c\"\n",
    "st=\"abc12\"\n",
    "i=0\n",
    "res=\"\"\n",
    "res1=\"\"\n",
    "op=\"\"\n",
    "while i<len(st):\n",
    "    ch=st[i]\n",
    "    if ch>='a' and ch<='z':\n",
    "        res+=ch\n",
    "    if ch>='0' and ch<='9':\n",
    "        res1+=ch\n",
    "    i+=1\n",
    "j=0\n",
    "while j<len(res) or j<len(res1):\n",
    "    if j<len(res):\n",
    "        op+=res[j]\n",
    "    if j<len(res1):\n",
    "        op+=res1[j]\n",
    "    j+=1\n",
    "print(op)\n",
    "        "
   ]
  },
  {
   "cell_type": "code",
   "execution_count": 3,
   "metadata": {},
   "outputs": [
    {
     "name": "stdout",
     "output_type": "stream",
     "text": [
      "a1b2c34\n"
     ]
    }
   ],
   "source": [
    "#input=\"abc12\" output=\"a1b2c\"\n",
    "st=\"1abc234\"\n",
    "i=0\n",
    "res=\"\"\n",
    "res1=\"\"\n",
    "op=\"\"\n",
    "while i<len(st):\n",
    "    ch=st[i]\n",
    "    if ch>='a' and ch<='z':\n",
    "        res+=ch\n",
    "    if ch>='0' and ch<='9':\n",
    "        res1+=ch\n",
    "    i+=1\n",
    "j=0\n",
    "while j<len(res) or j<len(res1):\n",
    "    if j<len(res):\n",
    "        op+=res[j]\n",
    "    if j<len(res1):\n",
    "        op+=res1[j]\n",
    "    j+=1\n",
    "print(op)\n",
    "        "
   ]
  },
  {
   "cell_type": "code",
   "execution_count": null,
   "metadata": {},
   "outputs": [],
   "source": []
  }
 ],
 "metadata": {
  "kernelspec": {
   "display_name": "Python 3",
   "language": "python",
   "name": "python3"
  },
  "language_info": {
   "codemirror_mode": {
    "name": "ipython",
    "version": 3
   },
   "file_extension": ".py",
   "mimetype": "text/x-python",
   "name": "python",
   "nbconvert_exporter": "python",
   "pygments_lexer": "ipython3",
   "version": "3.10.0"
  }
 },
 "nbformat": 4,
 "nbformat_minor": 2
}
