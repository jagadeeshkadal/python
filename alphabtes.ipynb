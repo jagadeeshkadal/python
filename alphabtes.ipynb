{
 "cells": [
  {
   "cell_type": "markdown",
   "metadata": {},
   "source": [
    "  * * *    \n",
    "*       *  \n",
    "* * * * *  \n",
    "*       *  \n",
    "*       * "
   ]
  },
  {
   "cell_type": "code",
   "execution_count": 2,
   "metadata": {},
   "outputs": [
    {
     "name": "stdout",
     "output_type": "stream",
     "text": [
      "  * * *    \n",
      "*       *  \n",
      "* * * * *  \n",
      "*       *  \n",
      "*       *  \n"
     ]
    }
   ],
   "source": [
    "i=1\n",
    "while i<=5:\n",
    "    j=1\n",
    "    while j<=5:\n",
    "        if (i==1 or j==1 or i==3 or j==5 ):\n",
    "            if i==1 and j==1 or i==1 and j==5:\n",
    "                print(\"  \",end='')\n",
    "            else:\n",
    "                print(\"*\",end=' ')\n",
    "        else:\n",
    "            print(\" \",end=' ')\n",
    "        j+=1\n",
    "    print(\" \")\n",
    "    i+=1\n",
    "    \n"
   ]
  },
  {
   "cell_type": "markdown",
   "metadata": {},
   "source": [
    "* * * *    \n",
    "*       *  \n",
    "* * * *    \n",
    "*       *  \n",
    "* * * *    "
   ]
  },
  {
   "cell_type": "code",
   "execution_count": 12,
   "metadata": {},
   "outputs": [
    {
     "name": "stdout",
     "output_type": "stream",
     "text": [
      "* * * *    \n",
      "*       *  \n",
      "* * * *    \n",
      "*       *  \n",
      "* * * *    \n"
     ]
    }
   ],
   "source": [
    "i=1\n",
    "while i<=5:\n",
    "    j=1\n",
    "    while j<=5:\n",
    "        if (i==1 or j==1 or i==3 or j==5 or i==5):\n",
    "            if(i==1 and j==5)  or (i==3 and j==5) or(i==5 and j==5):\n",
    "                print(\"  \",end='')\n",
    "            else:\n",
    "                print(\"*\",end=' ')\n",
    "        else:\n",
    "            print(\" \",end=' ')\n",
    "        j+=1\n",
    "    print(\" \")\n",
    "    i+=1\n",
    "    \n"
   ]
  },
  {
   "cell_type": "markdown",
   "metadata": {},
   "source": [
    "  * * * *  \n",
    "*          \n",
    "*          \n",
    "*          \n",
    "  * * * * "
   ]
  },
  {
   "cell_type": "code",
   "execution_count": 14,
   "metadata": {},
   "outputs": [
    {
     "name": "stdout",
     "output_type": "stream",
     "text": [
      "  * * * *  \n",
      "*          \n",
      "*          \n",
      "*          \n",
      "  * * * *  \n"
     ]
    }
   ],
   "source": [
    "i=1\n",
    "while i<=5:\n",
    "    j=1\n",
    "    while j<=5:\n",
    "        if  (i==1) or (j==1) or (i==5):\n",
    "            if (i==1 and j==1) or (i==5 and j==1):\n",
    "                print(\" \",end=' ')\n",
    "            else:\n",
    "                print(\"*\",end=\" \")\n",
    "        else:\n",
    "            print(\" \",end=' ')\n",
    "        j+=1\n",
    "    print(\" \")\n",
    "    i+=1"
   ]
  },
  {
   "cell_type": "markdown",
   "metadata": {},
   "source": [
    "* * * *    \n",
    "*       *  \n",
    "*       *  \n",
    "*       *  \n",
    "* * * *  "
   ]
  },
  {
   "cell_type": "code",
   "execution_count": 16,
   "metadata": {},
   "outputs": [
    {
     "name": "stdout",
     "output_type": "stream",
     "text": [
      "* * * *    \n",
      "*       *  \n",
      "*       *  \n",
      "*       *  \n",
      "* * * *    \n"
     ]
    }
   ],
   "source": [
    "i=1\n",
    "while i<=5:\n",
    "    j=1\n",
    "    while j<=5:\n",
    "        if  (i==1) or (j==1) or (i==5) or (j==5):\n",
    "            if (i==1 and j==5) or (i==5 and j==5):\n",
    "                print(\" \",end=' ')\n",
    "            else:\n",
    "                print(\"*\",end=\" \")\n",
    "        else:\n",
    "            print(\" \",end=' ')\n",
    "        j+=1\n",
    "    print(\" \")\n",
    "    i+=1"
   ]
  },
  {
   "cell_type": "markdown",
   "metadata": {},
   "source": [
    "* * * * *  \n",
    "*          \n",
    "* * * * *  \n",
    "*          \n",
    "* * * * *"
   ]
  },
  {
   "cell_type": "code",
   "execution_count": 18,
   "metadata": {},
   "outputs": [
    {
     "name": "stdout",
     "output_type": "stream",
     "text": [
      "* * * * *  \n",
      "*          \n",
      "* * * * *  \n",
      "*          \n",
      "* * * * *  \n"
     ]
    }
   ],
   "source": [
    "i=1\n",
    "while i<=5:\n",
    "    j=1\n",
    "    while j<=5:\n",
    "        if  (i==1) or (j==1) or (i==5) or (i==3):\n",
    "            print(\"*\",end=\" \")\n",
    "        else:\n",
    "            print(\" \",end=' ')\n",
    "        j+=1\n",
    "    print(\" \")\n",
    "    i+=1"
   ]
  },
  {
   "cell_type": "markdown",
   "metadata": {},
   "source": [
    "* * * * *  \n",
    "*          \n",
    "* * * * *  \n",
    "*          \n",
    "*        "
   ]
  },
  {
   "cell_type": "code",
   "execution_count": 20,
   "metadata": {},
   "outputs": [
    {
     "name": "stdout",
     "output_type": "stream",
     "text": [
      "* * * * *  \n",
      "*          \n",
      "* * * * *  \n",
      "*          \n",
      "*          \n"
     ]
    }
   ],
   "source": [
    "i=1\n",
    "while i<=5:\n",
    "    j=1\n",
    "    while j<=5:\n",
    "        if  (i==1) or (j==1) or (i==3):\n",
    "            print(\"*\",end=\" \")\n",
    "        else:\n",
    "            print(\" \",end=' ')\n",
    "        j+=1\n",
    "    print(\" \")\n",
    "    i+=1"
   ]
  },
  {
   "cell_type": "markdown",
   "metadata": {},
   "source": [
    "* * * * *  \n",
    "*          \n",
    "*   * * *  \n",
    "*       *  \n",
    "* * * * * "
   ]
  },
  {
   "cell_type": "code",
   "execution_count": 23,
   "metadata": {},
   "outputs": [
    {
     "name": "stdout",
     "output_type": "stream",
     "text": [
      "* * * * *  \n",
      "*          \n",
      "*   * * *  \n",
      "*       *  \n",
      "* * * * *  \n"
     ]
    }
   ],
   "source": [
    "i=1\n",
    "while i<=5:\n",
    "    j=1\n",
    "    while j<=5:\n",
    "        if  (i==1) or (j==1) or (i==5) or (i==3)or (i==4 and j==5) :\n",
    "            if (i==3 and j==2):\n",
    "                print(\" \",end=' ')\n",
    "            else:\n",
    "                print(\"*\",end=' ')\n",
    "        else:\n",
    "            print(\" \",end=' ')\n",
    "        j+=1\n",
    "    print(\" \")\n",
    "    i+=1"
   ]
  },
  {
   "cell_type": "markdown",
   "metadata": {},
   "source": [
    "*       *  \n",
    "*       *  \n",
    "* * * * *  \n",
    "*       *  \n",
    "*       *  "
   ]
  },
  {
   "cell_type": "code",
   "execution_count": 27,
   "metadata": {},
   "outputs": [
    {
     "name": "stdout",
     "output_type": "stream",
     "text": [
      "*       *  \n",
      "*       *  \n",
      "* * * * *  \n",
      "*       *  \n",
      "*       *  \n"
     ]
    }
   ],
   "source": [
    "i=1\n",
    "while i<=5:\n",
    "    j=1\n",
    "    while j<=5:\n",
    "        if  (j==1)  or (i==3) or j==5:\n",
    "            print(\"*\",end=\" \")\n",
    "        else:\n",
    "            print(\" \",end=' ')\n",
    "        j+=1\n",
    "    print(\" \")\n",
    "    i+=1"
   ]
  },
  {
   "cell_type": "markdown",
   "metadata": {},
   "source": [
    "* * * * *  \n",
    "    *      \n",
    "    *      \n",
    "    *      \n",
    "* * * * * "
   ]
  },
  {
   "cell_type": "code",
   "execution_count": 36,
   "metadata": {},
   "outputs": [
    {
     "name": "stdout",
     "output_type": "stream",
     "text": [
      "* * * * *  \n",
      "    *      \n",
      "    *      \n",
      "    *      \n",
      "* * * * *  \n"
     ]
    }
   ],
   "source": [
    "i=1\n",
    "while i<=5:\n",
    "    j=1\n",
    "    while j<=5:\n",
    "        if (i==1) or (i==5) or(j==3):\n",
    "            print(\"*\",end=\" \")\n",
    "        else:\n",
    "            print(\" \",end=' ')\n",
    "        j+=1\n",
    "    print(\" \")\n",
    "    i+=1"
   ]
  },
  {
   "cell_type": "markdown",
   "metadata": {},
   "source": [
    "* * * * *  \n",
    "    *      \n",
    "    *      \n",
    "    *      \n",
    "* * *    "
   ]
  },
  {
   "cell_type": "code",
   "execution_count": 38,
   "metadata": {},
   "outputs": [
    {
     "name": "stdout",
     "output_type": "stream",
     "text": [
      "* * * * *  \n",
      "    *      \n",
      "    *      \n",
      "    *      \n",
      "* * *      \n"
     ]
    }
   ],
   "source": [
    "i=1\n",
    "while i<=5:\n",
    "    j=1\n",
    "    while j<=5:\n",
    "        if (i==1) or (i==5) or(j==3):\n",
    "            if (i==5 and j==4) or (i==5 and j==5):\n",
    "                print(\" \",end=' ')\n",
    "            else:        \n",
    "                print(\"*\",end=\" \")\n",
    "        else:\n",
    "            print(\" \",end=' ')\n",
    "        j+=1\n",
    "    print(\" \")\n",
    "    i+=1"
   ]
  },
  {
   "cell_type": "markdown",
   "metadata": {},
   "source": [
    "*     *    \n",
    "*   *      \n",
    "* *        \n",
    "*   *      \n",
    "*     * "
   ]
  },
  {
   "cell_type": "code",
   "execution_count": 50,
   "metadata": {},
   "outputs": [
    {
     "name": "stdout",
     "output_type": "stream",
     "text": [
      "*     *    \n",
      "*   *      \n",
      "* *        \n",
      "*   *      \n",
      "*     *    \n"
     ]
    }
   ],
   "source": [
    "i=1\n",
    "while i<=5:\n",
    "    j=1\n",
    "    while j<=5:\n",
    "        if (j==1)or (i==3 and j==2) or (i==2 and j==3)or(i==1 and j==4) or (i==4 and j==3) or (i==5 and j==4):\n",
    "       \n",
    "            print(\"*\",end=\" \")\n",
    "        else:\n",
    "            print(\" \",end=' ')\n",
    "        j+=1\n",
    "    print(\" \")\n",
    "    i+=1"
   ]
  },
  {
   "cell_type": "markdown",
   "metadata": {},
   "source": [
    "*          \n",
    "*          \n",
    "*          \n",
    "*          \n",
    "* * * * *  "
   ]
  },
  {
   "cell_type": "code",
   "execution_count": 53,
   "metadata": {},
   "outputs": [
    {
     "name": "stdout",
     "output_type": "stream",
     "text": [
      "*          \n",
      "*          \n",
      "*          \n",
      "*          \n",
      "* * * * *  \n"
     ]
    }
   ],
   "source": [
    "i=1\n",
    "while i<=5:\n",
    "    j=1\n",
    "    while j<=5:\n",
    "        if (j==1) or (i==5):\n",
    "            print(\"*\",end=\" \")\n",
    "        else:\n",
    "            print(\" \",end=' ')\n",
    "        j+=1\n",
    "    print(\" \")\n",
    "    i+=1"
   ]
  },
  {
   "cell_type": "markdown",
   "metadata": {},
   "source": [
    "*       *  \n",
    "* *   * *  \n",
    "*   *   *  \n",
    "*       *  \n",
    "*       *  "
   ]
  },
  {
   "cell_type": "code",
   "execution_count": 59,
   "metadata": {},
   "outputs": [
    {
     "name": "stdout",
     "output_type": "stream",
     "text": [
      "*       *  \n",
      "* *   * *  \n",
      "*   *   *  \n",
      "*       *  \n",
      "*       *  \n"
     ]
    }
   ],
   "source": [
    "i=1\n",
    "while i<=5:\n",
    "    j=1\n",
    "    while j<=5:\n",
    "        if (j==1) or (j==5) or (i==2 and j==2) or (i==3 and j==3) or (i==2 and j==4):\n",
    "            print(\"*\",end=\" \")\n",
    "        else:\n",
    "            print(\" \",end=' ')\n",
    "        j+=1\n",
    "    print(\" \")\n",
    "    i+=1"
   ]
  },
  {
   "cell_type": "markdown",
   "metadata": {},
   "source": [
    "*       *  \n",
    "* *     *  \n",
    "*   *   *  \n",
    "*     * *  \n",
    "*       *  "
   ]
  },
  {
   "cell_type": "code",
   "execution_count": 63,
   "metadata": {},
   "outputs": [
    {
     "name": "stdout",
     "output_type": "stream",
     "text": [
      "*       *  \n",
      "* *     *  \n",
      "*   *   *  \n",
      "*     * *  \n",
      "*       *  \n"
     ]
    }
   ],
   "source": [
    "i=1\n",
    "while i<=5:\n",
    "    j=1\n",
    "    while j<=5:\n",
    "        if (j==1) or (j==5) or i==j:\n",
    "            print(\"*\",end=\" \")\n",
    "        else:\n",
    "            print(\" \",end=' ')\n",
    "        j+=1\n",
    "    print(\" \")\n",
    "    i+=1"
   ]
  },
  {
   "cell_type": "markdown",
   "metadata": {},
   "source": [
    "  * * *    \n",
    "*       *  \n",
    "*       *  \n",
    "*       *  \n",
    "  * * *   "
   ]
  },
  {
   "cell_type": "code",
   "execution_count": 66,
   "metadata": {},
   "outputs": [
    {
     "name": "stdout",
     "output_type": "stream",
     "text": [
      "  * * *    \n",
      "*       *  \n",
      "*       *  \n",
      "*       *  \n",
      "  * * *    \n"
     ]
    }
   ],
   "source": [
    "i=1\n",
    "while i<=5:\n",
    "    j=1\n",
    "    while j<=5:\n",
    "        if (j==1) or (j==5) or (i==1) or (i==5):\n",
    "            if (i==1 and j==1) or (i==1 and j==5) or (i==5 and j==5) or (i==5 and j==1):\n",
    "                print(\" \",end=\" \")\n",
    "            else:\n",
    "                print(\"*\",end=' ')\n",
    "        else:\n",
    "            print(\" \",end=' ')\n",
    "        j+=1\n",
    "    print(\" \")\n",
    "    i+=1"
   ]
  },
  {
   "cell_type": "markdown",
   "metadata": {},
   "source": [
    "* * * *    \n",
    "*       *  \n",
    "* * * *    \n",
    "*          \n",
    "*      "
   ]
  },
  {
   "cell_type": "code",
   "execution_count": 71,
   "metadata": {},
   "outputs": [
    {
     "name": "stdout",
     "output_type": "stream",
     "text": [
      "* * * *    \n",
      "*       *  \n",
      "* * * *    \n",
      "*          \n",
      "*          \n"
     ]
    }
   ],
   "source": [
    "i=1\n",
    "while i<=5:\n",
    "    j=1\n",
    "    while j<=5:\n",
    "        if (j==1) or (i==3) or (i==1) or (i==2 and j==5):\n",
    "            if (i==1 and j==5) or (i==3 and j==5):\n",
    "                print(\" \",end=\" \")\n",
    "            else:\n",
    "                print(\"*\",end=' ')\n",
    "        else:\n",
    "            print(\" \",end=' ')\n",
    "        j+=1\n",
    "    print(\" \")\n",
    "    i+=1"
   ]
  },
  {
   "cell_type": "markdown",
   "metadata": {},
   "source": [
    "  * * *    \n",
    "*       *  \n",
    "*   *   *  \n",
    "*     * *  \n",
    "  * * * *  "
   ]
  },
  {
   "cell_type": "code",
   "execution_count": 78,
   "metadata": {},
   "outputs": [
    {
     "name": "stdout",
     "output_type": "stream",
     "text": [
      "  * * *    \n",
      "*       *  \n",
      "*   *   *  \n",
      "*     * *  \n",
      "  * * * *  \n"
     ]
    }
   ],
   "source": [
    "i=1\n",
    "while i<=5:\n",
    "    j=1\n",
    "    while j<=5:\n",
    "        if (j==1) or (i==1) or (j==5) or (i==5) or (i==j):\n",
    "            if (i==1 and j==1) or (i==1 and j==5) or (i==5 and j==1) or (i==2 and j==2):\n",
    "                print(\" \",end=' ')\n",
    "            else:\n",
    "                print(\"*\",end=' ')\n",
    "        else:\n",
    "            print(\" \",end=' ')\n",
    "        j+=1\n",
    "    print(\" \")\n",
    "    i+=1"
   ]
  },
  {
   "cell_type": "markdown",
   "metadata": {},
   "source": [
    "* * * *    \n",
    "*       *  \n",
    "* * * *    \n",
    "*     *    \n",
    "*       *  "
   ]
  },
  {
   "cell_type": "code",
   "execution_count": 81,
   "metadata": {},
   "outputs": [
    {
     "name": "stdout",
     "output_type": "stream",
     "text": [
      "* * * *    \n",
      "*       *  \n",
      "* * * *    \n",
      "*     *    \n",
      "*       *  \n"
     ]
    }
   ],
   "source": [
    "i=1\n",
    "while i<=5:\n",
    "    j=1\n",
    "    while j<=5:\n",
    "        if (j==1) or (i==3) or (i==1) or (i==2 and j==5) or (i==j):\n",
    "            if (i==1 and j==5) or (i==3 and j==5) or (i==2 and j==2):\n",
    "                print(\" \",end=\" \")\n",
    "            else:\n",
    "                print(\"*\",end=' ')\n",
    "        else:\n",
    "            print(\" \",end=' ')\n",
    "        j+=1\n",
    "    print(\" \")\n",
    "    i+=1"
   ]
  },
  {
   "cell_type": "markdown",
   "metadata": {},
   "source": [
    "  * * * *  \n",
    "*          \n",
    "  * * *    \n",
    "        *  \n",
    "* * * *   "
   ]
  },
  {
   "cell_type": "code",
   "execution_count": 89,
   "metadata": {},
   "outputs": [
    {
     "name": "stdout",
     "output_type": "stream",
     "text": [
      "  * * * *  \n",
      "*          \n",
      "  * * *    \n",
      "        *  \n",
      "* * * *    \n"
     ]
    }
   ],
   "source": [
    "i=1\n",
    "while i<=5:\n",
    "    j=1\n",
    "    while j<=5:\n",
    "        if (i==3) or (i==1) or (i==5) or (i==2 and j==1) or (i==4 and j==5):\n",
    "            if (i==1 and j==1) or (i==3 and j==1) or (i==3 and j==5) or (i==5 and j==5):\n",
    "                print(\" \",end=' ')\n",
    "            else:\n",
    "                print(\"*\",end=' ')\n",
    "        else:\n",
    "            print(\" \",end=' ')\n",
    "        j+=1\n",
    "    print(\" \")\n",
    "    i+=1"
   ]
  },
  {
   "cell_type": "markdown",
   "metadata": {},
   "source": [
    "* * * * *  \n",
    "    *      \n",
    "    *      \n",
    "    *      \n",
    "    *     "
   ]
  },
  {
   "cell_type": "code",
   "execution_count": 90,
   "metadata": {},
   "outputs": [
    {
     "name": "stdout",
     "output_type": "stream",
     "text": [
      "* * * * *  \n",
      "    *      \n",
      "    *      \n",
      "    *      \n",
      "    *      \n"
     ]
    }
   ],
   "source": [
    "i=1\n",
    "while i<=5:\n",
    "    j=1\n",
    "    while j<=5:\n",
    "        if (j==3) or (i==1):\n",
    "            print(\"*\",end=\" \")\n",
    "        else:\n",
    "            print(\" \",end=' ')\n",
    "        j+=1\n",
    "    print(\" \")\n",
    "    i+=1"
   ]
  },
  {
   "cell_type": "markdown",
   "metadata": {},
   "source": [
    "*       *  \n",
    "*       *  \n",
    "*       *  \n",
    "*       *  \n",
    "  * * *  "
   ]
  },
  {
   "cell_type": "code",
   "execution_count": 94,
   "metadata": {},
   "outputs": [
    {
     "name": "stdout",
     "output_type": "stream",
     "text": [
      "*       *  \n",
      "*       *  \n",
      "*       *  \n",
      "*       *  \n",
      "  * * *    \n"
     ]
    }
   ],
   "source": [
    "i=1\n",
    "while i<=5:\n",
    "    j=1\n",
    "    while j<=5:\n",
    "        if (j==5) or (j==1) or (i==5):\n",
    "            if (i==5 and j==5)or (i==5 and j==1):\n",
    "                print(\" \",end=' ')\n",
    "            else:\n",
    "                print(\"*\",end=\" \")\n",
    "        else:\n",
    "            print(\" \",end=' ')\n",
    "        j+=1\n",
    "    print(\" \")\n",
    "    i+=1"
   ]
  },
  {
   "cell_type": "markdown",
   "metadata": {},
   "source": [
    "           \n",
    "*       *  \n",
    "  *   *    \n",
    "    *     "
   ]
  },
  {
   "cell_type": "code",
   "execution_count": 98,
   "metadata": {},
   "outputs": [
    {
     "name": "stdout",
     "output_type": "stream",
     "text": [
      "           \n",
      "           \n",
      "*       *  \n",
      "  *   *    \n",
      "    *      \n"
     ]
    }
   ],
   "source": [
    "i=1\n",
    "while i<=5:\n",
    "    j=1\n",
    "    while j<=5:\n",
    "        if ((i+j)==8) or (i==4 and j==2) or (i==3 and j==1):\n",
    "          print(\"*\",end=\" \")\n",
    "        else:\n",
    "            print(\" \",end=' ')\n",
    "        j+=1\n",
    "    print(\" \")\n",
    "    i+=1"
   ]
  },
  {
   "cell_type": "markdown",
   "metadata": {},
   "source": [
    "*       *  \n",
    "*       *  \n",
    "*   *   *  \n",
    "* *   * *  \n",
    "*       *  "
   ]
  },
  {
   "cell_type": "code",
   "execution_count": 104,
   "metadata": {},
   "outputs": [
    {
     "name": "stdout",
     "output_type": "stream",
     "text": [
      "*       *  \n",
      "*       *  \n",
      "*   *   *  \n",
      "* *   * *  \n",
      "*       *  \n"
     ]
    }
   ],
   "source": [
    "i=1\n",
    "while i<=5:\n",
    "    j=1\n",
    "    while j<=5:\n",
    "        if (j==1) or (j==5) or (i==4 and j==2) or (i==3 and j==3) or  (i==4 and j==4):\n",
    "          print(\"*\",end=\" \")\n",
    "        else:\n",
    "            print(\" \",end=' ')\n",
    "        j+=1\n",
    "    print(\" \")\n",
    "    i+=1"
   ]
  },
  {
   "cell_type": "markdown",
   "metadata": {},
   "source": [
    "*       *  \n",
    "  *   *    \n",
    "    *      \n",
    "  *   *    \n",
    "*       *  "
   ]
  },
  {
   "cell_type": "code",
   "execution_count": 106,
   "metadata": {},
   "outputs": [
    {
     "name": "stdout",
     "output_type": "stream",
     "text": [
      "*       *  \n",
      "  *   *    \n",
      "    *      \n",
      "  *   *    \n",
      "*       *  \n"
     ]
    }
   ],
   "source": [
    "i=1\n",
    "while i<=5:\n",
    "    j=1\n",
    "    while j<=5:\n",
    "        if (i+j==6) or (i==j):\n",
    "          print(\"*\",end=\" \")\n",
    "        else:\n",
    "            print(\" \",end=' ')\n",
    "        j+=1\n",
    "    print(\" \")\n",
    "    i+=1"
   ]
  },
  {
   "cell_type": "markdown",
   "metadata": {},
   "source": [
    "*       *  \n",
    "  *   *    \n",
    "    *      \n",
    "  *        \n",
    "*          "
   ]
  },
  {
   "cell_type": "code",
   "execution_count": 108,
   "metadata": {},
   "outputs": [
    {
     "name": "stdout",
     "output_type": "stream",
     "text": [
      "*       *  \n",
      "  *   *    \n",
      "    *      \n",
      "  *        \n",
      "*          \n"
     ]
    }
   ],
   "source": [
    "i=1\n",
    "while i<=5:\n",
    "    j=1\n",
    "    while j<=5:\n",
    "        if (i+j==6) or (i==1 and j==1) or (i==2 and j==2):\n",
    "          print(\"*\",end=\" \")\n",
    "        else:\n",
    "            print(\" \",end=' ')\n",
    "        j+=1\n",
    "    print(\" \")\n",
    "    i+=1"
   ]
  },
  {
   "cell_type": "markdown",
   "metadata": {},
   "source": [
    "* * * * *  \n",
    "      *    \n",
    "    *      \n",
    "  *        \n",
    "* * * * *  "
   ]
  },
  {
   "cell_type": "code",
   "execution_count": 110,
   "metadata": {},
   "outputs": [
    {
     "name": "stdout",
     "output_type": "stream",
     "text": [
      "* * * * *  \n",
      "      *    \n",
      "    *      \n",
      "  *        \n",
      "* * * * *  \n"
     ]
    }
   ],
   "source": [
    "i=1\n",
    "while i<=5:\n",
    "    j=1\n",
    "    while j<=5:\n",
    "        if (i+j==6) or (i==1) or (i==5):\n",
    "          print(\"*\",end=\" \")\n",
    "        else:\n",
    "            print(\" \",end=' ')\n",
    "        j+=1\n",
    "    print(\" \")\n",
    "    i+=1"
   ]
  }
 ],
 "metadata": {
  "kernelspec": {
   "display_name": "Python 3",
   "language": "python",
   "name": "python3"
  },
  "language_info": {
   "codemirror_mode": {
    "name": "ipython",
    "version": 3
   },
   "file_extension": ".py",
   "mimetype": "text/x-python",
   "name": "python",
   "nbconvert_exporter": "python",
   "pygments_lexer": "ipython3",
   "version": "3.10.0"
  }
 },
 "nbformat": 4,
 "nbformat_minor": 2
}
