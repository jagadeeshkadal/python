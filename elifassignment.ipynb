{
 "cells": [
  {
   "cell_type": "markdown",
   "metadata": {},
   "source": [
    "WAP to check whether a given value is positive or negative or neutral. if positive, display the positive with value.or negative display the negative with value or else display the neutral with value."
   ]
  },
  {
   "cell_type": "code",
   "execution_count": 2,
   "metadata": {},
   "outputs": [
    {
     "name": "stdout",
     "output_type": "stream",
     "text": [
      "netural\n"
     ]
    }
   ],
   "source": [
    "num=int(input())\n",
    "if num>0:\n",
    "     print(\"positive\")\n",
    "elif num<0:\n",
    "    print(\"negative\")\n",
    "else:\n",
    "    print(\"netural\")\n"
   ]
  },
  {
   "cell_type": "markdown",
   "metadata": {},
   "source": [
    "\n",
    "WAP to find out the greatest of three numbers, and display the greatest number.\n"
   ]
  },
  {
   "cell_type": "code",
   "execution_count": 4,
   "metadata": {},
   "outputs": [
    {
     "name": "stdout",
     "output_type": "stream",
     "text": [
      "c is grater\n"
     ]
    }
   ],
   "source": [
    "a=int(input())\n",
    "b=int(input())\n",
    "c=int(input())\n",
    "if(a>b)and(a>c):\n",
    "    print(\"a is greater\")\n",
    "elif(b>a and b>c):\n",
    "    print(\"b is greater\")\n",
    "else:\n",
    "    print(\"c is grater\")\n",
    "    "
   ]
  },
  {
   "cell_type": "markdown",
   "metadata": {},
   "source": []
  },
  {
   "cell_type": "markdown",
   "metadata": {},
   "source": [
    "Write a program to check whether a given number is divisible by 3 and 5. if the number divisible by 3 print fizz, if the number divisible by 5 print ‘bizz’ if it is divisible by both then print fizzbuzz\n",
    "\n"
   ]
  },
  {
   "cell_type": "code",
   "execution_count": 7,
   "metadata": {},
   "outputs": [
    {
     "name": "stdout",
     "output_type": "stream",
     "text": [
      "fizz\n"
     ]
    }
   ],
   "source": [
    "num=int(input())\n",
    "if num%3==0 and a%5==0:\n",
    "     print(\"fizzbuzz\")\n",
    "elif num%5==0:\n",
    "    print(\"buzz\")\n",
    "elif num%3==0 :\n",
    "    print(\"fizz\")\n",
    "else:\n",
    "    print(\"not divisible by both 3 and 5\")\n",
    "    \n",
    "    "
   ]
  },
  {
   "cell_type": "markdown",
   "metadata": {},
   "source": []
  },
  {
   "cell_type": "markdown",
   "metadata": {},
   "source": [
    "WAP to find out the relationship between two values and display the relationship"
   ]
  },
  {
   "cell_type": "code",
   "execution_count": 9,
   "metadata": {},
   "outputs": [
    {
     "name": "stdout",
     "output_type": "stream",
     "text": [
      "lessthan equal\n"
     ]
    }
   ],
   "source": [
    "a=int(input())\n",
    "b=int(input())\n",
    "if a<b:\n",
    "    print(\"lessthan\")\n",
    "elif a<=b:\n",
    "    print(\"lessthan equal\")\n",
    "elif a>b :\n",
    "    print(\"greater than\")\n",
    "elif a>=b:\n",
    "    print(\"greater equal\")"
   ]
  },
  {
   "cell_type": "markdown",
   "metadata": {},
   "source": [
    "Write a program to check if a given number is one digit or two digit or three digit for more than 3 digit, if one digit displays the one digit value, if two digit displays the two digit value and so on..\n"
   ]
  },
  {
   "cell_type": "code",
   "execution_count": 12,
   "metadata": {},
   "outputs": [
    {
     "name": "stdout",
     "output_type": "stream",
     "text": [
      " single digit\n"
     ]
    }
   ],
   "source": [
    "num=int(input())\n",
    "if num>=0 and num>=9:\n",
    "    print(\" single digit\")\n",
    "elif num>=10 and num>=99:\n",
    "     print(\"double digit\")\n",
    "elif num>=100 and num>=999:\n",
    "    print(\"three digit\")\n",
    "else:\n",
    "    print(\"greater than 3 digit \")\n",
    "     \n"
   ]
  },
  {
   "cell_type": "markdown",
   "metadata": {},
   "source": [
    "WAP to check whether a given character is an alphabet or ascii number or special character or invalid. if alphabet, display the alphabet with character.or elif ascii number display the ascii number with character,or else display the special character with character.\n",
    "\n"
   ]
  },
  {
   "cell_type": "code",
   "execution_count": 1,
   "metadata": {},
   "outputs": [
    {
     "name": "stdout",
     "output_type": "stream",
     "text": [
      "alphabet a\n"
     ]
    }
   ],
   "source": [
    "ch=input()\n",
    "if ch>='A' and ch<='z' or ch>='a' and ch<='z':\n",
    "    print(\"alphabet\",ch)\n",
    "elif ch>='0' and ch<='9':\n",
    "    print(\"digit\",ch)\n",
    "else:\n",
    "    print(\"symbol\",ch)"
   ]
  },
  {
   "cell_type": "markdown",
   "metadata": {},
   "source": [
    "\n",
    "Write a program to accept any number from 1-5 and display that number in word form.\n"
   ]
  },
  {
   "cell_type": "code",
   "execution_count": 5,
   "metadata": {},
   "outputs": [
    {
     "name": "stdout",
     "output_type": "stream",
     "text": [
      "out of range\n"
     ]
    }
   ],
   "source": [
    "n=int(input())\n",
    "if n==1:\n",
    "    print(\"one\")\n",
    "elif n==2:\n",
    "    print(\"two\")\n",
    "elif n==3:\n",
    "    print(\"three\")\n",
    "elif n==4:\n",
    "    print(\"four\") \n",
    "elif n==5:\n",
    "    print(\"five\")\n",
    "else: print(\"out of range\")   "
   ]
  },
  {
   "cell_type": "markdown",
   "metadata": {},
   "source": [
    "WAP to check whether the given input character is uppercase, lowercase, number or a special symbol. To display the message"
   ]
  },
  {
   "cell_type": "code",
   "execution_count": 14,
   "metadata": {},
   "outputs": [
    {
     "name": "stdout",
     "output_type": "stream",
     "text": [
      "digit 3\n"
     ]
    }
   ],
   "source": [
    "ch=input()\n",
    "if ch>='A' and ch<='Z':\n",
    "    print(\"Uppercase\",ch)\n",
    "elif ch>='a' and ch<='z':\n",
    "    print(\"lower case\",ch)\n",
    "elif ch>='0' and ch<='9':\n",
    "    print(\"digit\",ch)\n",
    "else:\n",
    "    print(\"symbol\",ch)"
   ]
  },
  {
   "cell_type": "markdown",
   "metadata": {},
   "source": [
    "WAP to check whether a given character is uppercase or lowercase or special character. if uppercase, convert to lower case.or elif lowercase, convert to uppercase or else display the previous,given,next characters and display it.\n"
   ]
  },
  {
   "cell_type": "code",
   "execution_count": 17,
   "metadata": {},
   "outputs": [
    {
     "name": "stdout",
     "output_type": "stream",
     "text": [
      "? @ A\n"
     ]
    }
   ],
   "source": [
    "ch=input()\n",
    "if ch>='A' and ch<='Z':\n",
    "    print(\"Uppercase\",ch)\n",
    "    print(chr(ord(ch)+32))\n",
    "elif ch>='a' and ch<='z':\n",
    "    print(\"lower case\",ch)\n",
    "    print(chr(ord(ch)-32))\n",
    "\n",
    "else:\n",
    "    print((chr(ord(ch)-1)),ch,(chr(ord(ch)+1)))"
   ]
  },
  {
   "cell_type": "markdown",
   "metadata": {},
   "source": [
    "WAP to check whether the given character is in lowercase or uppercase, numeric or special characters. Display the what type of case."
   ]
  },
  {
   "cell_type": "code",
   "execution_count": 20,
   "metadata": {},
   "outputs": [
    {
     "name": "stdout",
     "output_type": "stream",
     "text": [
      "symbol @ <class 'str'>\n"
     ]
    }
   ],
   "source": [
    "ch=input()\n",
    "if ch>='A' and ch<='Z':\n",
    "    print(\"Uppercase\",ch,type(ch))\n",
    "elif ch>='a' and ch<='z':\n",
    "    print(\"lower case\",ch,type(ch))\n",
    "elif ch>='0' and ch<='9':\n",
    "    print(\"digit\",ch,type(ch))\n",
    "else:\n",
    "    print(\"symbol\",ch,type(ch))"
   ]
  },
  {
   "cell_type": "markdown",
   "metadata": {},
   "source": [
    "WAP to check whether a given percentage is which grade and display grade.\n",
    "note.(first grade, second grade, third grade, fail)"
   ]
  },
  {
   "cell_type": "code",
   "execution_count": 23,
   "metadata": {},
   "outputs": [
    {
     "name": "stdout",
     "output_type": "stream",
     "text": [
      "fail\n"
     ]
    }
   ],
   "source": [
    "grade=int(input())\n",
    "if grade>=90 and grade<=100:\n",
    "    print(\"first grade\")\n",
    "elif grade>=80 and grade<90:\n",
    "    print(\"second grade\")\n",
    "elif grade>=70 and grade<80:\n",
    "    print(\"third grade\")\n",
    "else:print(\"fail\")\n"
   ]
  },
  {
   "cell_type": "markdown",
   "metadata": {},
   "source": [
    "WAP to perform arithmetic operations depends on a user choice."
   ]
  },
  {
   "cell_type": "code",
   "execution_count": 33,
   "metadata": {},
   "outputs": [
    {
     "name": "stdout",
     "output_type": "stream",
     "text": [
      "3\n"
     ]
    }
   ],
   "source": [
    "\n",
    "n1=int(input())\n",
    "n2=int(input())\n",
    "a=input()\n",
    "if a=='+':\n",
    "    print(n1+n2)\n",
    "elif a=='-':\n",
    "    print(n1-n2)\n",
    "elif a=='*':\n",
    "    print(n1*n2)\n",
    "elif a=='/':\n",
    "    print(n1/n2)\n",
    "elif a=='//':\n",
    "    print(n1//n2)\n",
    "elif a=='%':\n",
    "    print(n1%n2)\n",
    "elif a=='**':\n",
    "    print(n1**n2)\n",
    "else:print(\"invalid symbol\")"
   ]
  },
  {
   "cell_type": "markdown",
   "metadata": {},
   "source": [
    "WAP to check a given number is one digit or two digit or three digits for more than 3 digits."
   ]
  },
  {
   "cell_type": "code",
   "execution_count": null,
   "metadata": {},
   "outputs": [],
   "source": [
    "num=int(input())\n",
    "if num>=0 and num>=9:\n",
    "    print(\" single digit\")\n",
    "elif num>=10 and num>=99:\n",
    "     print(\"double digit\")\n",
    "elif num>=100 and num>=999:\n",
    "    print(\"three digit\")\n",
    "else:\n",
    "    print(\"greater than 3 digit \")\n",
    "     \n"
   ]
  },
  {
   "cell_type": "markdown",
   "metadata": {},
   "source": [
    "WAP to check whether a given collection is a list or tuple or set or character string.\n",
    "if list, append the new value in middle of the list,\n",
    "if tuple, append the new value in starting of the tuple\n",
    "if set, append the new value in set, or else append a new key as given character and values as an ascii value with character."
   ]
  },
  {
   "cell_type": "code",
   "execution_count": 5,
   "metadata": {},
   "outputs": [
    {
     "name": "stdout",
     "output_type": "stream",
     "text": [
      "{3, 7, 62, 'hsh'}\n"
     ]
    }
   ],
   "source": [
    "collec={62,7,3,\"hsh\"}\n",
    "newval=int(input())\n",
    "if type(collec)==list:\n",
    "    collec[len(collec)//2]=newval\n",
    "    print(collec)\n",
    "elif type(collec)==tuple:\n",
    "    collec=list(collec)\n",
    "    collec[0]=newval\n",
    "    print(tuple(collec))\n",
    "elif type(collec)==set:\n",
    "    collec=list(collec)\n",
    "    collec=collec+[newval]\n",
    "    print(set(collec))\n",
    "else:\n",
    "    collec=newval\n",
    "    print(collec)\n",
    "    print(chr(newval),newval)    "
   ]
  },
  {
   "cell_type": "markdown",
   "metadata": {},
   "source": [
    "WAP to check whether a given value is a int or float or string or other, if int, given value division by 5 and display the quotient,\n",
    "if float, perform the bitwise or operation with 15, if string, extract for last position value and store it in first positions of the string, else store the value in the list and display the result."
   ]
  },
  {
   "cell_type": "code",
   "execution_count": 10,
   "metadata": {},
   "outputs": [
    {
     "name": "stdout",
     "output_type": "stream",
     "text": [
      "['h', 'a', 'g', 'a', 'd', 'e', 'e', 's', 'j'] <class 'str'>\n"
     ]
    }
   ],
   "source": [
    "given=\"jagadeesh\"\n",
    "if type(given)==int:\n",
    "    print(given//5)\n",
    "elif type(given)==float:\n",
    "    print(given | 15)\n",
    "elif type(given)==str:\n",
    "    given=list(given)\n",
    "    given[0],given[-1]=given[-1],given[0]\n",
    "    given=str(given)\n",
    "    print(given)\n",
    "else:print(list(given))"
   ]
  },
  {
   "cell_type": "markdown",
   "metadata": {},
   "source": [
    "WAP to check whether the given character is uppercase or ascii number. \n",
    "If uppercase, to convert to lowercase and concat the next character of a given character or if ascii number, that convert to ascii value and ascii value is subtract by 6, finally value is converted to ascii character display it or else  print invalid input."
   ]
  },
  {
   "cell_type": "code",
   "execution_count": 48,
   "metadata": {},
   "outputs": [
    {
     "name": "stdout",
     "output_type": "stream",
     "text": [
      "3\n",
      "57 51\n"
     ]
    }
   ],
   "source": [
    "ch=input()\n",
    "if ch>='A' and ch<'Z':\n",
    "    print(\"uppercase\")\n",
    "    lower=chr(ord(ch)+32)\n",
    "    next=chr(ord(ch)+1)\n",
    "    print(ch+next,lower)\n",
    "elif ch>'0' and ch<='9':\n",
    "    asci=ord(ch)-6\n",
    "    print(chr(asci))    \n"
   ]
  }
 ],
 "metadata": {
  "kernelspec": {
   "display_name": "Python 3",
   "language": "python",
   "name": "python3"
  },
  "language_info": {
   "codemirror_mode": {
    "name": "ipython",
    "version": 3
   },
   "file_extension": ".py",
   "mimetype": "text/x-python",
   "name": "python",
   "nbconvert_exporter": "python",
   "pygments_lexer": "ipython3",
   "version": "3.10.0"
  }
 },
 "nbformat": 4,
 "nbformat_minor": 2
}
