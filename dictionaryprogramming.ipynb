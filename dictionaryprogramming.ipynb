{
 "cells": [
  {
   "cell_type": "code",
   "execution_count": 1,
   "metadata": {},
   "outputs": [
    {
     "name": "stdout",
     "output_type": "stream",
     "text": [
      "{1: 2, 3: 4, 5: 6, 7: 8}\n"
     ]
    }
   ],
   "source": [
    "#adding a key val pair to dict\n",
    "d={1:2,3:4,5:6}\n",
    "d[7]=8\n",
    "print(d)"
   ]
  },
  {
   "cell_type": "code",
   "execution_count": 1,
   "metadata": {},
   "outputs": [
    {
     "name": "stdout",
     "output_type": "stream",
     "text": [
      "present 2 b\n"
     ]
    }
   ],
   "source": [
    "#check given key is present in dict\n",
    "d={1:'a',2:'b',3:'c'}\n",
    "n=int(input())\n",
    "for i in d:\n",
    "    if i==n:\n",
    "        print(\"present\",n,d[i])"
   ]
  },
  {
   "cell_type": "code",
   "execution_count": 8,
   "metadata": {},
   "outputs": [
    {
     "name": "stdout",
     "output_type": "stream",
     "text": [
      "{1: 1, 2: 4, 3: 9}\n"
     ]
    }
   ],
   "source": [
    "#create a dict of keys from 1 to n and values are square of keys\n",
    "d={}\n",
    "n= int(input())\n",
    "for i in range(1,n):\n",
    "    d[i]=i**2\n",
    "print(d)"
   ]
  },
  {
   "cell_type": "code",
   "execution_count": 21,
   "metadata": {},
   "outputs": [
    {
     "name": "stdout",
     "output_type": "stream",
     "text": [
      "{1: (1, 1), 2: (2, 4), 3: (3, 9), 4: (4, 16), 5: (5, 25), 6: (6, 36), 7: (7, 49)}\n"
     ]
    }
   ],
   "source": [
    "#dict of numbers 1 to n in value=(x,x*x) form \n",
    "d={}\n",
    "n= int(input())\n",
    "for i in range(1,n+1):\n",
    "    d[i]=(i,i*i)\n",
    "print(d)"
   ]
  },
  {
   "cell_type": "code",
   "execution_count": 12,
   "metadata": {},
   "outputs": [
    {
     "name": "stdout",
     "output_type": "stream",
     "text": [
      "48\n"
     ]
    }
   ],
   "source": [
    "# multiply all items in dict\n",
    "d={1:2,3:4,5:6}\n",
    "prod=1\n",
    "for i in d:\n",
    "    prod*=d[i]\n",
    "print(prod)\n"
   ]
  },
  {
   "cell_type": "code",
   "execution_count": 1,
   "metadata": {},
   "outputs": [
    {
     "name": "stdout",
     "output_type": "stream",
     "text": [
      "13\n"
     ]
    }
   ],
   "source": [
    "#sum of values in dict\n",
    "d={1:2,3:4,5:6}\n",
    "sum=0\n",
    "for i in d:\n",
    "    sum+=d[i]\n",
    "print(sum)"
   ]
  },
  {
   "cell_type": "code",
   "execution_count": 7,
   "metadata": {},
   "outputs": [
    {
     "name": "stdout",
     "output_type": "stream",
     "text": [
      "{1: 2, 5: 6}\n"
     ]
    }
   ],
   "source": [
    "#delete key in dict\n",
    "d={1:2,3:4,5:6}\n",
    "d1={}\n",
    "n=int(input())\n",
    "for i in d:\n",
    "    if i==n:\n",
    "        pass\n",
    "    else:\n",
    "        d1[i]=d[i]\n",
    "print(d1)"
   ]
  },
  {
   "cell_type": "code",
   "execution_count": 2,
   "metadata": {},
   "outputs": [
    {
     "name": "stdout",
     "output_type": "stream",
     "text": [
      "{1: 'jagadeesh', 2: 'satya'}\n"
     ]
    }
   ],
   "source": [
    "#map 2 dicts\n",
    "names=['jagadeesh','satya']\n",
    "roll=[1,2]\n",
    "d={}\n",
    "j=0\n",
    "for i in roll:\n",
    "    d[i]=names[j]\n",
    "    j+=1\n",
    "print(d)"
   ]
  },
  {
   "cell_type": "code",
   "execution_count": 3,
   "metadata": {},
   "outputs": [
    {
     "name": "stdout",
     "output_type": "stream",
     "text": [
      "{1: 'a', 2: 'b', 3: 'c', 4: 'd'}\n"
     ]
    }
   ],
   "source": [
    "#merge 2 dicts\n",
    "d1={1:'a',2:'b'}\n",
    "d2={3:'c',4:'d'}\n",
    "for i in d2:\n",
    "    d1[i]=d2[i]\n",
    "print(d1)\n",
    "\n"
   ]
  },
  {
   "cell_type": "code",
   "execution_count": 10,
   "metadata": {},
   "outputs": [
    {
     "name": "stdout",
     "output_type": "stream",
     "text": [
      "{'j': 1, 'a': 2, 'g': 1, 'd': 1, 'e': 2, 's': 1, 'h': 1}\n"
     ]
    }
   ],
   "source": [
    "#check no of times a char occured in string and update the dict as key=char and val=no. of times char occured\n",
    "st='jagadeesh'\n",
    "d={}\n",
    "for i in st:\n",
    "    if i not in d:\n",
    "        d[i]=1\n",
    "    elif i in d:\n",
    "        d[i]=d[i]+1\n",
    "print(d)"
   ]
  },
  {
   "cell_type": "code",
   "execution_count": 14,
   "metadata": {},
   "outputs": [
    {
     "name": "stdout",
     "output_type": "stream",
     "text": [
      "{1: 17, 2: 2, 3: 2, 4: 6, 5: 1, 6: 1, 7: 1}\n"
     ]
    }
   ],
   "source": [
    "#check no of times a digit occured in list and update the dict as key=digit and value=no. of times digit occured\n",
    "l=[1,2,2,3,3,4,4,4,4,4,4,5,6,7,1,1,1,1,1,1,1,1,1,1,1,1,1,1,1,1]\n",
    "d={}\n",
    "for i in l: \n",
    "    if i not in d:\n",
    "        d[i]=1\n",
    "    elif i in d:\n",
    "        d[i]=d[i]+1\n",
    "print(d)"
   ]
  },
  {
   "cell_type": "code",
   "execution_count": 31,
   "metadata": {},
   "outputs": [
    {
     "name": "stdout",
     "output_type": "stream",
     "text": [
      "{'hai': 2, 'iam': 1, 'jagadeesh': 2}\n"
     ]
    }
   ],
   "source": [
    "#count words in a string and update to dict\n",
    "st=\"hai hai iam jagadeesh jagadeesh\"\n",
    "res=''\n",
    "d={}\n",
    "for i in st:\n",
    "    if i!=' ':\n",
    "        res+=i\n",
    "    elif i==' ':\n",
    "        if res not in d:\n",
    "            d[res]=1\n",
    "            res=''\n",
    "        elif res in d:\n",
    "            d[res]=d[res]+1\n",
    "            res=''\n",
    "if res in d:\n",
    "    d[res]=d[res]+1 \n",
    "print(d)"
   ]
  }
 ],
 "metadata": {
  "kernelspec": {
   "display_name": "Python 3",
   "language": "python",
   "name": "python3"
  },
  "language_info": {
   "codemirror_mode": {
    "name": "ipython",
    "version": 3
   },
   "file_extension": ".py",
   "mimetype": "text/x-python",
   "name": "python",
   "nbconvert_exporter": "python",
   "pygments_lexer": "ipython3",
   "version": "3.11.8"
  }
 },
 "nbformat": 4,
 "nbformat_minor": 2
}
