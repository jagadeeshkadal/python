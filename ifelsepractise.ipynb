{
 "cells": [
  {
   "cell_type": "code",
   "execution_count": 2,
   "metadata": {},
   "outputs": [
    {
     "name": "stdout",
     "output_type": "stream",
     "text": [
      "negative\n"
     ]
    }
   ],
   "source": [
    "num=int(input())\n",
    "if num>0 :\n",
    "    print(\"positive\")\n",
    "else:\n",
    "    print(\"negative\")"
   ]
  },
  {
   "cell_type": "markdown",
   "metadata": {},
   "source": [
    "WAP to check whether a number is even or odd. If even, print message an even or\n",
    "else print message as odd."
   ]
  },
  {
   "cell_type": "code",
   "execution_count": 3,
   "metadata": {},
   "outputs": [
    {
     "name": "stdout",
     "output_type": "stream",
     "text": [
      "even\n"
     ]
    }
   ],
   "source": [
    "num=int(input())\n",
    "if num%2==0 :\n",
    "    print(\"even\")\n",
    "else:\n",
    "    print(\"odd\")\n",
    "    "
   ]
  },
  {
   "cell_type": "markdown",
   "metadata": {},
   "source": [
    " Write a program to check whether a given number is greater than 10 or not. if it is\n",
    "greater than 10 print message as greater or else print that number with not a greater\n",
    "than."
   ]
  },
  {
   "cell_type": "code",
   "execution_count": 4,
   "metadata": {},
   "outputs": [
    {
     "name": "stdout",
     "output_type": "stream",
     "text": [
      "greater\n"
     ]
    }
   ],
   "source": [
    "num=int(input())\n",
    "if num>10:\n",
    "   print(\"greater\")\n",
    "else:\n",
    "   print(\"not greater\")\n",
    "    "
   ]
  },
  {
   "cell_type": "markdown",
   "metadata": {},
   "source": [
    "WAP to check whether a given value is present in between 45 to 125. If value is\n",
    "present print the ascii character."
   ]
  },
  {
   "cell_type": "code",
   "execution_count": 8,
   "metadata": {},
   "outputs": [
    {
     "name": "stdout",
     "output_type": "stream",
     "text": [
      "|\n"
     ]
    }
   ],
   "source": [
    "num=int(input())\n",
    "if num>45 and num<125:\n",
    "    print(chr(num))\n",
    "else:\n",
    "    print(\"not present between 45 and 125\")\n",
    "\n"
   ]
  },
  {
   "cell_type": "markdown",
   "metadata": {},
   "source": [
    " WAP to check whether the given two input numbers are divisible by 3 and 5. If it is\n",
    "divisible, print �Good Morning�, if it is not print �Good Evening�."
   ]
  },
  {
   "cell_type": "code",
   "execution_count": 1,
   "metadata": {},
   "outputs": [
    {
     "name": "stdout",
     "output_type": "stream",
     "text": [
      "good evening\n"
     ]
    }
   ],
   "source": [
    "num=int(input())\n",
    "num2=int(input())\n",
    "if (num and num2)%3==0 and (num and num2)%5==0:\n",
    "    print(\"good morning\")\n",
    "else:\n",
    "    print(\"good evening\")"
   ]
  },
  {
   "cell_type": "markdown",
   "metadata": {},
   "source": [
    "WAP to accept two integers and check whether they are equal or not.\n",
    "If equal, multiply to value or quotation value and display it.\n"
   ]
  },
  {
   "cell_type": "code",
   "execution_count": 10,
   "metadata": {},
   "outputs": [
    {
     "name": "stdout",
     "output_type": "stream",
     "text": [
      "16\n"
     ]
    }
   ],
   "source": [
    "num1=int (input())\n",
    "num2=int(input())\n",
    "if num1==num2:\n",
    "    print(num1*num2)\n",
    "else:\n",
    "    print(\"not equal\")"
   ]
  },
  {
   "cell_type": "markdown",
   "metadata": {},
   "source": [
    " WAP to find the largest of two numbers.\n"
   ]
  },
  {
   "cell_type": "code",
   "execution_count": 11,
   "metadata": {},
   "outputs": [
    {
     "name": "stdout",
     "output_type": "stream",
     "text": [
      "9\n"
     ]
    }
   ],
   "source": [
    "num1=int(input())\n",
    "num2=int(input())\n",
    "if num1>num2:\n",
    "    print(num1)\n",
    "else:\n",
    "     print(num2)"
   ]
  },
  {
   "cell_type": "markdown",
   "metadata": {},
   "source": [
    "WAP to check whether the input number is greater than 10 or not if it is greater than\n",
    "10 print messages as greater with print that number. if that number is not greater\n",
    "than 10 print that number."
   ]
  },
  {
   "cell_type": "code",
   "execution_count": 12,
   "metadata": {},
   "outputs": [
    {
     "name": "stdout",
     "output_type": "stream",
     "text": [
      "12\n",
      "greater than 10\n"
     ]
    }
   ],
   "source": [
    "num1=int(input())\n",
    "if num>10:\n",
    "    print(num1)\n",
    "    print(\"greater than 10\")\n",
    "else:\n",
    "    print(\"not greater\")\n"
   ]
  },
  {
   "cell_type": "markdown",
   "metadata": {},
   "source": [
    " WAP to the given number integer, if n is greater than 21,print the absolute\n",
    "difference between n and 21 otherwise print twice the absolute difference.\n"
   ]
  },
  {
   "cell_type": "code",
   "execution_count": 14,
   "metadata": {},
   "outputs": [
    {
     "name": "stdout",
     "output_type": "stream",
     "text": [
      "12\n"
     ]
    }
   ],
   "source": [
    "num=int(input())\n",
    "if num>21:\n",
    "    print(num-21)\n",
    "else:\n",
    "    print((21-num)*2)"
   ]
  },
  {
   "cell_type": "markdown",
   "metadata": {},
   "source": [
    "WAP to find the smallest of two numbers."
   ]
  },
  {
   "cell_type": "code",
   "execution_count": 15,
   "metadata": {},
   "outputs": [
    {
     "name": "stdout",
     "output_type": "stream",
     "text": [
      "6\n"
     ]
    }
   ],
   "source": [
    "num1=int(input())\n",
    "num2=int(input())\n",
    "if num1<num2:\n",
    "    print(num1)\n",
    "else:\n",
    "     print(num2)"
   ]
  },
  {
   "cell_type": "markdown",
   "metadata": {},
   "source": [
    "WAP to check whether the given number is even or odd. If it is even then make it as\n",
    "an add number, if it is an odd number then make it as even number.\n"
   ]
  },
  {
   "cell_type": "code",
   "execution_count": 17,
   "metadata": {},
   "outputs": [
    {
     "name": "stdout",
     "output_type": "stream",
     "text": [
      "9\n"
     ]
    }
   ],
   "source": [
    "num=int(input())\n",
    "if num%2==0:\n",
    "    print(num+1)\n",
    "else:\n",
    "    print(num-1)"
   ]
  },
  {
   "cell_type": "markdown",
   "metadata": {},
   "source": [
    "wAP to check whether the given number is divisible by 3 or not if yes,print the\n",
    "number or else print the cube of the numbers."
   ]
  },
  {
   "cell_type": "code",
   "execution_count": 18,
   "metadata": {},
   "outputs": [
    {
     "name": "stdout",
     "output_type": "stream",
     "text": [
      "8\n"
     ]
    }
   ],
   "source": [
    "num=int(input())\n",
    "if num%3==0:\n",
    "    print(num)\n",
    "else:\n",
    "    print(num**3)"
   ]
  },
  {
   "cell_type": "markdown",
   "metadata": {},
   "source": [
    "\n",
    "65. WAP to check whether the given input is divisible by 3 and 5. If yes print the actual\n",
    "number or else print string of that number.\n"
   ]
  },
  {
   "cell_type": "code",
   "execution_count": 21,
   "metadata": {},
   "outputs": [
    {
     "name": "stdout",
     "output_type": "stream",
     "text": [
      "<class 'str'> 7\n"
     ]
    }
   ],
   "source": [
    "num=int(input())\n",
    "if num%3==0 and num%5==0:\n",
    "    print(num)\n",
    "else:\n",
    "    n=str(num)\n",
    "    print(type(n),num)"
   ]
  },
  {
   "cell_type": "markdown",
   "metadata": {},
   "source": [
    "WAP to check whether the given number lies between 1 to 19, if it is true square that\n",
    "number or else false cube that number and display the number"
   ]
  },
  {
   "cell_type": "code",
   "execution_count": 23,
   "metadata": {},
   "outputs": [
    {
     "name": "stdout",
     "output_type": "stream",
     "text": [
      "10648\n",
      "22\n"
     ]
    }
   ],
   "source": [
    "num=int(input())\n",
    "if num>1 and num<19:\n",
    "  print(num**2)\n",
    "else:\n",
    "  print(num**3)\n",
    "  print(num)\n"
   ]
  },
  {
   "cell_type": "markdown",
   "metadata": {},
   "source": [
    "WAP to check whether the student has passed or failed. If the student got more than\n",
    "40 marks, print �PASS� along with those marks, if it is not printed �FAIL� along with\n",
    "those marks."
   ]
  },
  {
   "cell_type": "code",
   "execution_count": 25,
   "metadata": {},
   "outputs": [
    {
     "name": "stdout",
     "output_type": "stream",
     "text": [
      "25 fail\n"
     ]
    }
   ],
   "source": [
    "marks=int(input(\"enter your marks\"))\n",
    "if marks>40:\n",
    "    print(marks,\"pass\")\n",
    "else:\n",
    "    print(marks,\"fail\")\n",
    "\n"
   ]
  },
  {
   "cell_type": "markdown",
   "metadata": {},
   "source": [
    " WAP to check whether a given value is even and in range of 47 to 58 and not in 0 or\n",
    "odd. if condition is True, to perform display the ascii character.or else to perform\n",
    "floor division with 5 and display it."
   ]
  },
  {
   "cell_type": "code",
   "execution_count": 28,
   "metadata": {},
   "outputs": [
    {
     "name": "stdout",
     "output_type": "stream",
     "text": [
      "8\n"
     ]
    }
   ],
   "source": [
    "num=int(input())\n",
    "if (num%2==0 and num>=47 and num<=58 and num!=0 ):\n",
    "    print(chr(num))\n",
    "else:\n",
    "    print(num//5)"
   ]
  },
  {
   "cell_type": "markdown",
   "metadata": {},
   "source": [
    "WAP to check whether a given value is less than 125 and in between 47 to 125 or not.\n",
    "if condition is True, to perform store the given value as key and value as a character\n",
    "into the dict.or else to append the value in list and display it."
   ]
  },
  {
   "cell_type": "code",
   "execution_count": 5,
   "metadata": {},
   "outputs": [
    {
     "name": "stdout",
     "output_type": "stream",
     "text": [
      "[[49, '1']]\n",
      "{49: '1'}\n",
      "<class 'dict'>\n"
     ]
    }
   ],
   "source": [
    "num=int(input())\n",
    "if num> 47 and num<125:\n",
    "   l=[[0,0]]\n",
    "   l[0][0]=num\n",
    "   l[0][1]=chr(num)\n",
    "   print(l)\n",
    "   res=dict(l)\n",
    "   print(res)\n",
    "   print(type(res))\n",
    "else:\n",
    "  l=[]\n",
    "  l.append(num)\n",
    "  print(l)\n"
   ]
  },
  {
   "cell_type": "markdown",
   "metadata": {},
   "source": [
    " WAP to check whether a given character is in the alphabet or not. if alphabet,\n",
    "display the alphabet with character.or else display the not alphabet with character."
   ]
  },
  {
   "cell_type": "code",
   "execution_count": 109,
   "metadata": {},
   "outputs": [
    {
     "name": "stdout",
     "output_type": "stream",
     "text": [
      "k\n",
      "alphabet\n"
     ]
    }
   ],
   "source": [
    "ch=input()\n",
    "if ch>='A' and ch<='z'or ch>='a' and ch<='z':\n",
    "    print(ch)\n",
    "    print(\"alphabet\")\n",
    "else:\n",
    "    print(\"not a alphabet\")\n",
    "    print(ch)\n",
    " "
   ]
  },
  {
   "cell_type": "markdown",
   "metadata": {},
   "source": [
    "WAP to check whether a given character is uppercase or other character. if\n",
    "uppercase, display the uppercase with character.or else display the other character\n",
    "with character."
   ]
  },
  {
   "cell_type": "code",
   "execution_count": 108,
   "metadata": {},
   "outputs": [
    {
     "name": "stdout",
     "output_type": "stream",
     "text": [
      "not a uppercase\n",
      "j\n"
     ]
    }
   ],
   "source": [
    "ch=input()\n",
    "if ch>='A' and ch<='Z':\n",
    "    print(\"uppercase\")\n",
    "    print(ch)\n",
    "else:\n",
    "    print(\"not a uppercase\")\n",
    "    print(ch)"
   ]
  },
  {
   "cell_type": "code",
   "execution_count": 107,
   "metadata": {},
   "outputs": [
    {
     "name": "stdout",
     "output_type": "stream",
     "text": [
      "lowercase\n",
      "l\n"
     ]
    }
   ],
   "source": [
    "ch=input()\n",
    "if ch>='a' and ch<='z':\n",
    "    print(\"lowercase\")\n",
    "    print(ch)\n",
    "else:\n",
    "    print(\"not a lowercase\")\n",
    "    print(ch)\n"
   ]
  },
  {
   "cell_type": "markdown",
   "metadata": {},
   "source": [
    "WAP to check whether a given character is uppercase or other character. if\n",
    "uppercase, convert to lowercase .or else display the ascii number.\n"
   ]
  },
  {
   "cell_type": "code",
   "execution_count": 9,
   "metadata": {},
   "outputs": [
    {
     "name": "stdout",
     "output_type": "stream",
     "text": [
      "\"\n"
     ]
    }
   ],
   "source": [
    "ch=input()\n",
    "if ch>='A' and ch<='Z':\n",
    "    ascii1=ord(ch)\n",
    "    ascii2=(ascii1-32)\n",
    "    print(chr(ascii2))\n",
    "else:\n",
    "    print(ord(ch))\n"
   ]
  },
  {
   "cell_type": "code",
   "execution_count": null,
   "metadata": {},
   "outputs": [
    {
     "name": "stdout",
     "output_type": "stream",
     "text": [
      "107\n"
     ]
    }
   ],
   "source": [
    "ch1=input()\n",
    "if ch1>='A' and ch1<='Z':\n",
    "    print(chr(ord(ch)+32)) \n",
    "else:\n",
    "    print(ord(ch1))"
   ]
  },
  {
   "cell_type": "markdown",
   "metadata": {},
   "source": [
    "WAP to check whether the given character is in lowercase or uppercase. If it is in\n",
    "lowercase, convert it into uppercase, or else it is in uppercase and convert it into\n",
    "lowercase. Display the value."
   ]
  },
  {
   "cell_type": "code",
   "execution_count": null,
   "metadata": {},
   "outputs": [
    {
     "name": "stdout",
     "output_type": "stream",
     "text": [
      "uppercase\n",
      "s\n"
     ]
    }
   ],
   "source": [
    "ch=input()\n",
    "if ch>='A' and ch<='Z':\n",
    "    print(\"uppercase\")\n",
    "    print(chr(ord(ch)+32))\n",
    "else:\n",
    "    print(\"lowercase\")\n",
    "    print(chr(ord(ch)-32))"
   ]
  },
  {
   "cell_type": "markdown",
   "metadata": {},
   "source": [
    "WAP to check whether the given string of the first character is a special symbol or\n",
    "not. If a special symbol, to extract and display the middle character or else to\n",
    "reverse the string and display the half of the string"
   ]
  },
  {
   "cell_type": "code",
   "execution_count": 98,
   "metadata": {},
   "outputs": [
    {
     "name": "stdout",
     "output_type": "stream",
     "text": [
      "ihtreek\n",
      "kee\n"
     ]
    }
   ],
   "source": [
    "st=input()\n",
    "if not((st[0]>='a' and st[0]<='z') or (st[0]>='A' and st[0]<='Z') or (st[0]>='0' and st[0]<='9')):\n",
    "    print(st[len(st)//2])\n",
    "else:\n",
    "    print(st[::-1])\n",
    "    print(st[0:len(st)//2:1])"
   ]
  },
  {
   "cell_type": "markdown",
   "metadata": {},
   "source": [
    "WAP to check whether the input character is a vowel or not. If it is vowel print\n",
    "�VOWEL� along with that character, if it is not just print �CONSONANT�"
   ]
  },
  {
   "cell_type": "code",
   "execution_count": null,
   "metadata": {},
   "outputs": [
    {
     "name": "stdout",
     "output_type": "stream",
     "text": [
      "CONSONENT\n"
     ]
    }
   ],
   "source": [
    "ch=input()\n",
    "st=['a','e','i','o','u','A','E','I','O','U']\n",
    "if ch in st:\n",
    "    print(\"VOWEL\")\n",
    "    print(ch)\n",
    "else:\n",
    "    print(\"CONSONENT\")"
   ]
  },
  {
   "cell_type": "markdown",
   "metadata": {},
   "source": [
    "WAP to check whether a given character is a vowel or consonant. if vowel,to print\n",
    "the next character of a given character or else print previous characters."
   ]
  },
  {
   "cell_type": "code",
   "execution_count": 11,
   "metadata": {},
   "outputs": [
    {
     "name": "stdout",
     "output_type": "stream",
     "text": [
      "b\n"
     ]
    }
   ],
   "source": [
    "ch=input()\n",
    "st=['a','e','i','o','u','A','E','I','O','U']\n",
    "if ch in st:\n",
    "    print(chr(ord(ch)+1))\n",
    "else:\n",
    "    print(chr(ord(ch)-1))"
   ]
  },
  {
   "cell_type": "markdown",
   "metadata": {},
   "source": [
    " WAP to check whether a given string of first character is alphabet or not\n",
    "if the alphabet prints, reverse the string or else print the middle character."
   ]
  },
  {
   "cell_type": "code",
   "execution_count": 13,
   "metadata": {},
   "outputs": [
    {
     "name": "stdout",
     "output_type": "stream",
     "text": [
      "j\n"
     ]
    }
   ],
   "source": [
    "st=input()\n",
    "if (st[0]>='a' and st[0]<='z') or (st[0]>='A' and st[0]<='Z'):\n",
    "    print(st[::-1])\n",
    "else:\n",
    "    print(st[len(st)//2])\n"
   ]
  },
  {
   "cell_type": "markdown",
   "metadata": {},
   "source": [
    "28...WAP to check whether the given input character is uppercase or lowercase. If the\n",
    "input character is \n",
    "+-upper case convert into lower case and vice versa."
   ]
  },
  {
   "cell_type": "code",
   "execution_count": 9,
   "metadata": {},
   "outputs": [
    {
     "name": "stdout",
     "output_type": "stream",
     "text": [
      "lowercase\n",
      "into uppercase - A\n"
     ]
    }
   ],
   "source": [
    "ch=input()\n",
    "if ch>='A' and ch<='Z':\n",
    "    print(\"uppercase\")\n",
    "    print(\"into lowercase -\",chr(ord(ch)+32))\n",
    "else:\n",
    "    print(\"lowercase\")\n",
    "    print(\"into uppercase -\",chr(ord(ch)-32))"
   ]
  },
  {
   "cell_type": "markdown",
   "metadata": {},
   "source": [
    "WAP to check whether a given string is less than 3 characters, to print the entire\n",
    "string otherwise to print after third positions to the remaining string."
   ]
  },
  {
   "cell_type": "code",
   "execution_count": 11,
   "metadata": {},
   "outputs": [
    {
     "name": "stdout",
     "output_type": "stream",
     "text": [
      "rthi\n"
     ]
    }
   ],
   "source": [
    "st=input()\n",
    "if len(st)<3:\n",
    "    print(st)\n",
    "else:\n",
    "    print(st[3::1])"
   ]
  },
  {
   "cell_type": "markdown",
   "metadata": {},
   "source": [
    "WAP to check whether a given length of the string is even or not. if even, to append\n",
    "the new string called \"bye\" or else print the first and last characters"
   ]
  },
  {
   "cell_type": "code",
   "execution_count": 13,
   "metadata": {},
   "outputs": [
    {
     "name": "stdout",
     "output_type": "stream",
     "text": [
      "bye\n"
     ]
    }
   ],
   "source": [
    "st=input()\n",
    "if len(st)%2==0:\n",
    "    print(st+\" bye\")\n",
    "else:\n",
    "    print(st[0])\n",
    "    print(st[-1])"
   ]
  },
  {
   "cell_type": "markdown",
   "metadata": {},
   "source": [
    "WAP to check whether a given length of the string is odd or not. if odd, to append\n",
    "the new string(\"Haii\") from the starting of the given string, or else to avoid the\n",
    "starting character and ending character of the given\n",
    "string and to display the remaining characters."
   ]
  },
  {
   "cell_type": "code",
   "execution_count": 21,
   "metadata": {},
   "outputs": [
    {
     "name": "stdout",
     "output_type": "stream",
     "text": [
      "hand\n"
     ]
    }
   ],
   "source": [
    "st=input()\n",
    "if len(st)%2==1:\n",
    "    print(\"haii \"+st)\n",
    "else:\n",
    "    print(st[1:-1:1])"
   ]
  },
  {
   "cell_type": "markdown",
   "metadata": {},
   "source": [
    "WAP to check whether the last of the given string is a special character or not, if the\n",
    "special character prints reverse the string except the last character or else to check\n",
    "if the length of the string is odd or not, if odd to extract the middle character to the\n",
    "end of the string."
   ]
  },
  {
   "cell_type": "code",
   "execution_count": 25,
   "metadata": {},
   "outputs": [
    {
     "name": "stdout",
     "output_type": "stream",
     "text": [
      "htreek\n"
     ]
    }
   ],
   "source": [
    "st=input()\n",
    "if not((st[-1]>='a' and st[-1]<='z') or (st[-1]>='A' and st[-1]<='Z') or (st[-1]>='0' and st[-1]<='9')):\n",
    "    print(st[-3::-1])\n",
    "else:\n",
    "    if len(st)%2==1:\n",
    "        print(st[len(st)//2::1])"
   ]
  },
  {
   "cell_type": "markdown",
   "metadata": {},
   "source": [
    "WAP to check whether a given year is a leap year or not. if leap year, print leap year\n",
    "or else not a leap year."
   ]
  },
  {
   "cell_type": "code",
   "execution_count": 27,
   "metadata": {},
   "outputs": [
    {
     "name": "stdout",
     "output_type": "stream",
     "text": [
      "not a leap year\n"
     ]
    }
   ],
   "source": [
    "year=int(input())\n",
    "if year%4==0:\n",
    "    print(\"leap year\")\n",
    "else:\n",
    "    print(\"not a leap year\")"
   ]
  },
  {
   "cell_type": "markdown",
   "metadata": {},
   "source": [
    "WAP to find out the greatest of two numbers and display the greatest number.if the\n",
    "greatest number, display the greatest message with value."
   ]
  },
  {
   "cell_type": "code",
   "execution_count": 28,
   "metadata": {},
   "outputs": [
    {
     "name": "stdout",
     "output_type": "stream",
     "text": [
      "greater number - 8\n"
     ]
    }
   ],
   "source": [
    "num1=int(input())\n",
    "num2=int(input())\n",
    "if num1>num2:\n",
    "    print(\"greater number -\",num1)\n",
    "else:\n",
    "    print(\"greater number -\",num2)"
   ]
  },
  {
   "cell_type": "markdown",
   "metadata": {},
   "source": [
    "WAP to check whether the given value is present inside the given collection or not.if\n",
    "value is present, display the value is available or else the value is not present."
   ]
  },
  {
   "cell_type": "code",
   "execution_count": 33,
   "metadata": {},
   "outputs": [
    {
     "name": "stdout",
     "output_type": "stream",
     "text": [
      "present inside a collection\n"
     ]
    }
   ],
   "source": [
    "value=int(input())\n",
    "if value in [1,3,7,5,2,8]:\n",
    "    print(\"present inside a collection\")\n",
    "else:\n",
    "    print(\"not present inside a collection\")"
   ]
  },
  {
   "cell_type": "markdown",
   "metadata": {},
   "source": [
    "WAP whether a given string, if string length is more than 2, then it displays a new\n",
    "string with the first and last characters switched, otherwise the display the 3 copies\n",
    "of given string."
   ]
  },
  {
   "cell_type": "code",
   "execution_count": 57,
   "metadata": {},
   "outputs": [
    {
     "name": "stdout",
     "output_type": "stream",
     "text": [
      "hi\n",
      "hi\n",
      "hi\n"
     ]
    }
   ],
   "source": [
    "st=input()\n",
    "if len(st)>2:\n",
    "    temp=list(st)\n",
    "    temp[0],temp[-1]=temp[-1],temp[0]\n",
    "    act=str(temp)\n",
    "    print(act)\n",
    "else:\n",
    "    print(st)\n",
    "    print(st)\n",
    "    print(st)\n",
    "    "
   ]
  },
  {
   "cell_type": "markdown",
   "metadata": {},
   "source": [
    "WAP to check whether a given value is a list and first and last values should be\n",
    "integer,if condition is satisfied first value is true division by 3 and perform the\n",
    "bitwise not for last value and those result values are stored in same positions in list\n",
    "or else, to perform length of the collection power 2 and display it."
   ]
  },
  {
   "cell_type": "code",
   "execution_count": 61,
   "metadata": {},
   "outputs": [
    {
     "name": "stdout",
     "output_type": "stream",
     "text": [
      "25\n"
     ]
    }
   ],
   "source": [
    "l=[27,\"hello\",3+2j,True,\"jajageesh\"]\n",
    "if type(l)==list and type(l[0])==int and type(l[-1])==int:\n",
    "    l[0]=l[0]/3\n",
    "    l[-1]=~l[-1]\n",
    "    print(l)\n",
    "else:\n",
    "    print(len(l)**2)"
   ]
  },
  {
   "cell_type": "markdown",
   "metadata": {},
   "source": [
    "WAP to check whether a given value is a string or not and length of the value should\n",
    "be more than 7, if condition is satisfied to append the new string in the middle of the\n",
    "given string or else to perform the replications with 3 and display the result."
   ]
  },
  {
   "cell_type": "code",
   "execution_count": 63,
   "metadata": {},
   "outputs": [
    {
     "name": "stdout",
     "output_type": "stream",
     "text": [
      "chanduchanduchandu\n"
     ]
    }
   ],
   "source": [
    "st=input()\n",
    "if type(st)==str and len(st)>7:\n",
    "    print(st[0:len(st)//2:1]+\" hi \"+st[len(st)//2::1])\n",
    "else:\n",
    "    print(st*3)"
   ]
  },
  {
   "cell_type": "markdown",
   "metadata": {},
   "source": [
    "WAP to check if the given string of first and second character should be sequence or\n",
    "not. if the sequence prints the first,second and last two characters, or else the first\n",
    "half string is reversed and the remaining half string should be normal and display it."
   ]
  },
  {
   "cell_type": "code",
   "execution_count": 69,
   "metadata": {},
   "outputs": [
    {
     "name": "stdout",
     "output_type": "stream",
     "text": [
      "atniam inance\n"
     ]
    }
   ],
   "source": [
    "st=input()\n",
    "if ord(st[0])==ord(st[1])-1:\n",
    "    print(st[0],st[1],st[-2],st[-1])\n",
    "else:\n",
    "    print(st[len(st)//2-1::-1],st[len(st)//2::1])"
   ]
  },
  {
   "cell_type": "markdown",
   "metadata": {},
   "source": [
    " WAP to check whether a given value is present inside the collection or not. If\n",
    "present, print the value or else print value is not found."
   ]
  },
  {
   "cell_type": "code",
   "execution_count": 71,
   "metadata": {},
   "outputs": [
    {
     "name": "stdout",
     "output_type": "stream",
     "text": [
      "value not found in collection\n"
     ]
    }
   ],
   "source": [
    "l=[1,2,3,40,50,89,90]\n",
    "value=int(input())\n",
    "if value in l:\n",
    "    print(value)\n",
    "else:\n",
    "    print(\"value not found in collection\")"
   ]
  },
  {
   "cell_type": "markdown",
   "metadata": {},
   "source": [
    " WAP to check whether a given key is present in the dict or not. if key is present:\n",
    "display the value or else add key and new value inside the dict"
   ]
  },
  {
   "cell_type": "code",
   "execution_count": 76,
   "metadata": {},
   "outputs": [
    {
     "name": "stdout",
     "output_type": "stream",
     "text": [
      "{1: 'keerthi', 2: 'hello', 3: 'hate', 4: 'marriage', 5: 100, 6: 'percent', 8: 'love'}\n"
     ]
    }
   ],
   "source": [
    "d={1:\"jagadeesh\",2:\"hell\",3:\"hai\",4:\"marriage\",5:100,6:\"person\"}\n",
    "val=int(input())\n",
    "keyval=input()\n",
    "if val in d:\n",
    "    print(d[val])\n",
    "else:\n",
    "    d[val]=keyval\n",
    "    print(d)\n"
   ]
  },
  {
   "cell_type": "markdown",
   "metadata": {},
   "source": [
    "WAP to check whether a given collection is set or not.if set, append the new value,\n",
    "or else eliminate the duplicate values in collection. final results should be set type."
   ]
  },
  {
   "cell_type": "code",
   "execution_count": 84,
   "metadata": {},
   "outputs": [
    {
     "name": "stdout",
     "output_type": "stream",
     "text": [
      "{1, 2, 3, 4, 5}\n"
     ]
    }
   ],
   "source": [
    "s=[1,2,3,4,5]\n",
    "newval=int(input())\n",
    "if type(s)==set :\n",
    "    print(s|{newval})\n",
    "else:\n",
    "    print(set(s))"
   ]
  },
  {
   "cell_type": "markdown",
   "metadata": {},
   "source": [
    "WAP to read the age of a candidate and determine whether it is eligible for his/her\n",
    "own vote or not.it eligible print age and eligible messages or else print not eligible."
   ]
  },
  {
   "cell_type": "code",
   "execution_count": 87,
   "metadata": {},
   "outputs": [
    {
     "name": "stdout",
     "output_type": "stream",
     "text": [
      "not eligible\n"
     ]
    }
   ],
   "source": [
    "age=int(input(\"enter your age\"))\n",
    "if age>=18:\n",
    "    print(\"age\",age,\" -eligible\")\n",
    "else:\n",
    "    print(\"not eligible\")"
   ]
  },
  {
   "cell_type": "markdown",
   "metadata": {},
   "source": [
    "WAP to check whether a given value is even and in between 47 to 58 and not in 0 or\n",
    "odd. if condition is True, to perform display the ascii character.or else to perform\n",
    "floor division with 5 and display it."
   ]
  },
  {
   "cell_type": "code",
   "execution_count": 91,
   "metadata": {},
   "outputs": [
    {
     "name": "stdout",
     "output_type": "stream",
     "text": [
      "11\n"
     ]
    }
   ],
   "source": [
    "n=int(input())\n",
    "if n%2==0 and n>=47 and n<=58 and n!=0:\n",
    "    print(chr(n))\n",
    "else:\n",
    "    print(n//5)"
   ]
  },
  {
   "cell_type": "markdown",
   "metadata": {},
   "source": [
    " WAP to check whether the given string is palindrome or not if it is a palindrome\n",
    "string palindrome along with the string if it is not a palindrome print not palindrome"
   ]
  },
  {
   "cell_type": "code",
   "execution_count": 94,
   "metadata": {},
   "outputs": [
    {
     "name": "stdout",
     "output_type": "stream",
     "text": [
      "wow\n",
      "palidrome\n"
     ]
    }
   ],
   "source": [
    "st=input()\n",
    "if st==st[::-1]:\n",
    "    print(st)\n",
    "    print(\"palidrome\")\n",
    "else:\n",
    "    print(\"not a palindrome\")"
   ]
  },
  {
   "cell_type": "markdown",
   "metadata": {},
   "source": [
    "WAP to check whether a given number is palindrome or not. If palindrome, display\n",
    "the given value as a palindrome or else not a palindrome."
   ]
  },
  {
   "cell_type": "code",
   "execution_count": 99,
   "metadata": {},
   "outputs": [
    {
     "name": "stdout",
     "output_type": "stream",
     "text": [
      "not a palindrome\n"
     ]
    }
   ],
   "source": [
    "num=int(input())\n",
    "val=str(num)\n",
    "if val==val[::-1]:\n",
    "    print(int(val))\n",
    "    print(\"palindrome\")\n",
    "else:\n",
    "    print(\"not a palindrome\")"
   ]
  },
  {
   "cell_type": "markdown",
   "metadata": {},
   "source": [
    "WAP to check length of both string collections equal or not if both are equal print\n",
    "the concat the two strings and display, or else if any one of the collection not equal\n",
    "print both the collections with lengths"
   ]
  },
  {
   "cell_type": "code",
   "execution_count": 107,
   "metadata": {},
   "outputs": [
    {
     "name": "stdout",
     "output_type": "stream",
     "text": [
      "hello length - 5\n",
      "hai length - 3\n"
     ]
    }
   ],
   "source": [
    "l1=input()\n",
    "l2=input()\n",
    "if len(l1)==len(l2):\n",
    "    print(l1+l2)\n",
    "else:\n",
    "    print(l1,\"length -\",len(l1))\n",
    "    print(l2,\"length -\",len(l2))"
   ]
  },
  {
   "cell_type": "markdown",
   "metadata": {},
   "source": [
    " WAP to check whether both given values point to the same memory location or not.\n",
    "if it is true print the middle item of the second collection, or else if it is false print the\n",
    "first item and last item of the first collection along with the memory address."
   ]
  },
  {
   "cell_type": "code",
   "execution_count": 106,
   "metadata": {},
   "outputs": [
    {
     "name": "stdout",
     "output_type": "stream",
     "text": [
      "v\n"
     ]
    }
   ],
   "source": [
    "c1=\"een\"\n",
    "c2=\"een\"\n",
    "if id(c1)==id(c2):\n",
    "    print(c2[len(c2)//2])\n",
    "else:\n",
    "    print(c1[0],c1[-1])\n",
    "    print(id(c1))"
   ]
  },
  {
   "cell_type": "markdown",
   "metadata": {},
   "source": [
    " WAP to check whether a given string collection is more than ten, and the first + last\n",
    "character of the ascii values should be divisible by 5, if condition is satisfied print\n",
    "first,middle,last characters ASCII values or else print the string three times."
   ]
  },
  {
   "cell_type": "code",
   "execution_count": 115,
   "metadata": {},
   "outputs": [
    {
     "name": "stdout",
     "output_type": "stream",
     "text": [
      "100\n",
      "97\n",
      "105\n"
     ]
    }
   ],
   "source": [
    "st=input()\n",
    "if len(st)>10 and ord(st[0])%5==0 and ord(st[-1])%5==0:\n",
    "    print(ord(st[0]))\n",
    "    print(ord(st[len(st)//2]))\n",
    "    print(ord(st[-1]))\n",
    "else:\n",
    "    print(st)\n",
    "    print(st)\n",
    "    print(st)"
   ]
  },
  {
   "cell_type": "markdown",
   "metadata": {},
   "source": [
    "WAP to check whether the middle of the item present in the list is string data type or\n",
    "not if it is string print that list or else if it is not string then print that middle item."
   ]
  },
  {
   "cell_type": "code",
   "execution_count": 122,
   "metadata": {},
   "outputs": [
    {
     "name": "stdout",
     "output_type": "stream",
     "text": [
      "80\n"
     ]
    }
   ],
   "source": [
    "l=[1,3,\"haro\",80,\"hnd\",90,75]\n",
    "if type(l[len(l)//2])==str:\n",
    "    print(l)\n",
    "else:\n",
    "    print(l[len(l)//2])"
   ]
  },
  {
   "cell_type": "markdown",
   "metadata": {},
   "source": [
    " WAP Given a string, return a new string where the first and last characters have\n",
    "been exchanged."
   ]
  },
  {
   "cell_type": "code",
   "execution_count": 123,
   "metadata": {},
   "outputs": [
    {
     "name": "stdout",
     "output_type": "stream",
     "text": [
      "['h', 'e', 'a', 'y']\n"
     ]
    }
   ],
   "source": [
    "st=input()\n",
    "if type(st)==str:\n",
    "    new=list(st)\n",
    "    new[0],new[-1]=new[-1],new[0]\n",
    "    print(new)\n",
    "else:\n",
    "    print(\"not possible\")"
   ]
  },
  {
   "cell_type": "markdown",
   "metadata": {},
   "source": [
    " Write a program to find out such numbers which are divisible by 7 but are not a\n",
    "multiple of 5. Both the conditional are satisfied and print actual value. if one\n",
    "condition is not satisfied actual number is multiply by 4 and print result"
   ]
  },
  {
   "cell_type": "code",
   "execution_count": 126,
   "metadata": {},
   "outputs": [
    {
     "name": "stdout",
     "output_type": "stream",
     "text": [
      "20\n"
     ]
    }
   ],
   "source": [
    "num=int(input())\n",
    "if num%7==0 and not(num%5==0):\n",
    "    print(num)\n",
    "else:\n",
    "    print(num*4)"
   ]
  },
  {
   "cell_type": "markdown",
   "metadata": {},
   "source": [
    "WAP to check whether two values are pointing to the same memory address or not.\n",
    "If the same memory displays the address or else displays the two values addresses."
   ]
  },
  {
   "cell_type": "code",
   "execution_count": 129,
   "metadata": {},
   "outputs": [
    {
     "name": "stdout",
     "output_type": "stream",
     "text": [
      "140719109253080\n"
     ]
    }
   ],
   "source": [
    "val1=input()\n",
    "val2=input()\n",
    "if id(val1)==id(val2):\n",
    "    print(id(val1))\n",
    "else:\n",
    "    print(id(val1))\n",
    "    print(id(val2))"
   ]
  },
  {
   "cell_type": "markdown",
   "metadata": {},
   "source": [
    " WAP to check whether a given input character is a special symbol or not if it is a\n",
    "special symbol then print that character three times and tell print that character 5\n",
    "times."
   ]
  },
  {
   "cell_type": "code",
   "execution_count": 131,
   "metadata": {},
   "outputs": [
    {
     "name": "stdout",
     "output_type": "stream",
     "text": [
      "@\n",
      "@\n",
      "@\n"
     ]
    }
   ],
   "source": [
    "ch=input()\n",
    "if not((ch>='a' and ch<='z') or (ch>='A' and ch<='Z') or (ch>='0' and ch<='9')):\n",
    "    print(ch)\n",
    "    print(ch)\n",
    "    print(ch)\n",
    "else:\n",
    "    print(ch*5)"
   ]
  },
  {
   "cell_type": "markdown",
   "metadata": {},
   "source": [
    "WAP to check length of both string collections equal or not if it is equal print the\n",
    "connection of any one of the collections if it is not equal print both the collection."
   ]
  },
  {
   "cell_type": "code",
   "execution_count": 133,
   "metadata": {},
   "outputs": [
    {
     "name": "stdout",
     "output_type": "stream",
     "text": [
      "hai\n",
      "hi\n"
     ]
    }
   ],
   "source": [
    "s1=input()\n",
    "s2=input()\n",
    "if len(s1)==len(s2):\n",
    "    print(s1)\n",
    "else:\n",
    "    print(s1)\n",
    "    print(s2)"
   ]
  },
  {
   "cell_type": "markdown",
   "metadata": {},
   "source": [
    "56 ...WAP To check whether both input variables point to the same memory location or\n",
    "not if it is true print the last item of the second collection, if it is false print the first\n",
    "item of the first collection along with the memory address.  "
   ]
  },
  {
   "cell_type": "code",
   "execution_count": 2,
   "metadata": {},
   "outputs": [
    {
     "name": "stdout",
     "output_type": "stream",
     "text": [
      "1\n"
     ]
    }
   ],
   "source": [
    "s1=input()\n",
    "s2=input()\n",
    "if id(s1)==id(s2):\n",
    "    print(s2[-1])\n",
    "else:\n",
    "    print(s1[0],id(s1))\n"
   ]
  },
  {
   "cell_type": "markdown",
   "metadata": {},
   "source": [
    " WAP to print the string collection five times when the length of the string collection\n",
    "should be more than 3 and the middle character of the string should be vowel and\n",
    "the first character ASCII value should be even, to print the previous character of\n",
    "middle character, or else if ASCII value is odd then print the string three times as\n",
    "print that string."
   ]
  },
  {
   "cell_type": "code",
   "execution_count": 1,
   "metadata": {},
   "outputs": [
    {
     "name": "stdout",
     "output_type": "stream",
     "text": [
      "jagadeeshjagadeeshjagadeesh\n",
      "jagadeesh\n"
     ]
    }
   ],
   "source": [
    "st=input()\n",
    "if len(st)>3 and st[len(st)//2] in \"AEIOUaeiou\" and ord(st[0])%2==0:\n",
    "    print(st[len(st)//2-1])\n",
    "    print(st*5)\n",
    "else:\n",
    "    print(st*3)\n",
    "    print(st)"
   ]
  },
  {
   "cell_type": "markdown",
   "metadata": {},
   "source": [
    " Ravi would like to buy a new cello or red pen. The cost of the pen should be 10. If\n",
    "the pen is available in the shop, he will buy the pen. If it is not there he will come out\n",
    "of the shop."
   ]
  },
  {
   "cell_type": "code",
   "execution_count": 6,
   "metadata": {},
   "outputs": [
    {
     "name": "stdout",
     "output_type": "stream",
     "text": [
      "not available\n"
     ]
    }
   ],
   "source": [
    "penName=input()\n",
    "penCost=int(input())\n",
    "if (penName==\"cello\" or penName==\"red\") and (penCost==10):\n",
    "    print(\"available in the shop\")\n",
    "else:\n",
    "    print(\"not available\")"
   ]
  },
  {
   "cell_type": "markdown",
   "metadata": {},
   "source": [
    " WAP to perform addition and subtraction operation by using list collection if the first\n",
    "and middle data items number are even performing addition operation, or else\n",
    "performing subtraction."
   ]
  },
  {
   "cell_type": "code",
   "execution_count": 17,
   "metadata": {},
   "outputs": [
    {
     "name": "stdout",
     "output_type": "stream",
     "text": [
      "6\n",
      "2\n",
      "8\n"
     ]
    }
   ],
   "source": [
    "l=[2,3,4,5,6,7,8,9]\n",
    "if l[len(l)//2]%2==0 and l[0]%2==0:\n",
    "    print(l[len(l)//2])\n",
    "    print(l[0])\n",
    "    print(l[len(l)//2]+l[0])\n",
    "else:\n",
    "    print(l[len(l)//2])\n",
    "    print(l[0])\n",
    "    print(l[len(l)//2]-l[0])\n"
   ]
  },
  {
   "cell_type": "markdown",
   "metadata": {},
   "source": [
    "WAP to check whether the first item of these two lists is either integer or not. If\n",
    "it is an integer, concatenate these two lists or else print the memory address of\n",
    "these two lists."
   ]
  },
  {
   "cell_type": "code",
   "execution_count": 18,
   "metadata": {},
   "outputs": [
    {
     "name": "stdout",
     "output_type": "stream",
     "text": [
      "[1, 2, 3, 4, 5, 6, 20, 30, 40, 50, 60, 70]\n"
     ]
    }
   ],
   "source": [
    "l1=[1,2,3,4,5,6]\n",
    "l2=[20,30,40,50,60,70]\n",
    "if type(l1[0])==int and type(l2[0])==int:\n",
    "    print(l1+l2)\n",
    "else:\n",
    "    print(id(l1))\n",
    "    print(id(l2))"
   ]
  }
 ],
 "metadata": {
  "kernelspec": {
   "display_name": "Python 3",
   "language": "python",
   "name": "python3"
  },
  "language_info": {
   "codemirror_mode": {
    "name": "ipython",
    "version": 3
   },
   "file_extension": ".py",
   "mimetype": "text/x-python",
   "name": "python",
   "nbconvert_exporter": "python",
   "pygments_lexer": "ipython3",
   "version": "3.10.0"
  }
 },
 "nbformat": 4,
 "nbformat_minor": 2
}
