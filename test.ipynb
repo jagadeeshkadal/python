{
 "cells": [
  {
   "cell_type": "code",
   "execution_count": 5,
   "metadata": {},
   "outputs": [
    {
     "name": "stdout",
     "output_type": "stream",
     "text": [
      "kadali jagadeesh\n"
     ]
    }
   ],
   "source": [
    "class baseclass:\n",
    "    def __init__(self,firstname,lastname):\n",
    "        self.firstname=firstname\n",
    "        self.lastname=lastname\n",
    "    \n",
    "        \n",
    "class childclass(baseclass):\n",
    "    def __init__(self, firstname, lastname):\n",
    "        super().__init__(firstname, lastname)\n",
    "        print(self.firstname,self.lastname)\n",
    "\n",
    "\n",
    "chidobj=childclass(\"kadali\",\"jagadeesh\")"
   ]
  },
  {
   "cell_type": "code",
   "execution_count": 6,
   "metadata": {},
   "outputs": [
    {
     "name": "stdout",
     "output_type": "stream",
     "text": [
      "[1, 2]\n",
      "2\n"
     ]
    }
   ],
   "source": [
    "#sorted array=[1,1,2]=2o/p =[1,2]\n",
    "\n",
    "l=[1,1,2]\n",
    "l1=[]\n",
    "c=0\n",
    "for i in l:\n",
    "    if i not in l1:\n",
    "        l1+=[i]\n",
    "        c+=1   \n",
    "print(l1)\n",
    "print(c)\n",
    "\n"
   ]
  }
 ],
 "metadata": {
  "kernelspec": {
   "display_name": "Python 3",
   "language": "python",
   "name": "python3"
  },
  "language_info": {
   "codemirror_mode": {
    "name": "ipython",
    "version": 3
   },
   "file_extension": ".py",
   "mimetype": "text/x-python",
   "name": "python",
   "nbconvert_exporter": "python",
   "pygments_lexer": "ipython3",
   "version": "3.11.8"
  }
 },
 "nbformat": 4,
 "nbformat_minor": 2
}
