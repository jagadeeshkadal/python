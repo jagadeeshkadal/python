{
 "cells": [
  {
   "cell_type": "markdown",
   "metadata": {},
   "source": [
    "Assignment on simple if statements\n",
    "---------------------------------------"
   ]
  },
  {
   "cell_type": "code",
   "execution_count": 2,
   "metadata": {},
   "outputs": [
    {
     "name": "stdout",
     "output_type": "stream",
     "text": [
      "it is positive\n"
     ]
    }
   ],
   "source": [
    "num=10\n",
    "if num>0:\n",
    "    print(\"it is positive\")\n",
    "\n",
    "\n"
   ]
  },
  {
   "cell_type": "markdown",
   "metadata": {},
   "source": [
    "2. WAP to display hello world if the number is greater than 1 and lesser than 5"
   ]
  },
  {
   "cell_type": "code",
   "execution_count": 3,
   "metadata": {},
   "outputs": [
    {
     "name": "stdout",
     "output_type": "stream",
     "text": [
      "hello world\n"
     ]
    }
   ],
   "source": [
    "num=4\n",
    "if num>1 and num<5:\n",
    "    print(\"hello world\")"
   ]
  },
  {
   "cell_type": "markdown",
   "metadata": {},
   "source": [
    "3. WAP to check whether the given number is divisible by 3 or not if print fizz."
   ]
  },
  {
   "cell_type": "code",
   "execution_count": 4,
   "metadata": {},
   "outputs": [
    {
     "name": "stdout",
     "output_type": "stream",
     "text": [
      "Fizz\n"
     ]
    }
   ],
   "source": [
    "num=15\n",
    "if num%3==0:\n",
    "    print(\"Fizz\")"
   ]
  },
  {
   "cell_type": "markdown",
   "metadata": {},
   "source": [
    "4. WAP to check whether given input is divisible by 2 and 6. If the condition is satisfied, convert the given number into a complex number."
   ]
  },
  {
   "cell_type": "code",
   "execution_count": 5,
   "metadata": {},
   "outputs": [
    {
     "name": "stdout",
     "output_type": "stream",
     "text": [
      "(12+0j)\n"
     ]
    }
   ],
   "source": [
    "num=12\n",
    "if num%2==0 and num%6==0:\n",
    "    print(complex(num)) "
   ]
  },
  {
   "cell_type": "markdown",
   "metadata": {},
   "source": [
    "5. WAP to check whether a given input is divisible by 3 or 5. If the condition is satisfied, the number is converted to a list.\n",
    "i/p: 30\n",
    "o/p:[�3�,�0�]"
   ]
  },
  {
   "cell_type": "code",
   "execution_count": 9,
   "metadata": {},
   "outputs": [
    {
     "name": "stdout",
     "output_type": "stream",
     "text": [
      "['1', '5']\n"
     ]
    }
   ],
   "source": [
    "num=15\n",
    "if (num%3==0 or num%5==0):\n",
    "    num=list(str(num))\n",
    "    print(num)"
   ]
  },
  {
   "cell_type": "markdown",
   "metadata": {},
   "source": [
    "6. Write a program to check whether a given number is multiple of 5 or not\n"
   ]
  },
  {
   "cell_type": "code",
   "execution_count": 10,
   "metadata": {},
   "outputs": [
    {
     "name": "stdout",
     "output_type": "stream",
     "text": [
      "it is multiples of 5\n"
     ]
    }
   ],
   "source": [
    "num=15\n",
    "if num%5==0:\n",
    "    print(\"it is multiples of 5\")"
   ]
  },
  {
   "cell_type": "markdown",
   "metadata": {},
   "source": [
    "7. WAP to check whether the given input is 0 or not if 0 prints 0."
   ]
  },
  {
   "cell_type": "code",
   "execution_count": 13,
   "metadata": {},
   "outputs": [
    {
     "name": "stdout",
     "output_type": "stream",
     "text": [
      "0\n"
     ]
    }
   ],
   "source": [
    "num=0\n",
    "if num==0:\n",
    "    print(0)"
   ]
  },
  {
   "cell_type": "markdown",
   "metadata": {},
   "source": [
    "8. WAP to check whether a number is negative. If negative, print a message negative."
   ]
  },
  {
   "cell_type": "code",
   "execution_count": 16,
   "metadata": {},
   "outputs": [
    {
     "name": "stdout",
     "output_type": "stream",
     "text": [
      "it is negative\n"
     ]
    }
   ],
   "source": [
    "num=-1\n",
    "if num<0:\n",
    "    print(\"it is negative\")"
   ]
  },
  {
   "cell_type": "markdown",
   "metadata": {},
   "source": [
    "9. WAP to check whether a number is even or not. If even, store the value inside the\n",
    "list."
   ]
  },
  {
   "cell_type": "code",
   "execution_count": 17,
   "metadata": {},
   "outputs": [
    {
     "name": "stdout",
     "output_type": "stream",
     "text": [
      "['1', '0']\n"
     ]
    }
   ],
   "source": [
    "num=10\n",
    "if num%2==0:\n",
    "    print(list(str(num)))"
   ]
  },
  {
   "cell_type": "markdown",
   "metadata": {},
   "source": [
    "10. WAP to check whether a number is odd or not. If odd, store the value inside the\n",
    "tuple."
   ]
  },
  {
   "cell_type": "code",
   "execution_count": 18,
   "metadata": {},
   "outputs": [
    {
     "name": "stdout",
     "output_type": "stream",
     "text": [
      "('1', '1')\n"
     ]
    }
   ],
   "source": [
    "num=11\n",
    "if num%2==1:\n",
    "    print(tuple(str(num)))"
   ]
  },
  {
   "cell_type": "markdown",
   "metadata": {},
   "source": [
    "11. WAP to check if the given number is even or not. if it is yes, to print the power of 4 in a given number.\n"
   ]
  },
  {
   "cell_type": "code",
   "execution_count": 20,
   "metadata": {},
   "outputs": [
    {
     "name": "stdout",
     "output_type": "stream",
     "text": [
      "10000\n"
     ]
    }
   ],
   "source": [
    "num=10\n",
    "if num%2==0:\n",
    "    print(num**4)"
   ]
  },
  {
   "cell_type": "markdown",
   "metadata": {},
   "source": [
    "12. WAP to take the input from the user as a number and check whether it is a number\n",
    "or not. if yes. take the number and add some value and print it.\n"
   ]
  },
  {
   "cell_type": "code",
   "execution_count": 30,
   "metadata": {},
   "outputs": [
    {
     "name": "stdout",
     "output_type": "stream",
     "text": [
      "20\n"
     ]
    }
   ],
   "source": [
    "num=int(input())\n",
    "if type(num) in [int,float]:\n",
    "    print(num+10)\n"
   ]
  },
  {
   "cell_type": "markdown",
   "metadata": {},
   "source": [
    "13. WAP to check whether a given value is divisible by 5 and 7. If the value is\n",
    "divisible,to display the square of the values.\n"
   ]
  },
  {
   "cell_type": "code",
   "execution_count": 31,
   "metadata": {},
   "outputs": [
    {
     "name": "stdout",
     "output_type": "stream",
     "text": [
      "1225\n"
     ]
    }
   ],
   "source": [
    "num=35\n",
    "if num%5==0 and num%7==0:\n",
    "    print(num**2)"
   ]
  },
  {
   "cell_type": "markdown",
   "metadata": {},
   "source": [
    "14. WAP to check whether the given value's last digit is greater than 5 or not.if greater,to perform the bitwise right shift operator (skipping value is 2)\n"
   ]
  },
  {
   "cell_type": "code",
   "execution_count": 37,
   "metadata": {},
   "outputs": [
    {
     "name": "stdout",
     "output_type": "stream",
     "text": [
      "1\n"
     ]
    }
   ],
   "source": [
    "num=67\n",
    "num1=num%10\n",
    "if num1>5:\n",
    "    print(num1>>2)"
   ]
  },
  {
   "cell_type": "markdown",
   "metadata": {},
   "source": [
    "15. WAP to check whether a given value is divisible by 3 and less than 30. If the value is divisible,to display the square of the values.\n"
   ]
  },
  {
   "cell_type": "code",
   "execution_count": 38,
   "metadata": {},
   "outputs": [
    {
     "name": "stdout",
     "output_type": "stream",
     "text": [
      "225\n"
     ]
    }
   ],
   "source": [
    "num=15\n",
    "if num%3==0 and num<30:\n",
    "    print(num**2)"
   ]
  },
  {
   "cell_type": "markdown",
   "metadata": {},
   "source": [
    "16. WAP to check whether a given value is an even number and divisible by 4. If\n",
    "satisfied ,to display the cube of the values.\n"
   ]
  },
  {
   "cell_type": "code",
   "execution_count": 1,
   "metadata": {},
   "outputs": [
    {
     "name": "stdout",
     "output_type": "stream",
     "text": [
      "1728\n"
     ]
    }
   ],
   "source": [
    "num=12\n",
    "if num%2==0 and num%4==0:\n",
    "    print(num**3)"
   ]
  },
  {
   "cell_type": "markdown",
   "metadata": {},
   "source": [
    "17. WAP to check whether a given value is even or not. If the even number stores the\n",
    "value inside the list.\n"
   ]
  },
  {
   "cell_type": "code",
   "execution_count": 40,
   "metadata": {},
   "outputs": [
    {
     "name": "stdout",
     "output_type": "stream",
     "text": [
      "['1', '2']\n"
     ]
    }
   ],
   "source": [
    "num=12\n",
    "if num%2==0:\n",
    "    print(list(str(num)))"
   ]
  },
  {
   "cell_type": "markdown",
   "metadata": {},
   "source": [
    "18. WAP to check whether a given value is a negative or even number. If satisfied ,to\n",
    "display the last digit of the values.\n"
   ]
  },
  {
   "cell_type": "code",
   "execution_count": 41,
   "metadata": {},
   "outputs": [
    {
     "name": "stdout",
     "output_type": "stream",
     "text": [
      "2\n"
     ]
    }
   ],
   "source": [
    "num=12\n",
    "if num%2==0 or num<0:\n",
    "    print(num%10)"
   ]
  },
  {
   "cell_type": "markdown",
   "metadata": {},
   "source": [
    "19. WAP to check whether a given value is a negative or odd number and divisible by 4.\n",
    "If satisfied ,to display the cube of the values.\n"
   ]
  },
  {
   "cell_type": "code",
   "execution_count": 3,
   "metadata": {},
   "outputs": [],
   "source": [
    "num=11\n",
    "if num%2==1 or num<0 and num%4==0:\n",
    "    print(num**3)"
   ]
  },
  {
   "cell_type": "markdown",
   "metadata": {},
   "source": [
    "20. WAP to check whether a given ascii value is divisible by 4 and even value. If\n",
    "satisfied, to display the ascii character.\n"
   ]
  },
  {
   "cell_type": "code",
   "execution_count": 68,
   "metadata": {},
   "outputs": [
    {
     "name": "stdout",
     "output_type": "stream",
     "text": [
      "p\n"
     ]
    }
   ],
   "source": [
    "ch=112\n",
    "if ch%4==0 and ch%2==0:\n",
    "    print (chr(ch))"
   ]
  },
  {
   "cell_type": "markdown",
   "metadata": {},
   "source": [
    "21. WAP to check whether a given value is present in between 45 to 125 and the number\n",
    "should be divisible by 4 and 5 and even value. If satisfied, to display the ascii\n",
    "character.\n"
   ]
  },
  {
   "cell_type": "code",
   "execution_count": 70,
   "metadata": {},
   "outputs": [
    {
     "name": "stdout",
     "output_type": "stream",
     "text": [
      "d\n"
     ]
    }
   ],
   "source": [
    "val=100\n",
    "if (val>45 and val<125 and val%4==0 and val%5==0 and val%2==0):\n",
    "    print(chr(val)) "
   ]
  },
  {
   "cell_type": "markdown",
   "metadata": {},
   "source": [
    "22. WAP to check whether a given value is present in between 25 to 100 and the number\n",
    "should be divisible by 4 and 5. If satisfied, to display multiplication of given value\n",
    "with 5.\n"
   ]
  },
  {
   "cell_type": "code",
   "execution_count": 72,
   "metadata": {},
   "outputs": [
    {
     "name": "stdout",
     "output_type": "stream",
     "text": [
      "500\n"
     ]
    }
   ],
   "source": [
    "val=100\n",
    "if (val>=25 and val<=100 and val%4==0 and val%5==0):\n",
    "    print(val*5) "
   ]
  },
  {
   "cell_type": "markdown",
   "metadata": {},
   "source": [
    "23. WAP to check whether a given number is an integer and odd number. If the\n",
    "condition is satisfied, the integer is divisible by 5 and displays the result.\n"
   ]
  },
  {
   "cell_type": "code",
   "execution_count": 78,
   "metadata": {},
   "outputs": [
    {
     "name": "stdout",
     "output_type": "stream",
     "text": [
      "True\n"
     ]
    }
   ],
   "source": [
    "val=25\n",
    "if type(val)==int and val%2==1:\n",
    "    print(val%5==0)"
   ]
  },
  {
   "cell_type": "markdown",
   "metadata": {},
   "source": [
    "24. WAP to check whether a given value is an integer or not. If integer, the given value\n",
    "is converted to string and displays the result.\n"
   ]
  },
  {
   "cell_type": "code",
   "execution_count": 3,
   "metadata": {},
   "outputs": [
    {
     "name": "stdout",
     "output_type": "stream",
     "text": [
      "10\n"
     ]
    }
   ],
   "source": [
    "val=10\n",
    "if type(val)==int:\n",
    "    print(str(int(val)))"
   ]
  },
  {
   "cell_type": "markdown",
   "metadata": {},
   "source": [
    "25. WAP to check whether a given value is less than 125 and greater than 60 or not. If\n",
    "the condition is satisfied, take the name and extract the middle character and\n",
    "display it.\n"
   ]
  },
  {
   "cell_type": "code",
   "execution_count": 9,
   "metadata": {},
   "outputs": [
    {
     "name": "stdout",
     "output_type": "stream",
     "text": [
      "t\n"
     ]
    }
   ],
   "source": [
    "ch=100\n",
    "if ch>60 and ch<125:\n",
    "    name=\"satya\"\n",
    "    if len(name)%2==1:\n",
    "        mid=len(name)//2\n",
    "        midchar=name[mid]\n",
    "        print(midchar)\n",
    "    "
   ]
  },
  {
   "cell_type": "markdown",
   "metadata": {},
   "source": [
    "26.WAP to check whether a given two integers are equal or not. If both are equal, to\n",
    "perform addition and display the result."
   ]
  },
  {
   "cell_type": "code",
   "execution_count": 1,
   "metadata": {},
   "outputs": [
    {
     "name": "stdout",
     "output_type": "stream",
     "text": [
      "4\n"
     ]
    }
   ],
   "source": [
    "n1=int(input())\n",
    "n2=int(input())\n",
    "if n1== n2:\n",
    "    print(n1+n2)"
   ]
  },
  {
   "cell_type": "markdown",
   "metadata": {},
   "source": [
    "27 WAP to check whether two values are equal or not. if equal, to perform\n",
    "multiplication of two numbers and that result is division by 3 and display the value."
   ]
  },
  {
   "cell_type": "code",
   "execution_count": 4,
   "metadata": {},
   "outputs": [
    {
     "name": "stdout",
     "output_type": "stream",
     "text": [
      "9\n",
      "3.0\n"
     ]
    }
   ],
   "source": [
    "n1=int(input())\n",
    "n2=int(input())\n",
    "if n1== n2:\n",
    "    mul=n1*n2\n",
    "    print(mul)\n",
    "    div=mul/3\n",
    "    print(div)\n",
    "else: print(\"not equal\")"
   ]
  },
  {
   "cell_type": "markdown",
   "metadata": {},
   "source": [
    "\n",
    "28 WAP to check whether a character is in the alphabet or not. If the alphabet, store the\n",
    "value inside the dict(key as a character and value as an ascii value)."
   ]
  },
  {
   "cell_type": "code",
   "execution_count": 5,
   "metadata": {},
   "outputs": [
    {
     "name": "stdout",
     "output_type": "stream",
     "text": [
      "a:97\n"
     ]
    }
   ],
   "source": [
    "alphabet_dict={}\n",
    "char=input()\n",
    "if ((char>='A' and char<='Z') or char>='a' and char<='z'):\n",
    "    ascii_value=ord(char)\n",
    "    alphabet_dict[char]=ascii_value\n",
    "    print(char,str(ascii_value),sep=':')\n",
    "    "
   ]
  },
  {
   "cell_type": "markdown",
   "metadata": {},
   "source": [
    "29 WAP to check whether a character is in the uppercase or not. If the uppercase, store\n",
    "the value inside the dict(key as a character and value as an ascii value)."
   ]
  },
  {
   "cell_type": "code",
   "execution_count": 7,
   "metadata": {},
   "outputs": [
    {
     "name": "stdout",
     "output_type": "stream",
     "text": [
      "A:65\n"
     ]
    }
   ],
   "source": [
    "alphabet_dict={}\n",
    "char=input()\n",
    "if ((char>='A' and char<='Z')):\n",
    "    ascii_value=ord(char)\n",
    "    alphabet_dict[char]=ascii_value\n",
    "    print(char,str(ascii_value),sep=':')\n"
   ]
  },
  {
   "cell_type": "markdown",
   "metadata": {},
   "source": [
    "30 WAP to check whether a character is in the uppercase or not. If the uppercase,\n",
    "convert to lowercase and store the value inside the dict(character as a key and ascii\n",
    "value as a value)."
   ]
  },
  {
   "cell_type": "code",
   "execution_count": 9,
   "metadata": {},
   "outputs": [
    {
     "name": "stdout",
     "output_type": "stream",
     "text": [
      "a:97\n"
     ]
    }
   ],
   "source": [
    "alphabet_dict={}\n",
    "char=input()\n",
    "if ((char>='A' and char<='Z')):\n",
    "    char=chr(ord(char)+32)\n",
    "    ascii_value=ord(char)\n",
    "    alphabet_dict[char]=ascii_value\n",
    "    print(char,str(ascii_value),sep=':')\n"
   ]
  },
  {
   "cell_type": "markdown",
   "metadata": {},
   "source": [
    "31 WAP to check whether a character is in the lowercase or not. If the lowercase, to\n",
    "perform the replication operation on that character.\n"
   ]
  },
  {
   "cell_type": "code",
   "execution_count": 14,
   "metadata": {},
   "outputs": [
    {
     "name": "stdout",
     "output_type": "stream",
     "text": [
      "A\n",
      "['A', 'A']\n"
     ]
    }
   ],
   "source": [
    "char=input()\n",
    "if ((char>='a' and char<='z')):\n",
    "    char=chr(ord(char)-32)\n",
    "    print(char)\n",
    "    char=list(char)\n",
    "    print(char*2)\n",
    "    "
   ]
  },
  {
   "cell_type": "markdown",
   "metadata": {},
   "source": [
    "32 WAP to check whether a character is in the ascii number or not. If the ascii number,\n",
    "to convert into integer."
   ]
  },
  {
   "cell_type": "code",
   "execution_count": 17,
   "metadata": {},
   "outputs": [
    {
     "name": "stdout",
     "output_type": "stream",
     "text": [
      "51\n"
     ]
    }
   ],
   "source": [
    "char=input()\n",
    "if char>='0' and char<='9':\n",
    "    print(int(ord(char)))\n",
    "    "
   ]
  },
  {
   "cell_type": "markdown",
   "metadata": {},
   "source": [
    "33 wAP to check whether a character is in the special symbol or not. If the special\n",
    "symbol, to display a symbol with ascii value.\n"
   ]
  },
  {
   "cell_type": "code",
   "execution_count": 23,
   "metadata": {},
   "outputs": [
    {
     "name": "stdout",
     "output_type": "stream",
     "text": [
      "#-->35\n"
     ]
    }
   ],
   "source": [
    "char=input()\n",
    "if not((char>='a' and char<='z')or (char>='A' and char<='Z') or (char>='0' and char<='9')):\n",
    "    print(char,ord(char),sep='-->')\n",
    "    "
   ]
  },
  {
   "cell_type": "markdown",
   "metadata": {},
   "source": [
    "34 WAP to check whether a character is an even number or not. If the even number, to\n",
    "display an even number."
   ]
  },
  {
   "cell_type": "code",
   "execution_count": 25,
   "metadata": {},
   "outputs": [
    {
     "name": "stdout",
     "output_type": "stream",
     "text": [
      "8\n"
     ]
    }
   ],
   "source": [
    "char=input()\n",
    "if char>='0' and char<='9' and int(char)%2==0:\n",
    "    print(char)\n",
    "    "
   ]
  },
  {
   "cell_type": "markdown",
   "metadata": {},
   "source": [
    "35 WAP to check whether a Given two integers a and b, if any of the integers is 10 or if\n",
    "their sum is 10, to perform the sum of the numbers and to display the square of the\n",
    "result.\n"
   ]
  },
  {
   "cell_type": "code",
   "execution_count": 26,
   "metadata": {},
   "outputs": [
    {
     "name": "stdout",
     "output_type": "stream",
     "text": [
      "400\n"
     ]
    }
   ],
   "source": [
    "n1=int(input())\n",
    "n2=int(input())\n",
    "if (n1==10 or n2==10) or (n1+n2)==10:\n",
    "    n3=n1+n2\n",
    "    print(n3**2)"
   ]
  },
  {
   "cell_type": "markdown",
   "metadata": {},
   "source": [
    "36 WAP to check whether a character is in the vowel or not. If the vowel,print the next\n",
    "character."
   ]
  },
  {
   "cell_type": "code",
   "execution_count": 28,
   "metadata": {},
   "outputs": [
    {
     "name": "stdout",
     "output_type": "stream",
     "text": [
      "B\n"
     ]
    }
   ],
   "source": [
    "char=input()\n",
    "if ((char == 'a' or char == 'A') or (char == 'e' or char == 'E')or (char == 'i' or char == 'I') or (char == 'o' or char == 'O') or (char == 'u' or char == 'U')):\n",
    "    next_char = chr(ord(char)+1)\n",
    "    print(next_char)\n"
   ]
  },
  {
   "cell_type": "markdown",
   "metadata": {},
   "source": [
    "37  WAP to check whether a character is in the not a vowel. If it's not a vowel,print the\n",
    "previous character."
   ]
  },
  {
   "cell_type": "code",
   "execution_count": 6,
   "metadata": {},
   "outputs": [],
   "source": [
    "char=input()\n",
    "l=['a','e','i','o','u']\n",
    "# if not(((char == 'a' or char == 'A') or (char == 'e' or char == 'E')or (char == 'i' or char == 'I') or (char == 'o' or char == 'O') or (char == 'u' or char == 'U'))):\n",
    "if char not in l:\n",
    "        \n",
    "        next_char = chr(ord(char)-1)\n",
    "        print(next_char)\n",
    "\n",
    "\n"
   ]
  },
  {
   "cell_type": "markdown",
   "metadata": {},
   "source": [
    "38 WAP to check whether a given value is a single value data type or not. If single\n",
    "value, display the given value as a single value data type"
   ]
  },
  {
   "cell_type": "code",
   "execution_count": 46,
   "metadata": {},
   "outputs": [
    {
     "name": "stdout",
     "output_type": "stream",
     "text": [
      "<class 'str'>\n"
     ]
    }
   ],
   "source": [
    "n=input()\n",
    "print(type(n))\n",
    "if ((type(n) == int) or(type(n)== float) or (type(n) == bool) or (type(n) == complex)):\n",
    "    print(\"single valued datatype\")\n"
   ]
  },
  {
   "cell_type": "markdown",
   "metadata": {},
   "source": [
    "39  WAP to check whether a given value is a multi-value data type or not. If multi value,\n",
    "store the given value inside the tuple and display it."
   ]
  },
  {
   "cell_type": "code",
   "execution_count": 8,
   "metadata": {},
   "outputs": [
    {
     "ename": "AttributeError",
     "evalue": "'tuple' object has no attribute 'add'",
     "output_type": "error",
     "traceback": [
      "\u001b[1;31m---------------------------------------------------------------------------\u001b[0m",
      "\u001b[1;31mAttributeError\u001b[0m                            Traceback (most recent call last)",
      "Cell \u001b[1;32mIn[8], line 4\u001b[0m\n\u001b[0;32m      2\u001b[0m n\u001b[38;5;241m=\u001b[39m\u001b[38;5;28minput\u001b[39m()\n\u001b[0;32m      3\u001b[0m \u001b[38;5;28;01mif\u001b[39;00m \u001b[38;5;28mtype\u001b[39m(n) \u001b[38;5;129;01min\u001b[39;00m[\u001b[38;5;28mstr\u001b[39m,\u001b[38;5;28mtuple\u001b[39m,\u001b[38;5;28mlist\u001b[39m,\u001b[38;5;28mdict\u001b[39m]:\n\u001b[1;32m----> 4\u001b[0m     \u001b[43mtuple1\u001b[49m\u001b[38;5;241;43m.\u001b[39;49m\u001b[43madd\u001b[49m(n)\n\u001b[0;32m      5\u001b[0m     \u001b[38;5;28mprint\u001b[39m(tuple1)\n\u001b[0;32m      6\u001b[0m \u001b[38;5;28;01melse\u001b[39;00m:\u001b[38;5;28mprint\u001b[39m(\u001b[38;5;124m\"\u001b[39m\u001b[38;5;124mas\u001b[39m\u001b[38;5;124m\"\u001b[39m)\n",
      "\u001b[1;31mAttributeError\u001b[0m: 'tuple' object has no attribute 'add'"
     ]
    }
   ],
   "source": [
    "tuple1=()\n",
    "n=input()\n",
    "if type(n) in[str,tuple,list,dict]:\n",
    "    tuple1=n\n",
    "    print(tuple1)\n",
    "else:print(\"as\")"
   ]
  },
  {
   "cell_type": "markdown",
   "metadata": {},
   "source": [
    "40 WAP to check whether a given value is an immutable data type or not. If an\n",
    "immutable data type value, store the given value inside the set and display it."
   ]
  },
  {
   "cell_type": "code",
   "execution_count": 9,
   "metadata": {},
   "outputs": [
    {
     "name": "stdout",
     "output_type": "stream",
     "text": [
      "value is immutable\n",
      "{'jaga'}\n"
     ]
    }
   ],
   "source": [
    "set1=set()\n",
    "data=input()\n",
    "if ((type(data)==int) or (type(data)==float)or (type(data)==bool) or (type(data)==complex) or (type(data)==str) or (type(data)==tuple)):\n",
    "    print(\"value is immutable\")\n",
    "    set1.add(data)\n",
    "    print(set1)\n",
    "    "
   ]
  },
  {
   "cell_type": "markdown",
   "metadata": {},
   "source": [
    "41. WAP to check whether the middle element of a given list is odd or not. If it is odd\n",
    "then print odd then print the number else directly print the number\n"
   ]
  },
  {
   "cell_type": "code",
   "execution_count": 11,
   "metadata": {},
   "outputs": [
    {
     "name": "stdout",
     "output_type": "stream",
     "text": [
      "odd\n",
      "9\n"
     ]
    }
   ],
   "source": [
    "l=[1,2,3,9,5,6,7]\n",
    "mid=len(l)//2\n",
    "if l[mid]%2==1:\n",
    "    print(\"odd\")\n",
    "print(l[mid])"
   ]
  },
  {
   "cell_type": "markdown",
   "metadata": {},
   "source": []
  },
  {
   "cell_type": "code",
   "execution_count": null,
   "metadata": {},
   "outputs": [],
   "source": []
  }
 ],
 "metadata": {
  "kernelspec": {
   "display_name": "Python 3",
   "language": "python",
   "name": "python3"
  },
  "language_info": {
   "codemirror_mode": {
    "name": "ipython",
    "version": 3
   },
   "file_extension": ".py",
   "mimetype": "text/x-python",
   "name": "python",
   "nbconvert_exporter": "python",
   "pygments_lexer": "ipython3",
   "version": "3.10.0"
  }
 },
 "nbformat": 4,
 "nbformat_minor": 2
}
