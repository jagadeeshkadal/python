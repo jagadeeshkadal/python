{
 "cells": [
  {
   "cell_type": "code",
   "execution_count": null,
   "metadata": {},
   "outputs": [],
   "source": [
    "st=\"ramanujan\"\n",
    "print (st[0:5:1])\n",
    "print (st[0:5:-1])\n",
    "print (st[5:0:-1])\n",
    "print (st[7:-5:-1])\n",
    "print (st[::-2])\n",
    "print (st[:4:3])\n",
    "print (st[-7:4:2])\n",
    "print (st[::-3])\n",
    "print (st[::4])\n"
   ]
  },
  {
   "cell_type": "code",
   "execution_count": 2,
   "metadata": {},
   "outputs": [
    {
     "name": "stdout",
     "output_type": "stream",
     "text": [
      "[1, 2]\n",
      "[3, 'jack sparrow']\n",
      "['jack sparrow', 3, 2, 1]\n",
      "['wayne rooney', 3, 1]\n",
      "[]\n",
      "spa\n",
      "roo\n",
      "ytic\n",
      "jack\n",
      "jk\n",
      "re\n",
      " pro\n",
      "worraps kcaj\n"
     ]
    }
   ],
   "source": [
    "l=[1,2,3,\"jack sparrow\",\"wayne rooney\",\"manchester city\"]\n",
    "print (l[0:2])\n",
    "print (l[2:4])\n",
    "print (l[3::-1])\n",
    "print (l[4::-2])\n",
    "print (l[2:-1:-2])\n",
    "print (l[3][5:8])\n",
    "print (l[4][6:9])\n",
    "print (l[5][14:10:-1])\n",
    "print (l[3][0:4])\n",
    "print (l[3][0:4:3])\n",
    "print (l[4][6::4])\n",
    "print (l[3][4::2])\n",
    "print (l[3][::-1])\n",
    "\n",
    "\n",
    "\n"
   ]
  },
  {
   "cell_type": "code",
   "execution_count": 20,
   "metadata": {},
   "outputs": [
    {
     "name": "stdout",
     "output_type": "stream",
     "text": [
      "jor\n",
      "will\n",
      "[40, 200, 300]\n",
      "{'name': 'meason mount', 'age': 25, 'club': 'chelsea'}\n",
      "james\n",
      "mount\n",
      "['name', 'age', 'club']\n",
      "340\n",
      "chelsea\n",
      "25\n"
     ]
    }
   ],
   "source": [
    "l=[\"jordan\",\"willback\",[300,200,40,\"james willson\"],{1:{'name':\"meason mount\",'age':25,'club':\"chelsea\"}}]\n",
    "print(l[0][:3])\n",
    "print(l[1][:4])\n",
    "print(l[2][2::-1])\n",
    "print(l[3][1])\n",
    "print(l[2][3][:5])\n",
    "print(l[3][1]['name'][7:])\n",
    "print (list((l[3][1])))\n",
    "print(l[2][0]+l[2][2])\n",
    "print(l[3][1]['club'])\n",
    "print(str(l[3][1]['age']))"
   ]
  },
  {
   "cell_type": "code",
   "execution_count": 36,
   "metadata": {},
   "outputs": [
    {
     "name": "stdout",
     "output_type": "stream",
     "text": [
      "oneplus\n",
      "apple\n",
      "venu\n",
      "amaresh\n",
      "anaconda\n",
      "elppa\n",
      "sulp\n",
      "['apple', 'oneplus']\n",
      "ana\n",
      "resh\n",
      "lap\n",
      "pp\n",
      "hse\n",
      "oneplusapple\n"
     ]
    }
   ],
   "source": [
    "d={1:[\"oneplus\",\"apple\"],2:{'name1':\"venugopal\", 'name2':\"amaresh\"},\"a\":\"anaconda\"}\n",
    "print(d[1][0])\n",
    "print(d[1][1])\n",
    "print(d[2][\"name1\"][0:4])\n",
    "print(d[2][\"name2\"])\n",
    "print(d[\"a\"])\n",
    "print(d[1][1][::-1])\n",
    "print(d[1][0][6:2:-1])\n",
    "print(d[1][::-1])\n",
    "print(d[\"a\"][0:3])\n",
    "print(d[2][\"name2\"][3:])\n",
    "print(d[2][\"name1\"][8:5:-1])\n",
    "print(d[1][1][1:3])\n",
    "print(d[2][\"name2\"][6:3:-1])\n",
    "print(d[1][0]+d[1][1])\n",
    "\n"
   ]
  },
  {
   "cell_type": "code",
   "execution_count": 2,
   "metadata": {},
   "outputs": [
    {
     "name": "stdout",
     "output_type": "stream",
     "text": [
      "0\n",
      "1\n",
      "2\n",
      "3\n",
      "4\n",
      "5\n",
      "6\n",
      "7\n",
      "8\n",
      "9\n",
      "10\n"
     ]
    }
   ],
   "source": [
    "i=0\n",
    "while i!=11:\n",
    "    print(i)\n",
    "    i+=1"
   ]
  }
 ],
 "metadata": {
  "kernelspec": {
   "display_name": "Python 3",
   "language": "python",
   "name": "python3"
  },
  "language_info": {
   "codemirror_mode": {
    "name": "ipython",
    "version": 3
   },
   "file_extension": ".py",
   "mimetype": "text/x-python",
   "name": "python",
   "nbconvert_exporter": "python",
   "pygments_lexer": "ipython3",
   "version": "3.10.0"
  }
 },
 "nbformat": 4,
 "nbformat_minor": 2
}
