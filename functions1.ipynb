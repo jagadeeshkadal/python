{
 "cells": [
  {
   "cell_type": "code",
   "execution_count": 1,
   "metadata": {},
   "outputs": [
    {
     "name": "stdout",
     "output_type": "stream",
     "text": [
      "abbcccd\n"
     ]
    }
   ],
   "source": [
    "#input=ab2c3d output= abbcccd\n",
    "def functionname(st):\n",
    "    i=0\n",
    "    res=\"\"\n",
    "    while i<len(st)-1:\n",
    "        ch=st[i]\n",
    "        ch1=st[i+1]\n",
    "        if ch>='A' and ch<='Z' or ch >='a'and ch<='z' and ch1>='0' and ch1<='9':\n",
    "            res+=str(ch*int(ch1))\n",
    "        elif ch>='A' and ch<='Z' or ch >='a'and ch<='z' and ch1>='a' and ch1<='z' or ch1>='A' and ch1<='Z':\n",
    "            res+=ch\n",
    "        i+=1\n",
    "    if st[-1]>='A' and st[-1]<='Z' or st[-1] >='a'and st[-1]<='z':\n",
    "        res+=st[-1]\n",
    "    return res\n",
    "print(functionname('ab2c3d'))"
   ]
  },
  {
   "cell_type": "code",
   "execution_count": 2,
   "metadata": {},
   "outputs": [
    {
     "name": "stdout",
     "output_type": "stream",
     "text": [
      "(('alphabets-->', 3), ('digits-->', 4), ('symbols-->', 5))\n"
     ]
    }
   ],
   "source": [
    "#count no. of alphabets,numbers,special characters\n",
    "def function(st):\n",
    "    c=0\n",
    "    c1=0\n",
    "    c2=0\n",
    "    for i in st:\n",
    "        if i>='a'and i<='z'  or i>='A'and i<='Z':\n",
    "            c+=1\n",
    "        if i>='0'and i<='9':\n",
    "            c1+=1\n",
    "        else:\n",
    "            c2+=1\n",
    "    return(\"alphabets-->\",c ),(\"digits-->\",c1),(\"symbols-->\",c2)\n",
    "print(function('abc123@#4'))"
   ]
  },
  {
   "cell_type": "code",
   "execution_count": 4,
   "metadata": {},
   "outputs": [
    {
     "name": "stdout",
     "output_type": "stream",
     "text": [
      "6\n"
     ]
    }
   ],
   "source": [
    "#sum of digits in string\n",
    "def function():\n",
    "    st=\"123\"\n",
    "    sum=0\n",
    "    for i in st:\n",
    "        sum+=int(i)\n",
    "    return sum\n",
    "print(function())"
   ]
  },
  {
   "cell_type": "code",
   "execution_count": 8,
   "metadata": {},
   "outputs": [
    {
     "name": "stdout",
     "output_type": "stream",
     "text": [
      "1\n"
     ]
    }
   ],
   "source": [
    "#1st occurence of alphabet in string\n",
    "def function():\n",
    "    st=\"abcdeb\"\n",
    "    c=0\n",
    "    flag=True\n",
    "    for i in st:\n",
    "        if i=='b' and flag==True:\n",
    "        \n",
    "            flag=False\n",
    "        c+=1\n",
    "        return (c)\n",
    "print(function())\n",
    "            \n",
    "\n"
   ]
  },
  {
   "cell_type": "code",
   "execution_count": 7,
   "metadata": {},
   "outputs": [
    {
     "name": "stdout",
     "output_type": "stream",
     "text": [
      "('b last occurence @', 5)\n"
     ]
    }
   ],
   "source": [
    "#last occurence of alphabet in string\n",
    "def function():\n",
    "    st=\"abcdeb\"\n",
    "    c=0\n",
    "    flag=True\n",
    "    for i in st:\n",
    "        if i=='b' and flag==True:\n",
    "            k=c\n",
    "        c+=1\n",
    "    return (\"b last occurence @\",k)\n",
    "print(function())                \n",
    "\n"
   ]
  },
  {
   "cell_type": "code",
   "execution_count": 6,
   "metadata": {},
   "outputs": [
    {
     "name": "stdout",
     "output_type": "stream",
     "text": [
      "4\n"
     ]
    }
   ],
   "source": [
    "#number words in string\n",
    "def function(): \n",
    "    st=\"     hello how are u  \" \n",
    "    c=1\n",
    "    i=0\n",
    "    while i<len(st)-1:\n",
    "        ch=st[i]\n",
    "        ch1=st[i+1]\n",
    "        if ch==' ' and ch1!=' ' :\n",
    "            c+=1\n",
    "        i+=1\n",
    "    if st[0]==' ':\n",
    "        c-=1\n",
    "    return(c)\n",
    "print(function())"
   ]
  },
  {
   "cell_type": "code",
   "execution_count": 11,
   "metadata": {},
   "outputs": [
    {
     "name": "stdout",
     "output_type": "stream",
     "text": [
      "b occurence @ 5\n",
      "b occurence @ 6\n"
     ]
    }
   ],
   "source": [
    "#not first occurence\n",
    "def function():   \n",
    "    st=\"abcdebb\"\n",
    "    i=0\n",
    "    c=0\n",
    "    while i<=len(st)-1:\n",
    "        ch=st[i]\n",
    "        if ch=='b':\n",
    "            c+=1\n",
    "            if c>1:\n",
    "                print(\"b occurence @\",i)\n",
    "        i+=1\n",
    "function()\n",
    "            \n"
   ]
  },
  {
   "cell_type": "code",
   "execution_count": 10,
   "metadata": {},
   "outputs": [
    {
     "name": "stdout",
     "output_type": "stream",
     "text": [
      "b occurence @ 5\n",
      "b occurence @ 1\n",
      "None\n"
     ]
    }
   ],
   "source": [
    "#not last occurence\n",
    "def function():\n",
    "    st=\"abcdebb\"\n",
    "    i=len(st)-1\n",
    "    c=0\n",
    "    while i>=0:\n",
    "        ch=st[i]\n",
    "        if ch=='b':\n",
    "            c+=1\n",
    "            if c>1:\n",
    "                print(\"b occurence @\",i)\n",
    "        i-=1\n",
    "function()\n",
    "            \n"
   ]
  },
  {
   "cell_type": "code",
   "execution_count": 12,
   "metadata": {},
   "outputs": [
    {
     "name": "stdout",
     "output_type": "stream",
     "text": [
      "['a', 'c', 'd', 'e', 'b', 'b']\n"
     ]
    }
   ],
   "source": [
    "#delete 1st ocuurence\n",
    "def function():\n",
    "    st=\"abcdebb\"\n",
    "    i=0\n",
    "    c=0\n",
    "    while i<=len(st)-1:\n",
    "        ch=st[i]\n",
    "        if ch=='b':\n",
    "            c+=1\n",
    "            if c==1:\n",
    "                st=list(st)\n",
    "                del st[i]            \n",
    "        i+=1\n",
    "    return(st)\n",
    "print(function())"
   ]
  },
  {
   "cell_type": "code",
   "execution_count": 13,
   "metadata": {},
   "outputs": [
    {
     "name": "stdout",
     "output_type": "stream",
     "text": [
      "['a', 'b', 'c', 'd', 'e', 'b']\n"
     ]
    }
   ],
   "source": [
    "#delete last ocuurence\n",
    "def fun():\n",
    "    st=\"abcdebb\"\n",
    "    i=len(st)-1\n",
    "    c=0\n",
    "    while i>=0:\n",
    "        ch=st[i]\n",
    "        if ch=='b':\n",
    "            c+=1\n",
    "            if c==1:\n",
    "                st=list(st)\n",
    "                del st[i]            \n",
    "        i-=1\n",
    "    print(st)\n",
    "fun()"
   ]
  },
  {
   "cell_type": "code",
   "execution_count": 14,
   "metadata": {},
   "outputs": [
    {
     "name": "stdout",
     "output_type": "stream",
     "text": [
      "b total occurence--> 3\n"
     ]
    }
   ],
   "source": [
    "# total occurences of specific character in string\n",
    "def function():   \n",
    "    st=\"abcdebb\"\n",
    "    i=0\n",
    "    c=1\n",
    "    while i<len(st)-1:\n",
    "        ch=st[i]\n",
    "        if ch=='b':\n",
    "            c+=1\n",
    "        i+=1\n",
    "    print(\"b total occurence-->\",c)\n",
    "function()            \n"
   ]
  },
  {
   "cell_type": "code",
   "execution_count": 15,
   "metadata": {},
   "outputs": [
    {
     "name": "stdout",
     "output_type": "stream",
     "text": [
      "g --> 16\n"
     ]
    }
   ],
   "source": [
    "#max occurences of a character in a string\n",
    "def function():\n",
    "    st='abbcccdddddeeeeeeeegggggggggggggggg'\n",
    "    i=0\n",
    "    max_ocuurence=0\n",
    "    max_ocuured=\" \"\n",
    "    while i<len(st):\n",
    "        ch=st[i]\n",
    "        j=0\n",
    "        c=0\n",
    "        while j <=len(st)-1:\n",
    "            ch1=st[j]\n",
    "            if ch1==ch:\n",
    "                c+=1\n",
    "            j+=1\n",
    "        if c>max_ocuurence:\n",
    "            max_ocuurence=c\n",
    "            max_ocuured=ch\n",
    "        i+=1\n",
    "    print(max_ocuured,\"-->\",max_ocuurence)\n",
    "function()"
   ]
  },
  {
   "cell_type": "code",
   "execution_count": 17,
   "metadata": {},
   "outputs": [
    {
     "name": "stdout",
     "output_type": "stream",
     "text": [
      "f --> 1\n"
     ]
    }
   ],
   "source": [
    "#min occurences of a character in a string\n",
    "def function():\n",
    "    st='ababcbccdddddeeeeefeeegggggggggggggggg'\n",
    "    i=0\n",
    "    min_ocuurence=len(st)\n",
    "    min_ocuured=\" \"\n",
    "    while i<len(st)-1:\n",
    "        ch=st[i]\n",
    "        j=0\n",
    "        c=0\n",
    "        while j <=len(st)-1:\n",
    "            ch1=st[j]\n",
    "            if ch1==ch:\n",
    "                c+=1\n",
    "            j+=1\n",
    "        if c<=min_ocuurence:\n",
    "            min_ocuurence=c\n",
    "            min_ocuured=ch\n",
    "        i+=1\n",
    "    print(min_ocuured,\"-->\",min_ocuurence)\n",
    "function()"
   ]
  },
  {
   "cell_type": "code",
   "execution_count": 16,
   "metadata": {},
   "outputs": [
    {
     "name": "stdout",
     "output_type": "stream",
     "text": [
      " eoo123aii\n"
     ]
    }
   ],
   "source": [
    "# input= \"hello world 123 haii\" ---->output \"eoo123aii\"\n",
    "def function():   \n",
    "    st=\"hello world 123 haii\"\n",
    "    result=\" \"\n",
    "    for i in st:\n",
    "        if i in \"aeiou123456789\":\n",
    "            result+=i\n",
    "    print(result)\n",
    "function()"
   ]
  },
  {
   "cell_type": "code",
   "execution_count": 18,
   "metadata": {},
   "outputs": [
    {
     "name": "stdout",
     "output_type": "stream",
     "text": [
      " eo o 123 aii\n"
     ]
    }
   ],
   "source": [
    "#input= \"hello world 123 haii\" ---->output \"eo o 123 aii\"\n",
    "def function():\n",
    "    st=\"hello world 123 haii\"\n",
    "    result=\" \"\n",
    "    for i in st:\n",
    "        if i in \"aeiou123456789\" or i ==' ':\n",
    "            result+=i\n",
    "    return(result)\n",
    "print(function())"
   ]
  },
  {
   "cell_type": "code",
   "execution_count": 63,
   "metadata": {},
   "outputs": [
    {
     "name": "stdout",
     "output_type": "stream",
     "text": [
      " eo o  aii\n"
     ]
    }
   ],
   "source": [
    "#input= \"hello world 123 haii\" ---->output \"eo o  aii\"\n",
    "def function():\n",
    "    st=\"hello world 123 haii\"\n",
    "    result=\" \"\n",
    "    for i in st:\n",
    "        if i in \"aeiou\" or i ==' ':\n",
    "            result+=i\n",
    "    return(result)\n",
    "print(function())"
   ]
  },
  {
   "cell_type": "code",
   "execution_count": 19,
   "metadata": {},
   "outputs": [
    {
     "name": "stdout",
     "output_type": "stream",
     "text": [
      " hll world  haii\n"
     ]
    }
   ],
   "source": [
    "#input= \"hello world 123 haii\" ---->output \"hll world  haii\"\n",
    "def function():\n",
    "    st=\"hello world 123 haii\"\n",
    "    result=\" \"\n",
    "    c=1\n",
    "    i=0\n",
    "    while i<len(st)-1:\n",
    "        ch=st[i]\n",
    "        ch1=st[i+1]\n",
    "        if ch==' ' and ch1!=' ' :\n",
    "            c+=1\n",
    "        i+=1\n",
    "        if c%2==1 and ch not in \"aeiuo123456789\":\n",
    "            result+=ch\n",
    "        elif c%2==0 and ch not in\"1234567890\":\n",
    "            result+=ch    \n",
    "    result+=st[-1]\n",
    "    return(result)\n",
    "print(function())"
   ]
  },
  {
   "cell_type": "code",
   "execution_count": 20,
   "metadata": {},
   "outputs": [
    {
     "name": "stdout",
     "output_type": "stream",
     "text": [
      "('hll wrld ', 'eoo')\n"
     ]
    }
   ],
   "source": [
    "#input= \"hello world \" ---->output  \"hll wrld \" and\"eoo\"\n",
    "def function():\n",
    "    st=\"hello world \"\n",
    "    result=\"\"\n",
    "    result1 =\"\"\n",
    "    for i in st:\n",
    "        if i not in \"aeiou\" or i ==' ':\n",
    "            result+=i\n",
    "        elif i in \"aeiou\":\n",
    "            result1+=i\n",
    "    return(result,result1)\n",
    "print(function())\n"
   ]
  },
  {
   "cell_type": "code",
   "execution_count": 24,
   "metadata": {},
   "outputs": [
    {
     "name": "stdout",
     "output_type": "stream",
     "text": [
      "('hll wrld', 'eoo')\n"
     ]
    }
   ],
   "source": [
    "#input= \"12hello3 4world4\" ---->output  \"hll wrld \" and\"eoo\"\n",
    "def function():\n",
    "    st=\"12hello3 4world4\"\n",
    "    result=\"\"\n",
    "    result1 =\"\"\n",
    "    for i in st:\n",
    "        if i not in \"aeiou123456789\" or i ==' ':\n",
    "            result+=i\n",
    "        elif i in \"aeiou\":\n",
    "            result1+=i\n",
    "    return(result,result1)\n",
    "print(function())\n"
   ]
  },
  {
   "cell_type": "code",
   "execution_count": 25,
   "metadata": {},
   "outputs": [
    {
     "name": "stdout",
     "output_type": "stream",
     "text": [
      "('hll wrld', 'eoo', '12344')\n"
     ]
    }
   ],
   "source": [
    "#input= \"12hello3 4world4\" ---->output  \"hll wrld \" and\"eoo\" and \"12344\"\n",
    "def function():\n",
    "    st=\"12hello3 4world4\"\n",
    "    result=\"\"\n",
    "    result1 =\"\"\n",
    "    result2=\"\"\n",
    "    for i in st:\n",
    "        if i not in \"aeiou123456789\" or i ==' ':\n",
    "            result+=i\n",
    "        elif i in \"aeiou\":\n",
    "            result1+=i\n",
    "        elif i in \"1234567890\":\n",
    "            result2+=i  \n",
    "    return(result,result1,result2)\n",
    "print(function())"
   ]
  },
  {
   "cell_type": "code",
   "execution_count": 26,
   "metadata": {},
   "outputs": [
    {
     "name": "stdout",
     "output_type": "stream",
     "text": [
      "hllwrld\n",
      "eoo\n",
      "12344\n",
      "*$$#*\n"
     ]
    }
   ],
   "source": [
    "#input= \"12hello3 4world4\" ---->output  \"hll wrld \" and\"eoo\" and \"12344\" and \"*#$$#*\"\n",
    "def function():\n",
    "    st=\"*12hello3$ $4#world4*\"\n",
    "    result=\"\"\n",
    "    result1 =\"\"\n",
    "    result2=\"\"\n",
    "    result3=\"\"\n",
    "    for i in st:\n",
    "        if i >='a'and i<='z' and i not in\"aeiou1234567890\":\n",
    "            result+=i\n",
    "        elif i in \"aeiou\":\n",
    "            result1+=i\n",
    "        elif i in \"1234567890\":\n",
    "            result2+=i  \n",
    "        elif not(i>='a' and i<='z' or i>='0' and i<='9') and i!=' ':\n",
    "            result3+=i\n",
    "    print(result)\n",
    "    print(result1)\n",
    "    print(result2)\n",
    "    print(result3)\n",
    "function()"
   ]
  },
  {
   "cell_type": "code",
   "execution_count": 27,
   "metadata": {},
   "outputs": [
    {
     "name": "stdout",
     "output_type": "stream",
     "text": [
      "hllwrld\n",
      "eoo\n",
      "12344\n",
      "(*$$#*)\n"
     ]
    }
   ],
   "source": [
    "#input= \"(12hello3 4world4)\" ---->output  \"hll wrld \" and\"eoo\" and \"12344\" and \"(*#$$#*)\"\n",
    "def function():\n",
    "    st=\"(*12hello3$ $4#world4*)\"\n",
    "    result=\"\"\n",
    "    result1 =\"\"\n",
    "    result2=\"\"\n",
    "    result3=\"\"\n",
    "    for i in st:\n",
    "        if i >='a'and i<='z' and i not in\"aeiou1234567890\":\n",
    "            result+=i\n",
    "        elif i in \"aeiou\":\n",
    "            result1+=i\n",
    "        elif i in \"1234567890\":\n",
    "            result2+=i  \n",
    "        elif not(i>='a' and i<='z' or i>='0' and i<='9') and i!=' ' :\n",
    "            result3+=i\n",
    "    print(result)\n",
    "    print(result1)\n",
    "    print(result2)\n",
    "    print(result3)\n",
    "function()"
   ]
  },
  {
   "cell_type": "code",
   "execution_count": 28,
   "metadata": {},
   "outputs": [
    {
     "name": "stdout",
     "output_type": "stream",
     "text": [
      ")*#$$*(,44321,ooe,dlrwllh\n"
     ]
    }
   ],
   "source": [
    "#input= \"(12hello3 4world4)\" ---->output  \")*#$$*(,44321,ooe,dlrwllh\"\n",
    "def function():\n",
    "    st=\"(*12hello3$ $4#world4*)\"\n",
    "    result=\"\"\n",
    "    result1 =\"\"\n",
    "    result2=\"\"\n",
    "    result3=\"\"\n",
    "    for i in st:\n",
    "        if not(i>='a' and i<='z' or i>='0' and i<='9') and i!=' ' :\n",
    "            result+=i\n",
    "        elif i in \"123456789\":\n",
    "            result1+=i\n",
    "        elif i in \"aeiou\":\n",
    "            result2+=i  \n",
    "        elif i >='a'and i<='z' and i not in\"aeiou1234567890\":\n",
    "            result3+=i\n",
    "    print(result[::-1],result1[::-1],result2[::-1],result3[::-1],sep=',')\n",
    "function()"
   ]
  },
  {
   "cell_type": "code",
   "execution_count": 29,
   "metadata": {},
   "outputs": [
    {
     "name": "stdout",
     "output_type": "stream",
     "text": [
      "hllwrld,eoo,12344,(*$$#*)\n"
     ]
    }
   ],
   "source": [
    "#input= \"(12hello3 4world4)\" ---->output  \"hllwrld,eoo,12344,(*$$#*)\"\n",
    "def function():\n",
    "    st=\"(*12hello3$ $4#world4*)\"\n",
    "    result=\"\"\n",
    "    result1 =\"\"\n",
    "    result2=\"\"\n",
    "    result3=\"\"\n",
    "    for i in st:\n",
    "        if not(i>='a' and i<='z' or i>='0' and i<='9') and i!=' ' :\n",
    "            result+=i\n",
    "        elif i in \"123456789\":\n",
    "            result1+=i\n",
    "        elif i in \"aeiou\":\n",
    "            result2+=i  \n",
    "        elif i >='a'and i<='z' and i not in\"aeiou1234567890\":\n",
    "            result3+=i\n",
    "    print(result3,result2,result1,result,sep=',')\n",
    "function()"
   ]
  },
  {
   "cell_type": "code",
   "execution_count": 30,
   "metadata": {},
   "outputs": [
    {
     "name": "stdout",
     "output_type": "stream",
     "text": [
      "hllwrld,)*#$$*(,eoo,44321\n"
     ]
    }
   ],
   "source": [
    "#input= \"(12hello3 4world4)\" ---->output  \"hllwrld,)*#$$*(,eoo,44321\"\n",
    "def function():\n",
    "    st=\"(*12hello3$ $4#world4*)\"\n",
    "    result=\"\"\n",
    "    result1 =\"\"\n",
    "    result2=\"\"\n",
    "    result3=\"\"\n",
    "    for i in st:\n",
    "        if not(i>='a' and i<='z' or i>='0' and i<='9') and i!=' ' :\n",
    "            result+=i\n",
    "        elif i in \"123456789\":\n",
    "            result1+=i\n",
    "        elif i in \"aeiou\":\n",
    "            result2+=i  \n",
    "        elif i >='a'and i<='z' and i not in\"aeiou1234567890\":\n",
    "            result3+=i\n",
    "    print(result3,result[::-1],result2,result1[::-1],sep=',')\n",
    "function()"
   ]
  },
  {
   "cell_type": "code",
   "execution_count": 31,
   "metadata": {},
   "outputs": [
    {
     "name": "stdout",
     "output_type": "stream",
     "text": [
      ")*#$$*(,44321,ooe,dlrwllh\n"
     ]
    }
   ],
   "source": [
    "#input= \"(12hello3 4world4)\" ---->output  \")*#$$*(,44321,ooe,dlrwllh\"\n",
    "def function():   \n",
    "    st=\"(*12hello3$ $4#world4*)\"\n",
    "    result=\"\"\n",
    "    result1 =\"\"\n",
    "    result2=\"\"\n",
    "    result3=\"\"\n",
    "    for i in st:\n",
    "        if not(i>='a' and i<='z' or i>='0' and i<='9') and i!=' ' :\n",
    "            result+=i\n",
    "        elif i in \"123456789\":\n",
    "            result1+=i\n",
    "        elif i in \"aeiou\":\n",
    "            result2+=i  \n",
    "        elif i >='a'and i<='z' and i not in\"aeiou1234567890\":\n",
    "            result3+=i\n",
    "    print(result[::-1],result1[::-1],result2[::-1],result3[::-1],sep=',')\n",
    "function()\n"
   ]
  },
  {
   "cell_type": "code",
   "execution_count": 32,
   "metadata": {},
   "outputs": [
    {
     "name": "stdout",
     "output_type": "stream",
     "text": [
      "dlrwllh)*#$$*(ooe44321\n"
     ]
    }
   ],
   "source": [
    "#input= \"(12hello3 4world4)\" ---->output  \")*#$$*(,44321,ooe,dlrwllh\"\n",
    "def function():\n",
    "    st=\"(*12hello3$ $4#world4*)\"\n",
    "    result=\"\"\n",
    "    result1 =\"\"\n",
    "    result2=\"\"\n",
    "    result3=\"\"\n",
    "    for i in st:\n",
    "        if not(i>='a' and i<='z' or i>='0' and i<='9') and i!=' ' :\n",
    "            result+=i\n",
    "        elif i in \"123456789\":\n",
    "            result1+=i\n",
    "        elif i in \"aeiou\":\n",
    "            result2+=i  \n",
    "        elif i >='a'and i<='z' and i not in\"aeiou1234567890\":\n",
    "            result3+=i\n",
    "    print(result3[::-1],result[::-1],result2[::-1],result1[::-1],sep='')\n",
    "function()\n"
   ]
  },
  {
   "cell_type": "code",
   "execution_count": 41,
   "metadata": {},
   "outputs": [
    {
     "name": "stdout",
     "output_type": "stream",
     "text": [
      "h$ll*w*rld\n"
     ]
    }
   ],
   "source": [
    "#input \"HELLOWORLD\" output\"h$ll*w*rld\"\n",
    "def function():\n",
    "    st=\"HELLOWORLD\"\n",
    "    result=\"\"\n",
    "    for i in st:\n",
    "        if i>='A' and i<='Z' :\n",
    "            if i=='E':\n",
    "                i='$'\n",
    "                result+=i\n",
    "            elif i=='O':\n",
    "                i='*'\n",
    "                result+=i\n",
    "            else:\n",
    "                result+=chr(ord(i)+32)          \n",
    "    print(result)\n",
    "function()"
   ]
  },
  {
   "cell_type": "code",
   "execution_count": 42,
   "metadata": {},
   "outputs": [
    {
     "name": "stdout",
     "output_type": "stream",
     "text": [
      "hllwrld21\n"
     ]
    }
   ],
   "source": [
    "#input=\"123HELLO WORLD456\" output=\"hllwrld21\"\n",
    "def function():\n",
    "    st=\"123HELLO WORLD456\"\n",
    "    i=0\n",
    "    sum=0\n",
    "    res=\"\"\n",
    "    while i<=len(st)-1:\n",
    "        ch=st[i]\n",
    "        if ch>='A' and ch<='Z':\n",
    "            if ch not in \"AEIOU\":\n",
    "                res+=chr(ord(ch)+32)\n",
    "        if ch>='0' and ch<='9':\n",
    "            sum+=int(ch)\n",
    "        i+=1\n",
    "    res+=str(sum)\n",
    "    print(res)\n",
    "function()"
   ]
  },
  {
   "cell_type": "code",
   "execution_count": 44,
   "metadata": {},
   "outputs": [
    {
     "name": "stdout",
     "output_type": "stream",
     "text": [
      "123hEllO wOrld456\n"
     ]
    }
   ],
   "source": [
    "#input=\"123HELLO WORLD456\" output=\"123hEllO wOrld456\"\n",
    "def function():\n",
    "    st=\"123HELLO WORLD456\"\n",
    "    i=0\n",
    "    res=\"\"\n",
    "    while i<=len(st)-1:\n",
    "        ch=st[i]\n",
    "        if ch>='A' and ch<='Z':\n",
    "            if ch in \"AEIOU\":\n",
    "                res+=ch\n",
    "            else:\n",
    "                res+=chr(ord(ch)+32)\n",
    "        else:\n",
    "            res+=ch\n",
    "        i+=1\n",
    "    print(res)\n",
    "function()"
   ]
  },
  {
   "cell_type": "code",
   "execution_count": 58,
   "metadata": {},
   "outputs": [
    {
     "name": "stdout",
     "output_type": "stream",
     "text": [
      "123*E**O *O***456\n"
     ]
    }
   ],
   "source": [
    "#input \"123HELLO WORLD456\" output\"123*E**O *O***456\"\n",
    "def function():\n",
    "    st=\"123HELLO WORLD456\"\n",
    "    result=\"\"\n",
    "    for i in st:\n",
    "        if i>='A' and i<='Z' :\n",
    "            if i>='A' and i<='Z'  and i not in\"AEIOU\":\n",
    "                i='*'\n",
    "                result+=i\n",
    "        if  i>='A' and i<='Z' and i in \"AEIOU\" or i ==' ' or i in\"123456789\":\n",
    "                result+=i    \n",
    "    print(result)\n",
    "function()"
   ]
  },
  {
   "cell_type": "code",
   "execution_count": 33,
   "metadata": {},
   "outputs": [
    {
     "name": "stdout",
     "output_type": "stream",
     "text": [
      "321hEllO wOrld654\n"
     ]
    }
   ],
   "source": [
    "#input \"123HELLO WORLD456\" output \"321hEllO wOrld654\"\n",
    "def function():\n",
    "    st=\"123HELLO WORLD456\"\n",
    "    i=0\n",
    "    res=\"\"\n",
    "    while i<=len(st)-3:\n",
    "        ch=st[i]\n",
    "        ch1=st[i+1]\n",
    "        ch2=st[i+2]\n",
    "        if ch>='A' and ch<='Z' or ch==' ':\n",
    "            if ch in \"AEIOU\" or ch==' ':\n",
    "                res+=ch\n",
    "            else:\n",
    "                res+=chr(ord(ch)+32)\n",
    "        elif (ch>='0' and ch<='9') and (ch1>='0' and ch1<='9') and (ch2>='0' and ch2<='9'):\n",
    "            res+=ch2+ch1+ch  \n",
    "        i+=1\n",
    "    print(res)\n",
    "function()"
   ]
  },
  {
   "cell_type": "code",
   "execution_count": 34,
   "metadata": {},
   "outputs": [
    {
     "name": "stdout",
     "output_type": "stream",
     "text": [
      "321*E**O *O***654\n"
     ]
    }
   ],
   "source": [
    "#input \"123HELLO WORLD456\" output \"321*E**O *O***654\"\n",
    "def function():\n",
    "    st=\"123HELLO WORLD456\"\n",
    "    i=0\n",
    "    res=\"\"\n",
    "    while i<=len(st)-3:\n",
    "        ch=st[i]\n",
    "        ch1=st[i+1]\n",
    "        ch2=st[i+2]\n",
    "        if ch>='A' and ch<='Z' or ch==' ':\n",
    "            if ch in \"AEIOU\" or ch==' ':\n",
    "                res+=ch\n",
    "            else:\n",
    "                ch='*'\n",
    "                res+=ch\n",
    "        elif (ch>='0' and ch<='9') and (ch1>='0' and ch1<='9') and (ch2>='0' and ch2<='9'):\n",
    "            res+=ch2+ch1+ch  \n",
    "        i+=1\n",
    "    print(res)\n",
    "function()"
   ]
  },
  {
   "cell_type": "code",
   "execution_count": 76,
   "metadata": {},
   "outputs": [
    {
     "name": "stdout",
     "output_type": "stream",
     "text": [
      "axbycz\n"
     ]
    }
   ],
   "source": [
    "#input=\"abc\",\"xyz\" output=\"axbycz\"\n",
    "def function():\n",
    "    st=\"abc\"\n",
    "    st1=\"xyz\"\n",
    "    result=\"\"\n",
    "    i=0\n",
    "    j=0\n",
    "    while i<=len(st)-1 and j<=len(st1)-1:\n",
    "        ch=st[i]\n",
    "        ch1=st1[j]\n",
    "        result+=ch\n",
    "        result+=ch1\n",
    "        i+=1\n",
    "        j+=1\n",
    "    print(result)\n",
    "function()"
   ]
  },
  {
   "cell_type": "code",
   "execution_count": 86,
   "metadata": {},
   "outputs": [
    {
     "name": "stdout",
     "output_type": "stream",
     "text": [
      "axbyczw\n"
     ]
    }
   ],
   "source": [
    "#input=\"abc\",\"xyzw\" output=\"axbyczw\"\n",
    "def function():\n",
    "    st=\"abc\"\n",
    "    st1=\"xyzw\"\n",
    "    result=\"\"\n",
    "    i=0\n",
    "    j=0\n",
    "    while i<len(st) and j<len(st1):\n",
    "        ch=st[i]\n",
    "        ch1=st1[j]\n",
    "        result+=ch\n",
    "        result+=ch1\n",
    "        i+=1\n",
    "        j+=1\n",
    "    if st1[-1]>='a'and st1[-1]<='z':\n",
    "        result+=st1[-1]\n",
    "    print(result)\n",
    "function()"
   ]
  },
  {
   "cell_type": "code",
   "execution_count": 35,
   "metadata": {},
   "outputs": [
    {
     "name": "stdout",
     "output_type": "stream",
     "text": [
      "axbyczd\n"
     ]
    }
   ],
   "source": [
    "#input=\"abcd\",\"xyz\" output=\"axbyczd\"\n",
    "def function():\n",
    "    st=\"abcd\"\n",
    "    st1=\"xyz\"\n",
    "    result=\"\"\n",
    "    i=0\n",
    "    j=0\n",
    "    while i<len(st) and j<len(st1):\n",
    "        ch=st[i]\n",
    "        ch1=st1[j]\n",
    "        result+=ch\n",
    "        result+=ch1\n",
    "        i+=1\n",
    "        j+=1\n",
    "    if st[-1]>='a'and st[-1]<='z':\n",
    "        result+=st[-1]\n",
    "    print(result)\n",
    "function()"
   ]
  },
  {
   "cell_type": "code",
   "execution_count": 37,
   "metadata": {},
   "outputs": [
    {
     "name": "stdout",
     "output_type": "stream",
     "text": [
      "axbyczwop\n",
      "axbyczwop\n"
     ]
    }
   ],
   "source": [
    "#input=\"abc\",\"xyzwop\" output=\"axbyczwop\"\n",
    "def function():\n",
    "    st=\"abc\"\n",
    "    st1=\"xyzwop\"\n",
    "    result=\"\"\n",
    "    i=0\n",
    "    j=0\n",
    "    while i<len(st) and  j<len(st1):\n",
    "        ch=st[i]\n",
    "        ch1=st1[j]\n",
    "        result+=ch\n",
    "        result+=ch1\n",
    "        i+=1\n",
    "        j+=1\n",
    "    for k in range(len(st),len(st1)):\n",
    "        result+=st1[k]\n",
    "    print(result)\n",
    "function()\n",
    "\n",
    "#########################################\n",
    "st='abc'\n",
    "st1='xyzwop'\n",
    "res=\"\"\n",
    "k=0\n",
    "l=0\n",
    "while k<len(st) or l<len(st1):\n",
    "    if k<len(st):\n",
    "        res+=st[k]\n",
    "    if l<len(st1):\n",
    "        res+=st1[l]\n",
    "    k+=1\n",
    "    l+=1\n",
    "print(res)\n",
    "         "
   ]
  },
  {
   "cell_type": "code",
   "execution_count": 38,
   "metadata": {},
   "outputs": [
    {
     "name": "stdout",
     "output_type": "stream",
     "text": [
      "a1b2c3\n"
     ]
    }
   ],
   "source": [
    "#input=\"abc123\" output=\"a1b2c3\"\n",
    "def function():\n",
    "    st=\"abc123\"\n",
    "    i=0\n",
    "    res=\"\"\n",
    "    res1=\"\"\n",
    "    op=\"\"\n",
    "    while i<=len(st)-1:\n",
    "        ch=st[i]\n",
    "        if ch>='a' and ch<='z':\n",
    "            res+=ch\n",
    "        if ch>='0' and ch<='9':\n",
    "            res1+=ch\n",
    "        i+=1\n",
    "    j=0\n",
    "    while j<=len(res)-1 or j<=len(res1)-1:\n",
    "        if j<=len(res)-1:\n",
    "            op+=res[j]\n",
    "        if j<=len(st1)-1:\n",
    "            op+=res1[j]\n",
    "        j+=1\n",
    "    print(op)\n",
    "function()\n",
    "        "
   ]
  },
  {
   "cell_type": "code",
   "execution_count": 39,
   "metadata": {},
   "outputs": [
    {
     "name": "stdout",
     "output_type": "stream",
     "text": [
      "a1b2c\n"
     ]
    }
   ],
   "source": [
    "#input=\"abc12\" output=\"a1b2c\"\n",
    "def function():\n",
    "    st=\"abc12\"\n",
    "    i=0\n",
    "    res=\"\"\n",
    "    res1=\"\"\n",
    "    op=\"\"\n",
    "    while i<len(st):\n",
    "        ch=st[i]\n",
    "        if ch>='a' and ch<='z':\n",
    "            res+=ch\n",
    "        if ch>='0' and ch<='9':\n",
    "            res1+=ch\n",
    "        i+=1\n",
    "    j=0\n",
    "    while j<len(res) or j<len(res1):\n",
    "        if j<len(res):\n",
    "            op+=res[j]\n",
    "        if j<len(res1):\n",
    "            op+=res1[j]\n",
    "        j+=1\n",
    "    print(op)\n",
    "function()\n",
    "        "
   ]
  },
  {
   "cell_type": "code",
   "execution_count": 40,
   "metadata": {},
   "outputs": [
    {
     "name": "stdout",
     "output_type": "stream",
     "text": [
      "a1b2c34\n"
     ]
    }
   ],
   "source": [
    "#input=\"abc12\" output=\"a1b2c\"\n",
    "def function():\n",
    "    st=\"1abc234\"\n",
    "    i=0\n",
    "    res=\"\"\n",
    "    res1=\"\"\n",
    "    op=\"\"\n",
    "    while i<len(st):\n",
    "        ch=st[i]\n",
    "        if ch>='a' and ch<='z':\n",
    "            res+=ch\n",
    "        if ch>='0' and ch<='9':\n",
    "            res1+=ch\n",
    "        i+=1\n",
    "    j=0\n",
    "    while j<len(res) or j<len(res1):\n",
    "        if j<len(res):\n",
    "            op+=res[j]\n",
    "        if j<len(res1):\n",
    "            op+=res1[j]\n",
    "        j+=1\n",
    "    print(op)\n",
    "function()      "
   ]
  },
  {
   "cell_type": "code",
   "execution_count": 41,
   "metadata": {},
   "outputs": [
    {
     "name": "stdout",
     "output_type": "stream",
     "text": [
      "3\n"
     ]
    }
   ],
   "source": [
    "#input=\"abcdnjshfdbxj12yaxyzabcd5\" output=3\n",
    "def function():\n",
    "    st=\"abcdnjshfdbxj12yaxyzabcd5\"\n",
    "    c=0\n",
    "    for i in st:\n",
    "        if i in \"0123456789\":\n",
    "            c+=1\n",
    "    print(c)\n",
    "function()\n",
    "    "
   ]
  },
  {
   "cell_type": "code",
   "execution_count": 1,
   "metadata": {},
   "outputs": [
    {
     "name": "stdout",
     "output_type": "stream",
     "text": [
      "HA1I2I3 HE4LLO5\n"
     ]
    }
   ],
   "source": [
    "#input \"HAII HELLO\" output=\"HAII1213 HE4LLO5\"\n",
    "st=\"HAII HELLO\"\n",
    "res=\"\"\n",
    "c=0\n",
    "for i in st:\n",
    "    if i in 'AEIOU':\n",
    "        c+=1\n",
    "        res+=i+str(c)\n",
    "    else:\n",
    "        res+=i\n",
    "print(res)\n",
    "    "
   ]
  },
  {
   "cell_type": "code",
   "execution_count": 42,
   "metadata": {},
   "outputs": [
    {
     "name": "stdout",
     "output_type": "stream",
     "text": [
      "H1AII 2H3EL4L5O\n"
     ]
    }
   ],
   "source": [
    "#input \"HAII HELLO\" output=\"H1AII 2H3EL4L5O\"\n",
    "def function():\n",
    "    st=\"HAII HELLO\"\n",
    "    res=\"\"\n",
    "    c=0\n",
    "    for i in st:\n",
    "        if i not in 'AEIOU':\n",
    "            c+=1\n",
    "            res+=i+str(c)\n",
    "        else:\n",
    "            res+=i\n",
    "    print(res)\n",
    "function()\n"
   ]
  },
  {
   "cell_type": "code",
   "execution_count": 43,
   "metadata": {},
   "outputs": [
    {
     "name": "stdout",
     "output_type": "stream",
     "text": [
      "badcfeg\n"
     ]
    }
   ],
   "source": [
    "#input=\"abcdefg\" output=\"badcfeg\"\n",
    "def function():\n",
    "    st=\"abcdefg\"\n",
    "    res=\"\"\n",
    "    i=0\n",
    "    while i<len(st)-1:\n",
    "        ch=st[i]\n",
    "        ch1=st[i+1]\n",
    "        res+=ch1+ch\n",
    "        i+=2\n",
    "    if len(st)%2==1:\n",
    "        res+=st[-1]\n",
    "    print(res)\n",
    "function()"
   ]
  },
  {
   "cell_type": "code",
   "execution_count": 44,
   "metadata": {},
   "outputs": [
    {
     "name": "stdout",
     "output_type": "stream",
     "text": [
      "9 2 2 2\n",
      "8 3 2 3\n",
      "8 4 2 4\n"
     ]
    }
   ],
   "source": [
    "def function():\n",
    "    l=[\"PYspiders@12\",\"JsPiDers@123\",\"QsPIderS@1234\"]\n",
    "    for string in l :\n",
    "        i=0\n",
    "        c_alphabets=0\n",
    "        c_numbers=0\n",
    "        c_vowels=0\n",
    "        c_uppercase=0\n",
    "        for ch in string:\n",
    "            \n",
    "            if ch>='a' and ch<='z' or ch>='A' and ch<='Z':\n",
    "                c_alphabets+=1\n",
    "                if ch in\"aeiouAEIOU\":\n",
    "                    c_vowels+=1\n",
    "                if ch>='A' and ch<='Z':\n",
    "                    c_uppercase+=1\n",
    "            elif ch>='0' and ch<='9':\n",
    "                c_numbers+=1\n",
    "                \n",
    "        print(c_alphabets,c_numbers,c_vowels,c_uppercase)\n",
    "function()\n",
    "    "
   ]
  },
  {
   "cell_type": "code",
   "execution_count": 45,
   "metadata": {},
   "outputs": [
    {
     "name": "stdout",
     "output_type": "stream",
     "text": [
      "['dcba', 'zyx', '321@ba']\n",
      "['dcba', 'zyx', '321@ba']\n"
     ]
    }
   ],
   "source": [
    "def function():\n",
    "    l=[\"abcd\",\"xyz\",\"ab@123\"]\n",
    "    l1=[]\n",
    "    for string in l:\n",
    "        i=len(string)-1\n",
    "        res=\"\"\n",
    "        while i>=0:\n",
    "            ch=string[i]\n",
    "            res+=ch\n",
    "            i-=1\n",
    "        l1+=[res]\n",
    "    print(l1)\n",
    "function()\n",
    "#reverse loop for inside while to update the elements in same list\n",
    "l=[\"abcd\",\"xyz\",\"ab@123\"]\n",
    "j=0\n",
    "while j<len(l):\n",
    "    result=\"\"\n",
    "    for k in l[j]:\n",
    "        result=k+result\n",
    "    l[j]=result\n",
    "    j+=1\n",
    "print(l)\n"
   ]
  },
  {
   "cell_type": "code",
   "execution_count": 46,
   "metadata": {},
   "outputs": [
    {
     "name": "stdout",
     "output_type": "stream",
     "text": [
      "2\n",
      "3\n",
      "5\n",
      "7\n",
      "11\n",
      "28\n"
     ]
    }
   ],
   "source": [
    "#sum of primes in list\n",
    "def function():\n",
    "    l=[2,3,5,7,11,1,4,6]\n",
    "    sum=0\n",
    "    for element in l:\n",
    "        i=1\n",
    "        c=0\n",
    "        while i<=element:\n",
    "            if element%i==0:\n",
    "                c+=1\n",
    "            i+=1\n",
    "        if c==2:\n",
    "            sum+=element\n",
    "            print(element)\n",
    "    print(sum)\n",
    "function()\n",
    "    \n",
    "    "
   ]
  },
  {
   "cell_type": "code",
   "execution_count": 110,
   "metadata": {},
   "outputs": [
    {
     "name": "stdout",
     "output_type": "stream",
     "text": [
      "6\n",
      "28\n",
      "496\n",
      "8128\n",
      "8658\n"
     ]
    }
   ],
   "source": [
    "#sum of perfect numbers in list\n",
    "l=[2,3,4,6,8,28,496,8128]\n",
    "sum1=0\n",
    "for element in l:\n",
    "    i=1\n",
    "    sum=0\n",
    "    while i<element:\n",
    "        if element%i==0:\n",
    "            sum+=i\n",
    "        i+=1\n",
    "    if sum==element:\n",
    "        print(element)\n",
    "        sum1+=element\n",
    "print(sum1)\n",
    "        \n"
   ]
  },
  {
   "cell_type": "code",
   "execution_count": 87,
   "metadata": {},
   "outputs": [
    {
     "name": "stdout",
     "output_type": "stream",
     "text": [
      "prime numbers are--> [2, 3, 5, 7, 11]\n",
      "prime numbers sum is--> [28]\n",
      "[2, 3, 5, 7, 11, 1, 4, 6, 28, 496]\n",
      "2\n",
      "3\n",
      "5\n",
      "7\n",
      "11\n"
     ]
    }
   ],
   "source": [
    "#sum of primes in list\n",
    "l=[2,3,5,7,11,1,4,6,28,496]\n",
    "sum=0\n",
    "lprime=[]\n",
    "prime_sum=[]\n",
    "for element in l:\n",
    "    i=1\n",
    "    c=0\n",
    "    while i<=element:\n",
    "        if element%i==0:\n",
    "            c+=1\n",
    "        i+=1\n",
    "    if c==2:\n",
    "        sum+=element\n",
    "        lprime+=[element]\n",
    "prime_sum+=[sum]\n",
    "print(\"prime numbers are-->\",lprime)\n",
    "print(\"prime numbers sum is-->\",prime_sum)\n",
    "print(l)\n",
    "for element1 in l:\n",
    "    j=1\n",
    "    sum1=0\n",
    "    while j<element1:\n",
    "        if element1%j==0:\n",
    "            sum1+=element1\n",
    "        j+=1\n",
    "    if sum1==element1:\n",
    "        print(element1)\n",
    "    "
   ]
  },
  {
   "cell_type": "code",
   "execution_count": 120,
   "metadata": {},
   "outputs": [
    {
     "name": "stdout",
     "output_type": "stream",
     "text": [
      "['haii', ' how', ' are', ' u']\n"
     ]
    }
   ],
   "source": [
    "st=\"haii how are u \" \n",
    "c=1\n",
    "i=0\n",
    "l=[]\n",
    "res=''\n",
    "while i<len(st):\n",
    "    ch=st[i]\n",
    "    if ch!=' ':\n",
    "        res+=ch\n",
    "    else:\n",
    "        l+=[res]\n",
    "        res=' '\n",
    "    i+=1\n",
    "print(l)"
   ]
  },
  {
   "cell_type": "code",
   "execution_count": 116,
   "metadata": {},
   "outputs": [
    {
     "name": "stdout",
     "output_type": "stream",
     "text": [
      "['python', ' scripting', ' language']\n"
     ]
    }
   ],
   "source": [
    "l=\"python scripting language\"\n",
    "res=\"\"\n",
    "l1=[]\n",
    "for i in l:\n",
    "    if i!=\" \":\n",
    "        res=res+i\n",
    "    else:\n",
    "        l1=l1+[res]\n",
    "        res=\" \"\n",
    "if res:\n",
    "    l1=l1+[res]\n",
    "print(l1)"
   ]
  },
  {
   "cell_type": "code",
   "execution_count": 7,
   "metadata": {},
   "outputs": [
    {
     "name": "stdout",
     "output_type": "stream",
     "text": [
      "['ABCDEF', 'IJ']\n"
     ]
    }
   ],
   "source": [
    "st=\"ABCDEFGIJKABC\"\n",
    "res=\"\"\n",
    "i=0\n",
    "l=[]\n",
    "while i<len(st)-2:\n",
    "    ch=st[i]\n",
    "    ch1=st[i+1]\n",
    "    if ord(ch)+1==ord(ch1):\n",
    "        res+=ch\n",
    "    else:\n",
    "        l+=[res]\n",
    "        res=''\n",
    "    i+=1\n",
    "print(l)"
   ]
  },
  {
   "cell_type": "code",
   "execution_count": 11,
   "metadata": {},
   "outputs": [
    {
     "name": "stdout",
     "output_type": "stream",
     "text": [
      "[10, 20, 30, 40, 50, 60, 70]\n"
     ]
    }
   ],
   "source": [
    "l=[10,10,10,20,30,40,40,50,60,70,70]\n",
    "l1=[]\n",
    "for i in l:\n",
    "    if i not in l1:\n",
    "        l1+=[i]\n",
    "print(l1)\n",
    "        \n",
    "    "
   ]
  },
  {
   "cell_type": "code",
   "execution_count": 30,
   "metadata": {},
   "outputs": [
    {
     "name": "stdout",
     "output_type": "stream",
     "text": [
      "[2, 3, 66, 6, 8, 12, 60]\n"
     ]
    }
   ],
   "source": [
    "arr={2,3,5,6,8,12,60,66}\n",
    "m=int(input())\n",
    "l=int(input())\n",
    "s=[]\n",
    "sum=0\n",
    "for i in arr:\n",
    "    if i%l==0 or i%m==0:\n",
    "        s+=[i]\n",
    "print(s)"
   ]
  }
 ],
 "metadata": {
  "kernelspec": {
   "display_name": "Python 3",
   "language": "python",
   "name": "python3"
  },
  "language_info": {
   "codemirror_mode": {
    "name": "ipython",
    "version": 3
   },
   "file_extension": ".py",
   "mimetype": "text/x-python",
   "name": "python",
   "nbconvert_exporter": "python",
   "pygments_lexer": "ipython3",
   "version": "3.10.0"
  }
 },
 "nbformat": 4,
 "nbformat_minor": 2
}
