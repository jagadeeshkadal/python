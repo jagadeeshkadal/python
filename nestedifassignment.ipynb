{
 "cells": [
  {
   "cell_type": "markdown",
   "metadata": {},
   "source": [
    "WAP  to check whether the given number is even or odd,\n",
    "if even, to check whether given value is divisible by 4 or not, if divisible, to display the square of the number,\n",
    "if number is odd, to check whether given number is divisible by 3 and 7 or not,\n",
    "If the condition is satisfied, display the area of the circle. \n",
    "\n"
   ]
  },
  {
   "cell_type": "code",
   "execution_count": 7,
   "metadata": {},
   "outputs": [
    {
     "name": "stdout",
     "output_type": "stream",
     "text": [
      "1384.74\n"
     ]
    }
   ],
   "source": [
    "num=int(input())\n",
    "if num%2==0:\n",
    "    if num%4==0:\n",
    "        print(num**2)\n",
    "elif num%2==1:\n",
    "    if num%3==0 and num%7==0:\n",
    "        print(3.14*num**2)"
   ]
  },
  {
   "cell_type": "markdown",
   "metadata": {},
   "source": [
    "WAP to check whether the given input alphabet is present in a collection or not if it is present in the collection, check whether that alphabet is uppercase or lowercase if it is uppercase converted into lowercase and vice versa, if the alphabet not present in the collection prints invalid."
   ]
  },
  {
   "cell_type": "code",
   "execution_count": 16,
   "metadata": {},
   "outputs": [
    {
     "name": "stdout",
     "output_type": "stream",
     "text": [
      "A\n"
     ]
    }
   ],
   "source": [
    "collec=['J','A','G','A','D','E','S','H','a']\n",
    "ch=input()\n",
    "if ch in collec:\n",
    "    if ch>='A' and ch<='Z':\n",
    "        print(chr(ord(ch)+32))\n",
    "    else:print(chr(ord(ch)-32))\n",
    "else:print(\"not in collection\")\n"
   ]
  },
  {
   "cell_type": "markdown",
   "metadata": {},
   "source": [
    "WAP to check whether the given input character is present in a given string collection or not.\n",
    "if it is present, check whether the collection length is even or odd,\n",
    "if it is even print even indexed items of that collection using slicing,  \n",
    "if it is odd, print odd indexed item of that collection, \n",
    "if the character not present in the collection just print that collection,"
   ]
  },
  {
   "cell_type": "code",
   "execution_count": 13,
   "metadata": {},
   "outputs": [
    {
     "name": "stdout",
     "output_type": "stream",
     "text": [
      "aaeh\n"
     ]
    }
   ],
   "source": [
    "st=input()\n",
    "a=input()\n",
    "if a in st:\n",
    "    if len(st)%2==0:\n",
    "        print(st[1::2])\n",
    "    else:\n",
    "        print(st[0::2])\n",
    "else:print(\"not in collection\")"
   ]
  },
  {
   "cell_type": "markdown",
   "metadata": {},
   "source": [
    "WAP to check whether a given character is alphabet or not, \n",
    "if alphabet to check the given alphabet character is  uppercase or not, \n",
    "if uppercase, to check vowel or not, \n",
    "if vowel to display the next character of given character, \n",
    "if lowercase, to convert to uppercase and display the character, \n",
    "or else the given character is not an alphabet,then to check if the given character is an ascii number or special character, and display the result."
   ]
  },
  {
   "cell_type": "code",
   "execution_count": 21,
   "metadata": {},
   "outputs": [
    {
     "name": "stdout",
     "output_type": "stream",
     "text": [
      "#\n"
     ]
    }
   ],
   "source": [
    "ch=input()\n",
    "l=['a','e','i','o','u','A','E','I','O','U']\n",
    "if ch>='a' and ch<='z' or ch>='A' and ch<='Z':\n",
    "    if ch>='A' and ch<='Z':\n",
    "        if ch in l:\n",
    "            print(chr(ord(ch)+1))\n",
    "        else: print(\"not vovel\")\n",
    "    else:print(chr(ord(ch)-32))\n",
    "elif ch>='0' and ch<='9':\n",
    "    print(ch)  \n",
    "else:print(ch)    "
   ]
  },
  {
   "cell_type": "markdown",
   "metadata": {},
   "source": [
    "WAP to check whether given value is non primitive or  primitive, \n",
    "If value is non primitive to check, it is mutable or immutable,\n",
    "If mutable, to check if a given value is list or not, \n",
    "if list, replace the middle element into a new element, or dict to extract all the values from the dict, or set to extract the first and last element of the set,\n",
    "If immutable, to convert into mutable and to perform swapping  of first and last elements. Or else if primitive to perform the bitwise not operation.\n"
   ]
  },
  {
   "cell_type": "code",
   "execution_count": 4,
   "metadata": {},
   "outputs": [
    {
     "name": "stdout",
     "output_type": "stream",
     "text": [
      "2\n",
      "4\n"
     ]
    }
   ],
   "source": [
    "val={2,3,4}\n",
    "n=9\n",
    "if type(val)not in [int,float,complex,bool]:\n",
    "    if type(val)in [str,list,dict,set]:\n",
    "        if type(val)==list:\n",
    "            mid=len(val)//2\n",
    "            val[mid]=n\n",
    "            print(val)\n",
    "        elif type(val)==dict:\n",
    "            print(val)\n",
    "        elif type(val)==set:\n",
    "            new=list(val)\n",
    "            print(new[0])\n",
    "            print(new[-1])\n",
    "    else:\n",
    "        mu=list(val)\n",
    "        swap=mu[-1]+mu[1:-1]+mu[0]\n",
    "        print(swap)\n",
    "else:print(~val)\n",
    "        \n",
    "            \n",
    "              "
   ]
  }
 ],
 "metadata": {
  "kernelspec": {
   "display_name": "Python 3",
   "language": "python",
   "name": "python3"
  },
  "language_info": {
   "codemirror_mode": {
    "name": "ipython",
    "version": 3
   },
   "file_extension": ".py",
   "mimetype": "text/x-python",
   "name": "python",
   "nbconvert_exporter": "python",
   "pygments_lexer": "ipython3",
   "version": "3.10.0"
  }
 },
 "nbformat": 4,
 "nbformat_minor": 2
}
