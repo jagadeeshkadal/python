{
 "cells": [
  {
   "cell_type": "markdown",
   "metadata": {},
   "source": [
    "questions on elif\n",
    "---------------------"
   ]
  },
  {
   "cell_type": "code",
   "execution_count": 8,
   "metadata": {},
   "outputs": [
    {
     "name": "stdout",
     "output_type": "stream",
     "text": [
      "it is a positive number\n"
     ]
    }
   ],
   "source": [
    "num=int(input(\"enter the number\"))\n",
    "if num>0:\n",
    "    print(\"it is a positive number\")\n",
    "elif num<0:\n",
    "    print(\"it is a negative number\")\n",
    "elif num==0:\n",
    "    print(\"it is a zero\")\n",
    "\n"
   ]
  },
  {
   "cell_type": "code",
   "execution_count": 11,
   "metadata": {},
   "outputs": [
    {
     "name": "stdout",
     "output_type": "stream",
     "text": [
      "it is a zero\n"
     ]
    }
   ],
   "source": [
    "num=int(input(\"enter the number\"))\n",
    "if num==0:\n",
    "    print(\"it is a zero\")\n",
    "elif num%2==0:\n",
    "    print(\"it is even\")\n",
    "elif num%2==1:\n",
    "    print(\"it is odd\")\n",
    "\n"
   ]
  },
  {
   "cell_type": "code",
   "execution_count": 12,
   "metadata": {},
   "outputs": [
    {
     "name": "stdout",
     "output_type": "stream",
     "text": [
      "its not an alphabet\n"
     ]
    }
   ],
   "source": [
    "ch=input(\"enter the character :\")\n",
    "if (ch>=\"A\" and ch<=\"Z\"):\n",
    "    print(\"it is upper case alphabet\")\n",
    "elif (ch>='a' and ch<='z'):\n",
    "    print(\"it is lower case alphabet\")\n",
    "else :\n",
    "    print(\"its not an alphabet\")\n",
    "\n",
    "\n",
    "\n"
   ]
  },
  {
   "cell_type": "code",
   "execution_count": 16,
   "metadata": {},
   "outputs": [
    {
     "name": "stdout",
     "output_type": "stream",
     "text": [
      "it is a digit\n"
     ]
    }
   ],
   "source": [
    "ch=input(\"enter the character :\")\n",
    "if (ch>=\"A\" and ch<=\"Z\") or (ch>='a' and ch<='z'):\n",
    "    print(\"it is an alphabet\")\n",
    "elif (ch>='0'and ch<='9'):\n",
    "    print(\"it is a digit\")\n",
    "else :\n",
    "    print(\"it is a symbol\")\n",
    "\n",
    "\n",
    "\n"
   ]
  },
  {
   "cell_type": "code",
   "execution_count": 19,
   "metadata": {},
   "outputs": [
    {
     "name": "stdout",
     "output_type": "stream",
     "text": [
      "it is uppercase alphabet\n"
     ]
    }
   ],
   "source": [
    "ch=input(\"enter the character:\")\n",
    "if ch>=\"A\" and ch<=\"Z\":\n",
    "    print(\"it is uppercase alphabet\")\n",
    "elif ch>='a' and ch<='z':\n",
    "    print(\"it is a lower case alphabet\")\n",
    "elif ch>='0' and ch<='9':\n",
    "    print(\"it is a digit\")\n",
    "\n"
   ]
  },
  {
   "cell_type": "code",
   "execution_count": 24,
   "metadata": {},
   "outputs": [],
   "source": [
    "num=int(input(\"enter a number\"))\n",
    "if num%3==0 and num%5==0:\n",
    "    print(\"Fizz Buzz\")\n",
    "elif num%3==0:\n",
    "    print(\"Fizz\")\n",
    "elif num%5==0:\n",
    "    print(\"Buzz\")\n",
    "\n"
   ]
  }
 ],
 "metadata": {
  "kernelspec": {
   "display_name": "Python 3",
   "language": "python",
   "name": "python3"
  },
  "language_info": {
   "codemirror_mode": {
    "name": "ipython",
    "version": 3
   },
   "file_extension": ".py",
   "mimetype": "text/x-python",
   "name": "python",
   "nbconvert_exporter": "python",
   "pygments_lexer": "ipython3",
   "version": "3.12.1"
  }
 },
 "nbformat": 4,
 "nbformat_minor": 2
}
