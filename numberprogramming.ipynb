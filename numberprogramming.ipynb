{
 "cells": [
  {
   "cell_type": "code",
   "execution_count": null,
   "metadata": {},
   "outputs": [],
   "source": [
    "#sunny number\n",
    "n=int(input())\n",
    "number =n+1\n",
    "i = 1\n",
    "\n",
    "while i * i <= number:\n",
    "    if i * i == number:\n",
    "        print(n, \"is a sunny number.\")\n",
    "        break\n",
    "    i += 1\n",
    "else:\n",
    "    print(n, \"is not a sunny number.\")\n"
   ]
  },
  {
   "cell_type": "code",
   "execution_count": null,
   "metadata": {},
   "outputs": [],
   "source": [
    "#automorphic number\n",
    "n=int(input())\n",
    "n1=n\n",
    "sq=n**2\n",
    "c=0\n",
    "while n!=0:\n",
    "    c+=1\n",
    "    n=n//10\n",
    "p=sq%10**c\n",
    "print(n1,p)\n",
    "if p==n1:\n",
    "    print(\"automorphic number\")\n",
    "else:print(\"not automorphic\")"
   ]
  },
  {
   "cell_type": "code",
   "execution_count": null,
   "metadata": {},
   "outputs": [],
   "source": []
  },
  {
   "cell_type": "code",
   "execution_count": null,
   "metadata": {},
   "outputs": [],
   "source": []
  },
  {
   "cell_type": "code",
   "execution_count": null,
   "metadata": {},
   "outputs": [],
   "source": []
  }
 ],
 "metadata": {
  "language_info": {
   "name": "python"
  }
 },
 "nbformat": 4,
 "nbformat_minor": 2
}
