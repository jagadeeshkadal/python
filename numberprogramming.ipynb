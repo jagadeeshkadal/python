{
 "cells": [
  {
   "cell_type": "code",
   "execution_count": null,
   "metadata": {},
   "outputs": [],
   "source": [
    "#sunny number\n",
    "n=int(input())\n",
    "number =n+1\n",
    "i = 1\n",
    "\n",
    "while i * i <= number:\n",
    "    if i * i == number:\n",
    "        print(n, \"is a sunny number.\")\n",
    "        break\n",
    "    i += 1\n",
    "else:\n",
    "    print(n, \"is not a sunny number.\")\n"
   ]
  },
  {
   "cell_type": "code",
   "execution_count": null,
   "metadata": {},
   "outputs": [],
   "source": [
    "#automorphic number\n",
    "n=int(input())\n",
    "n1=n\n",
    "sq=n**2\n",
    "c=0\n",
    "while n!=0:\n",
    "    c+=1\n",
    "    n=n//10\n",
    "p=sq%10**c\n",
    "print(n1,p)\n",
    "if p==n1:\n",
    "    print(\"automorphic number\")\n",
    "else:print(\"not automorphic\")"
   ]
  },
  {
   "cell_type": "code",
   "execution_count": 14,
   "metadata": {},
   "outputs": [
    {
     "name": "stdout",
     "output_type": "stream",
     "text": [
      "0\n",
      "not duck\n"
     ]
    }
   ],
   "source": [
    "n=int(input())\n",
    "c=0\n",
    "while n!=0:\n",
    "    d=n%10\n",
    "    if d==0:\n",
    "        c+=1\n",
    "    n=n//10\n",
    "\n",
    "print(d)\n",
    "if d!=0 and c>=1:\n",
    "    print(\"duck\")\n",
    "elif d==0:\n",
    "    print(\"not duck\")"
   ]
  },
  {
   "cell_type": "code",
   "execution_count": 23,
   "metadata": {},
   "outputs": [
    {
     "name": "stdout",
     "output_type": "stream",
     "text": [
      "9081\n"
     ]
    }
   ],
   "source": [
    "n=int(input())\n",
    "res=\"\"\n",
    "c=0\n",
    "while n!=0:\n",
    "    d=n%10\n",
    "    res+=str(d)\n",
    "    n=n//10\n",
    "print(res)\n",
    "if int(res)%10==0:\n",
    "    print(\"not a duck number\")\n",
    "elif int(res)!=0:\n",
    "    while n!=0:\n",
    "        d1=n%10\n",
    "        if d1==0: \n",
    "            c+=1\n",
    "        n=n//10\n",
    "if c>=1:\n",
    "    print(\"duck number\")"
   ]
  },
  {
   "cell_type": "code",
   "execution_count": 8,
   "metadata": {},
   "outputs": [
    {
     "name": "stdout",
     "output_type": "stream",
     "text": [
      "6789\n",
      "9\n"
     ]
    }
   ],
   "source": [
    "n = int(input())\n",
    "res = \"\"\n",
    "c = 0\n",
    "\n",
    "while n != 0:\n",
    "    d = n % 10\n",
    "    res += str(d)\n",
    "    n = n // 10\n",
    "\n",
    "print(res)\n",
    "n1=int(res)\n",
    "digit=n1%10\n",
    "print(digit)\n",
    "\n",
    "if n1 % 10 == 0:\n",
    "    print(\"not a duck number\")\n",
    "elif n1 != 0:\n",
    "    while n1 != 0:\n",
    "        d1 = n1 % 10\n",
    "        if d1 == 0:\n",
    "            c += 1\n",
    "        n1 = n1 // 10\n",
    "\n",
    "    if c >= 1:\n",
    "        print(\"duck number\")"
   ]
  },
  {
   "cell_type": "code",
   "execution_count": null,
   "metadata": {},
   "outputs": [],
   "source": []
  },
  {
   "cell_type": "code",
   "execution_count": 27,
   "metadata": {},
   "outputs": [
    {
     "name": "stdout",
     "output_type": "stream",
     "text": [
      "987605\n",
      "duck number\n"
     ]
    }
   ],
   "source": [
    "n = int(input())\n",
    "res = \"\"\n",
    "c = 0\n",
    "\n",
    "# Extracting digits in reverse order\n",
    "while n != 0:\n",
    "    d = n % 10\n",
    "    res += str(d)\n",
    "    n = n // 10\n",
    "\n",
    "# Reversing the string to get the original number\n",
    "res = res[::-1]\n",
    "\n",
    "print(res)\n",
    "\n",
    "if int(res) % 10 == 0:\n",
    "    print(\"not a duck number\")\n",
    "else:\n",
    "    for digit in res[:-1]:\n",
    "        if digit == '0':\n",
    "            c += 1\n",
    "\n",
    "    if c >= 1:\n",
    "        print(\"duck number\")\n",
    "    else:\n",
    "        print(\"not a duck number\")"
   ]
  }
 ],
 "metadata": {
  "kernelspec": {
   "display_name": "Python 3",
   "language": "python",
   "name": "python3"
  },
  "language_info": {
   "codemirror_mode": {
    "name": "ipython",
    "version": 3
   },
   "file_extension": ".py",
   "mimetype": "text/x-python",
   "name": "python",
   "nbconvert_exporter": "python",
   "pygments_lexer": "ipython3",
   "version": "3.11.8"
  }
 },
 "nbformat": 4,
 "nbformat_minor": 2
}
