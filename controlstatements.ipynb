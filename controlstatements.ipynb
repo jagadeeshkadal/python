{
 "cells": [
  {
   "cell_type": "code",
   "execution_count": 1,
   "metadata": {},
   "outputs": [
    {
     "name": "stdout",
     "output_type": "stream",
     "text": [
      "program ends\n"
     ]
    }
   ],
   "source": [
    "value=9\n",
    "if value>10:\n",
    "    print(\"hi\")\n",
    "    print(\"hello\")\n",
    "    print(\"satya\")\n",
    "    print(\"bye\")\n",
    "print(\"program ends\")\n"
   ]
  },
  {
   "cell_type": "code",
   "execution_count": 2,
   "metadata": {},
   "outputs": [
    {
     "name": "stdout",
     "output_type": "stream",
     "text": [
      "divisible\n",
      "15\n",
      "program ends\n"
     ]
    }
   ],
   "source": [
    "val=15\n",
    "if val%3==0:\n",
    "    print(\"divisible\")\n",
    "    print(val)\n",
    "print(\"program ends\")    "
   ]
  },
  {
   "cell_type": "code",
   "execution_count": 4,
   "metadata": {},
   "outputs": [
    {
     "name": "stdout",
     "output_type": "stream",
     "text": [
      "number is present between 10 and 50\n",
      "5\n",
      "program ends\n"
     ]
    }
   ],
   "source": [
    "num=45\n",
    "if num>=10 and num<=50:\n",
    "    print(\"number is present between 10 and 50\")\n",
    "    print(50-num)\n",
    "print(\"program ends\")\n",
    "\n"
   ]
  },
  {
   "cell_type": "code",
   "execution_count": 5,
   "metadata": {},
   "outputs": [
    {
     "name": "stdout",
     "output_type": "stream",
     "text": [
      "divisible by 3 and 5\n",
      "12 10\n",
      "program ends\n"
     ]
    }
   ],
   "source": [
    "number=15\n",
    "if number%3==0 and number%5==0:\n",
    "    print(\"divisible by 3 and 5\")\n",
    "    print(number-3,number-5)\n",
    "print(\"program ends\")    "
   ]
  },
  {
   "cell_type": "code",
   "execution_count": 6,
   "metadata": {},
   "outputs": [
    {
     "name": "stdout",
     "output_type": "stream",
     "text": [
      "25\n",
      "program ends\n"
     ]
    }
   ],
   "source": [
    "num=5\n",
    "if 20%num==0:\n",
    "    print(num**2)\n",
    "print(\"program ends\")    "
   ]
  },
  {
   "cell_type": "code",
   "execution_count": 7,
   "metadata": {},
   "outputs": [
    {
     "name": "stdout",
     "output_type": "stream",
     "text": [
      "125\n",
      "program ends\n"
     ]
    }
   ],
   "source": [
    "num=5\n",
    "if 20%num==0 and 25%num==0:\n",
    "    print(num**3)\n",
    "print(\"program ends\")    "
   ]
  },
  {
   "cell_type": "code",
   "execution_count": 8,
   "metadata": {},
   "outputs": [
    {
     "name": "stdout",
     "output_type": "stream",
     "text": [
      "82\n",
      "program ends\n"
     ]
    }
   ],
   "source": [
    "ch='R'\n",
    "if ch>='A' and ch<='Z':\n",
    "    print(ord(ch))\n",
    "print(\"program ends\")\n",
    "\n"
   ]
  },
  {
   "cell_type": "code",
   "execution_count": 21,
   "metadata": {},
   "outputs": [
    {
     "name": "stdout",
     "output_type": "stream",
     "text": [
      "b-->98\n",
      "program ends\n"
     ]
    }
   ],
   "source": [
    "ch='b'\n",
    "aci=ord(ch)\n",
    "if (ch>='a' and ch<='z') and aci%2==0:\n",
    "    print(ch,aci,sep='-->')\n",
    "print(\"program ends\")\n",
    "\n"
   ]
  },
  {
   "cell_type": "markdown",
   "metadata": {},
   "source": [
    "Assignment questions:\n",
    "--------------------------"
   ]
  },
  {
   "cell_type": "code",
   "execution_count": 11,
   "metadata": {},
   "outputs": [
    {
     "name": "stdout",
     "output_type": "stream",
     "text": [
      "hello goodmorning\n",
      "program ends\n"
     ]
    }
   ],
   "source": [
    "num=10\n",
    "if num>2:\n",
    "    print(\"hello goodmorning\")\n",
    "print(\"program ends\")\n"
   ]
  },
  {
   "cell_type": "code",
   "execution_count": 12,
   "metadata": {},
   "outputs": [
    {
     "name": "stdout",
     "output_type": "stream",
     "text": [
      "55\n",
      "15\n",
      "program ends\n"
     ]
    }
   ],
   "source": [
    "number=35\n",
    "if number>=30 and number<=40:\n",
    "    print(number+20)\n",
    "    print(number-20)\n",
    "print(\"program ends\")\n"
   ]
  },
  {
   "cell_type": "code",
   "execution_count": 16,
   "metadata": {},
   "outputs": [
    {
     "name": "stdout",
     "output_type": "stream",
     "text": [
      "divisible\n",
      "35\n",
      "35\n"
     ]
    }
   ],
   "source": [
    "val=15\n",
    "if val%3==0:\n",
    "    print(\"divisible\")\n",
    "    print(val+20)\n",
    "    val+=20\n",
    "print(val)    "
   ]
  },
  {
   "cell_type": "code",
   "execution_count": 20,
   "metadata": {},
   "outputs": [
    {
     "name": "stdout",
     "output_type": "stream",
     "text": [
      "18\n",
      "program ends\n"
     ]
    }
   ],
   "source": [
    "number=18\n",
    "if number%2==0 and number>20:\n",
    "    print(number*2)\n",
    "print(number)\n",
    "print(\"program ends\")"
   ]
  },
  {
   "cell_type": "code",
   "execution_count": 29,
   "metadata": {},
   "outputs": [
    {
     "name": "stdout",
     "output_type": "stream",
     "text": [
      "it is an alphabet\n",
      "83\n",
      "program ends\n"
     ]
    }
   ],
   "source": [
    "ch='S'\n",
    "if (ch>='a' and ch<='z' ) or (ch>=\"A\" and ch<=\"Z\"):\n",
    "    print(\"it is an alphabet\")\n",
    "    print(ord(ch))\n",
    "print(\"program ends\")"
   ]
  },
  {
   "cell_type": "code",
   "execution_count": 33,
   "metadata": {},
   "outputs": [
    {
     "name": "stdout",
     "output_type": "stream",
     "text": [
      "A\n",
      "program ends\n"
     ]
    }
   ],
   "source": [
    "cha='a'\n",
    "if cha>='a' and cha<='z':\n",
    "    print(cha.upper())\n",
    "print(\"program ends\")\n"
   ]
  },
  {
   "cell_type": "code",
   "execution_count": 10,
   "metadata": {},
   "outputs": [
    {
     "name": "stdout",
     "output_type": "stream",
     "text": [
      "3\n",
      "1\n",
      "program ends\n"
     ]
    }
   ],
   "source": [
    "ch='3'\n",
    "if ch>='0' and ch<='9':\n",
    "    print(ch)  \n",
    "    print(ord(ch)%10)\n",
    "print(\"program ends\")\n"
   ]
  },
  {
   "cell_type": "code",
   "execution_count": 17,
   "metadata": {},
   "outputs": [
    {
     "name": "stdout",
     "output_type": "stream",
     "text": [
      "eligible for voting\n",
      "program ends\n"
     ]
    }
   ],
   "source": [
    "age1=19\n",
    "age2=18\n",
    "if age1>=18 and age2>=18:\n",
    "    print(\"eligible for voting\") \n",
    "print(\"program ends\")\n"
   ]
  },
  {
   "cell_type": "code",
   "execution_count": 19,
   "metadata": {},
   "outputs": [
    {
     "name": "stdout",
     "output_type": "stream",
     "text": [
      "they are not eligible for marriage\n"
     ]
    }
   ],
   "source": [
    "girl=18\n",
    "boy=20\n",
    "if girl>=18 and boy>=21:\n",
    "    print(\"they can marry\")\n",
    "print(\"they are not eligible for marriage\")\n"
   ]
  }
 ],
 "metadata": {
  "kernelspec": {
   "display_name": "Python 3",
   "language": "python",
   "name": "python3"
  },
  "language_info": {
   "codemirror_mode": {
    "name": "ipython",
    "version": 3
   },
   "file_extension": ".py",
   "mimetype": "text/x-python",
   "name": "python",
   "nbconvert_exporter": "python",
   "pygments_lexer": "ipython3",
   "version": "3.10.0"
  }
 },
 "nbformat": 4,
 "nbformat_minor": 2
}
