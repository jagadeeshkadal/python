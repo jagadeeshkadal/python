{
 "cells": [
  {
   "cell_type": "markdown",
   "metadata": {},
   "source": [
    "Assignment questions on if else\n",
    "-------------------------------------"
   ]
  },
  {
   "cell_type": "code",
   "execution_count": 1,
   "metadata": {},
   "outputs": [
    {
     "name": "stdout",
     "output_type": "stream",
     "text": [
      "greater\n"
     ]
    }
   ],
   "source": [
    "num=int(input(\"enter the number :\"))\n",
    "if (num>10):\n",
    "    print(\"greater\")\n",
    "else:\n",
    "    print(\"not greater\")\n"
   ]
  },
  {
   "cell_type": "code",
   "execution_count": 2,
   "metadata": {},
   "outputs": [
    {
     "name": "stdout",
     "output_type": "stream",
     "text": [
      " it is not equal\n"
     ]
    }
   ],
   "source": [
    "num=int(input(\"enter the number :\"))\n",
    "if (num==15):\n",
    "    print(\"it is equal\")\n",
    "else:\n",
    "    print(\" it is not equal\")"
   ]
  },
  {
   "cell_type": "code",
   "execution_count": 3,
   "metadata": {},
   "outputs": [
    {
     "name": "stdout",
     "output_type": "stream",
     "text": [
      "it is divisible\n"
     ]
    }
   ],
   "source": [
    "num=int(input(\"enter the number\"))\n",
    "if (num%4==0):\n",
    "    print(\"it is divisible\")\n",
    "else:\n",
    "    print(\"it is not divisible\")\n"
   ]
  },
  {
   "cell_type": "code",
   "execution_count": 4,
   "metadata": {},
   "outputs": [
    {
     "name": "stdout",
     "output_type": "stream",
     "text": [
      "72\n"
     ]
    }
   ],
   "source": [
    "num=int(input(\"enter the num\"))\n",
    "if (num>=21 and num<=35 and num%2==0):\n",
    "    print(num*3)\n",
    "else:\n",
    "    print(num-20)\n"
   ]
  },
  {
   "cell_type": "code",
   "execution_count": 5,
   "metadata": {},
   "outputs": [
    {
     "name": "stdout",
     "output_type": "stream",
     "text": [
      "it is an alphabet\n"
     ]
    }
   ],
   "source": [
    "ch=input(\"enter character\")\n",
    "if (ch>='a' and ch<='z') or (ch>='A' and ch<='Z'):\n",
    "    print(\"it is an alphabet\")\n",
    "else:\n",
    "    print(\"its not an alphabet\")\n"
   ]
  },
  {
   "cell_type": "code",
   "execution_count": 6,
   "metadata": {},
   "outputs": [
    {
     "name": "stdout",
     "output_type": "stream",
     "text": [
      "it is an digit\n"
     ]
    }
   ],
   "source": [
    "ch=input(\"enter character\")\n",
    "if (ch>='0' and ch<='9'):\n",
    "    print(\"it is an digit\")\n",
    "else:\n",
    "    print(\"its not an digit\")\n"
   ]
  },
  {
   "cell_type": "code",
   "execution_count": 8,
   "metadata": {},
   "outputs": [
    {
     "name": "stdout",
     "output_type": "stream",
     "text": [
      "it is an symbol\n"
     ]
    }
   ],
   "source": [
    "ch=input(\"enter character\")\n",
    "if not((ch>='a' and ch<='z') or (ch>='A' and ch<='Z') or (ch>='0' and ch<='9')):\n",
    "    print(\"it is an symbol\")\n",
    "else:\n",
    "    print(\"its not an symbol\")\n"
   ]
  },
  {
   "cell_type": "code",
   "execution_count": 9,
   "metadata": {},
   "outputs": [
    {
     "name": "stdout",
     "output_type": "stream",
     "text": [
      "77\n"
     ]
    }
   ],
   "source": [
    "ch=input(\"enter the character :\")\n",
    "if (ch>='a' and ch<='z') or (ch>='A' and ch<='Z') or (ch>='0' and ch<='9'):\n",
    "    print(ord(ch))\n",
    "else:\n",
    "    print(ch)\n"
   ]
  },
  {
   "cell_type": "code",
   "execution_count": 10,
   "metadata": {},
   "outputs": [
    {
     "name": "stdout",
     "output_type": "stream",
     "text": [
      "happy diwali\n"
     ]
    }
   ],
   "source": [
    "ch=input(\"enter the character :\")\n",
    "if not((ch>='a' and ch<='z') or (ch>='A' and ch<='Z') or (ch>='0' and ch<='9')and ord(ch>=70)):\n",
    "    print(\"happy diwali\")\n",
    "else:\n",
    "    print(\"come on wednesday\")\n"
   ]
  },
  {
   "cell_type": "code",
   "execution_count": 11,
   "metadata": {},
   "outputs": [
    {
     "name": "stdout",
     "output_type": "stream",
     "text": [
      "it is vowel\n"
     ]
    }
   ],
   "source": [
    "ch=input(\"enter the character:\")\n",
    "st=\"aeiouAEIOU\"\n",
    "if ch in st:\n",
    "    print(\"it is vowel\")\n",
    "else:\n",
    "    print(\"it is not vowel\")\n"
   ]
  },
  {
   "cell_type": "code",
   "execution_count": 13,
   "metadata": {},
   "outputs": [
    {
     "name": "stdout",
     "output_type": "stream",
     "text": [
      "it is a consonant\n"
     ]
    }
   ],
   "source": [
    "ch=input(\"enter the character:\")\n",
    "st=\"aeiouAEIOU\"\n",
    "if ch not in st:\n",
    "    print(\"it is a consonant\")\n",
    "else:\n",
    "    print(\"it is not a  consonant\")\n"
   ]
  },
  {
   "cell_type": "code",
   "execution_count": 14,
   "metadata": {},
   "outputs": [
    {
     "name": "stdout",
     "output_type": "stream",
     "text": [
      "it is odd\n"
     ]
    }
   ],
   "source": [
    "num=int(input(\"enter the number\"))\n",
    "if (num%2==0):\n",
    "    print(\"it is even\")\n",
    "else:\n",
    "    print(\"it is odd\")\n"
   ]
  },
  {
   "cell_type": "code",
   "execution_count": 15,
   "metadata": {},
   "outputs": [
    {
     "name": "stdout",
     "output_type": "stream",
     "text": [
      "it is upper case\n"
     ]
    }
   ],
   "source": [
    "ch=input(\"enter character :\")\n",
    "if (ch>='A' and ch<='Z'):\n",
    "    print(\"it is upper case\")\n",
    "else:\n",
    "    print(\"it is lower case\")\n"
   ]
  },
  {
   "cell_type": "code",
   "execution_count": 16,
   "metadata": {},
   "outputs": [
    {
     "name": "stdout",
     "output_type": "stream",
     "text": [
      "it is not divisible by both\n"
     ]
    }
   ],
   "source": [
    "num=int(input(\"enter the number\"))\n",
    "if (num%2==0 and num%3==0):\n",
    "    print(\"it is divisible by both\")\n",
    "else:\n",
    "    print(\"it is not divisible by both\")\n"
   ]
  },
  {
   "cell_type": "code",
   "execution_count": 19,
   "metadata": {},
   "outputs": [
    {
     "name": "stdout",
     "output_type": "stream",
     "text": [
      "it is an alphabet\n",
      "hello good morning\n"
     ]
    }
   ],
   "source": [
    "ch=input(\"enter the character :\")\n",
    "if (ch>='A' and ch<=\"Z\") or (ch>='a' and ch<='z') and ord(ch)%2==0:\n",
    "    print(\"it is an alphabet\")\n",
    "    print(\"hello good morning\")\n",
    "else:\n",
    "    print(\"good bye\")\n"
   ]
  },
  {
   "cell_type": "code",
   "execution_count": 23,
   "metadata": {},
   "outputs": [
    {
     "name": "stdout",
     "output_type": "stream",
     "text": [
      "33\n"
     ]
    }
   ],
   "source": [
    "num=int(input(\"enter the number\"))\n",
    "lastDigit=num%10\n",
    "if (num>5 and num<25 and lastDigit%3==0):\n",
    "    print(num+10)\n",
    "else:\n",
    "    print(num-10)\n",
    "\n"
   ]
  }
 ],
 "metadata": {
  "kernelspec": {
   "display_name": "Python 3",
   "language": "python",
   "name": "python3"
  },
  "language_info": {
   "codemirror_mode": {
    "name": "ipython",
    "version": 3
   },
   "file_extension": ".py",
   "mimetype": "text/x-python",
   "name": "python",
   "nbconvert_exporter": "python",
   "pygments_lexer": "ipython3",
   "version": "3.12.1"
  }
 },
 "nbformat": 4,
 "nbformat_minor": 2
}
