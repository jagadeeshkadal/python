{
 "cells": [
  {
   "cell_type": "code",
   "execution_count": 4,
   "metadata": {},
   "outputs": [
    {
     "name": "stdout",
     "output_type": "stream",
     "text": [
      "The digit that occurs the most is: 7 for  6 times\n"
     ]
    }
   ],
   "source": [
    "\n",
    "number = int(input(\"Enter a number: \"))\n",
    "max_digit = 0\n",
    "max_occurrence = 0\n",
    "\n",
    "while number > 0:\n",
    "    digit = number % 10\n",
    "    count = 0\n",
    "    temp = number\n",
    "\n",
    "\n",
    "    while temp > 0:\n",
    "        if temp % 10 == digit:\n",
    "            count += 1\n",
    "        temp //= 10\n",
    "\n",
    "\n",
    "    if count > max_occurrence:\n",
    "        max_occurrence = count\n",
    "        max_digit = digit\n",
    "\n",
    "    number //= 10\n",
    "\n",
    "\n",
    "print(\"The digit that occurs the most is:\", max_digit,\"for \",max_occurrence,\"times\")\n"
   ]
  },
  {
   "cell_type": "code",
   "execution_count": 9,
   "metadata": {},
   "outputs": [
    {
     "name": "stdout",
     "output_type": "stream",
     "text": [
      "the maximum digit in mnumber is: 1\n"
     ]
    }
   ],
   "source": [
    "n=int(input())\n",
    "max_digit=0\n",
    "while n>0:\n",
    "    d=n%10\n",
    "    if d>max_digit:\n",
    "        max_digit=d\n",
    "    n=n//10\n",
    "print(\"the maximum digit in mnumber is:\",max_digit)"
   ]
  },
  {
   "cell_type": "code",
   "execution_count": 10,
   "metadata": {},
   "outputs": [
    {
     "name": "stdout",
     "output_type": "stream",
     "text": [
      "4\n"
     ]
    }
   ],
   "source": [
    "n=int(input())\n",
    "last_digit=n%10\n",
    "first_digit=0\n",
    "sum_1st_last=0\n",
    "while n!=0:\n",
    "    first_digit=n%10\n",
    "    n=n//10\n",
    "sum_1st_last=first_digit+last_digit\n",
    "print(sum_1st_last)"
   ]
  }
 ],
 "metadata": {
  "kernelspec": {
   "display_name": "Python 3",
   "language": "python",
   "name": "python3"
  },
  "language_info": {
   "codemirror_mode": {
    "name": "ipython",
    "version": 3
   },
   "file_extension": ".py",
   "mimetype": "text/x-python",
   "name": "python",
   "nbconvert_exporter": "python",
   "pygments_lexer": "ipython3",
   "version": "3.10.0"
  }
 },
 "nbformat": 4,
 "nbformat_minor": 2
}
