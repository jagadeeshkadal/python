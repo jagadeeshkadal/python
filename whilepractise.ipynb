{
 "cells": [
  {
   "cell_type": "code",
   "execution_count": 4,
   "metadata": {},
   "outputs": [
    {
     "name": "stdout",
     "output_type": "stream",
     "text": [
      "The digit that occurs the most is: 7 for  6 times\n"
     ]
    }
   ],
   "source": [
    "#maximum occuring digit in a number\n",
    "number = int(input(\"Enter a number: \"))\n",
    "max_digit = 0\n",
    "max_occurrence = 0\n",
    "\n",
    "while number > 0:\n",
    "    digit = number % 10\n",
    "    count = 0\n",
    "    temp = number\n",
    "\n",
    "\n",
    "    while temp > 0:\n",
    "        if temp % 10 == digit:\n",
    "            count += 1\n",
    "        temp //= 10\n",
    "\n",
    "\n",
    "    if count > max_occurrence:\n",
    "        max_occurrence = count\n",
    "        max_digit = digit\n",
    "\n",
    "    number //= 10\n",
    "\n",
    "\n",
    "print(\"The digit that occurs the most is:\", max_digit,\"for \",max_occurrence,\"times\")\n"
   ]
  },
  {
   "cell_type": "code",
   "execution_count": 1,
   "metadata": {},
   "outputs": [
    {
     "name": "stdout",
     "output_type": "stream",
     "text": [
      "the maximum digit in number is: 7\n"
     ]
    }
   ],
   "source": [
    "#maximum digit in a number\n",
    "n=int(input())\n",
    "max_digit=0\n",
    "while n>0:\n",
    "    d=n%10\n",
    "    if d>max_digit:\n",
    "        max_digit=d\n",
    "    n=n//10\n",
    "print(\"the maximum digit in number is:\",max_digit)"
   ]
  },
  {
   "cell_type": "code",
   "execution_count": 10,
   "metadata": {},
   "outputs": [
    {
     "name": "stdout",
     "output_type": "stream",
     "text": [
      "4\n"
     ]
    }
   ],
   "source": [
    "#sum of 1st and last digit in number\n",
    "n=int(input())\n",
    "last_digit=n%10\n",
    "first_digit=0\n",
    "sum_1st_last=0\n",
    "while n!=0:\n",
    "    first_digit=n%10\n",
    "    n=n//10\n",
    "sum_1st_last=first_digit+last_digit\n",
    "print(sum_1st_last)"
   ]
  },
  {
   "cell_type": "markdown",
   "metadata": {},
   "source": [
    "#factorial of each digit in a number"
   ]
  },
  {
   "cell_type": "code",
   "execution_count": 13,
   "metadata": {},
   "outputs": [
    {
     "name": "stdout",
     "output_type": "stream",
     "text": [
      "3 factorial is--> 6\n",
      "2 factorial is--> 2\n",
      "1 factorial is--> 1\n",
      "sum of factorial of each digit is--> 9\n"
     ]
    }
   ],
   "source": [
    "n=123\n",
    "sum=0\n",
    "while n!=0:\n",
    "    digit=n%10\n",
    "    fact=1\n",
    "    i=1\n",
    "    while(i<=digit):\n",
    "        fact=fact*i\n",
    "        i+=1\n",
    "    sum=sum+fact   \n",
    "    print(digit,\"factorial is-->\",fact)     \n",
    "    n=n//10\n",
    "print(\"sum of factorial of each digit is-->\",sum)\n",
    "    "
   ]
  },
  {
   "cell_type": "markdown",
   "metadata": {},
   "source": [
    "sum of factorial of each digit in number= given number itself"
   ]
  },
  {
   "cell_type": "code",
   "execution_count": 19,
   "metadata": {},
   "outputs": [
    {
     "name": "stdout",
     "output_type": "stream",
     "text": [
      "3 factorial is--> 6\n",
      "2 factorial is--> 2\n",
      "1 factorial is--> 1\n",
      "sum of factorial of each digit is--> 9\n",
      "sum of factorial of each digit is not equal to given number --> 0 != 9\n"
     ]
    }
   ],
   "source": [
    "n=123\n",
    "sum=0\n",
    "while n!=0:\n",
    "    digit=n%10\n",
    "    fact=1\n",
    "    i=1\n",
    "    while(i<=digit):\n",
    "        fact=fact*i\n",
    "        i+=1\n",
    "    print(digit,\"factorial is-->\",fact)\n",
    "    n=n//10\n",
    "    sum=sum+fact\n",
    "print(\"sum of factorial of each digit is-->\",sum)\n",
    "if sum==n:\n",
    "    print(\"sum of factorial of each digit is equal to given input number\") \n",
    "else:\n",
    "    print(\"sum of factorial of each digit is not equal to given number -->\",n,\"!=\",sum)   "
   ]
  },
  {
   "cell_type": "markdown",
   "metadata": {},
   "source": [
    "print sum of 1st,middle,last digit in mumber"
   ]
  },
  {
   "cell_type": "code",
   "execution_count": 27,
   "metadata": {},
   "outputs": [
    {
     "name": "stdout",
     "output_type": "stream",
     "text": [
      "sum of 1st digit-> ( 3 ) ,middle digit->( 3 ) and last digit->( 7 ) is----> 13\n"
     ]
    }
   ],
   "source": [
    "n=3637\n",
    "n1=n\n",
    "last_digit=n%10\n",
    "first_digit=0\n",
    "sum_1st_middle_last=0\n",
    "while n!=0:\n",
    "    first_digit=n%10\n",
    "    n=n//10\n",
    "n1=list(str(n1))\n",
    "mid=len(n1)//2\n",
    "middle_digit=int(str(n1[mid]))\n",
    "sum_1st_middle_last=first_digit+middle_digit+last_digit\n",
    "print(\"sum of 1st digit->\",\"(\",first_digit,\")\",\",middle digit->(\",middle_digit,\")\",\"and last digit->(\",last_digit,\") is---->\",sum_1st_middle_last)"
   ]
  },
  {
   "cell_type": "code",
   "execution_count": 9,
   "metadata": {},
   "outputs": [
    {
     "name": "stdout",
     "output_type": "stream",
     "text": [
      "abbcccd\n"
     ]
    }
   ],
   "source": [
    "st=\"ab2c3d\"\n",
    "i=0\n",
    "res=\"\"\n",
    "while i<len(st)-1:\n",
    "    ch=st[i]\n",
    "    ch1=st[i+1]\n",
    "    if ch>='A' and ch<='Z' or ch >='a'and ch<='z' and ch1>='0' and ch1<='9':\n",
    "        res+=str(ch*int(ch1))\n",
    "    elif ch>='A' and ch<='Z' or ch >='a'and ch<='z' and ch1>='a' and ch1<='z' or ch1>='A' and ch1<='Z':\n",
    "        res+=ch\n",
    "    i+=1\n",
    "if st[-1]>='A' and st[-1]<='Z' or st[-1] >='a'and st[-1]<='z':\n",
    "    res+=st[-1]\n",
    "print(res)"
   ]
  }
 ],
 "metadata": {
  "kernelspec": {
   "display_name": "Python 3",
   "language": "python",
   "name": "python3"
  },
  "language_info": {
   "codemirror_mode": {
    "name": "ipython",
    "version": 3
   },
   "file_extension": ".py",
   "mimetype": "text/x-python",
   "name": "python",
   "nbconvert_exporter": "python",
   "pygments_lexer": "ipython3",
   "version": "3.10.0"
  }
 },
 "nbformat": 4,
 "nbformat_minor": 2
}
