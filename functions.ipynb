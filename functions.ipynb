{
 "cells": [
  {
   "cell_type": "code",
   "execution_count": 7,
   "metadata": {},
   "outputs": [
    {
     "name": "stdout",
     "output_type": "stream",
     "text": [
      "12 not prime\n"
     ]
    }
   ],
   "source": [
    "#prime using function\n",
    "def prime():\n",
    "    n=int(input())\n",
    "    i=1\n",
    "    c=0\n",
    "    while i<=n:\n",
    "        if n%i==0:\n",
    "            c+=1\n",
    "        i+=1\n",
    "    if c==2:\n",
    "        print(n,\"prime\")\n",
    "    else:\n",
    "        print(n,\"not prime\")\n",
    "prime()\n",
    "    "
   ]
  },
  {
   "cell_type": "code",
   "execution_count": 9,
   "metadata": {},
   "outputs": [
    {
     "name": "stdout",
     "output_type": "stream",
     "text": [
      "12 not perfect\n"
     ]
    }
   ],
   "source": [
    "#perfect number using function\n",
    "def perfect():\n",
    "    n=int(input())\n",
    "    n1=n\n",
    "    i=1\n",
    "    sum=0\n",
    "    while i<n:\n",
    "        if n%i==0:\n",
    "            sum+=i\n",
    "        i+=1\n",
    "    if sum==n1:\n",
    "        print(n,\"perfect\")\n",
    "    else:\n",
    "        print(n,\"not perfect\")\n",
    "perfect()"
   ]
  },
  {
   "cell_type": "code",
   "execution_count": null,
   "metadata": {},
   "outputs": [],
   "source": []
  }
 ],
 "metadata": {
  "kernelspec": {
   "display_name": "Python 3",
   "language": "python",
   "name": "python3"
  },
  "language_info": {
   "codemirror_mode": {
    "name": "ipython",
    "version": 3
   },
   "file_extension": ".py",
   "mimetype": "text/x-python",
   "name": "python",
   "nbconvert_exporter": "python",
   "pygments_lexer": "ipython3",
   "version": "3.10.0"
  }
 },
 "nbformat": 4,
 "nbformat_minor": 2
}
