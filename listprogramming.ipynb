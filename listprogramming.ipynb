{
 "cells": [
  {
   "cell_type": "code",
   "execution_count": 1,
   "metadata": {},
   "outputs": [
    {
     "name": "stdout",
     "output_type": "stream",
     "text": [
      "10\n"
     ]
    }
   ],
   "source": [
    "#Find the sum of all given elements from an int array\n",
    "l=[1,2,3,4]\n",
    "sum=0\n",
    "for i in l:\n",
    "    sum+=i\n",
    "print(sum)"
   ]
  },
  {
   "cell_type": "code",
   "execution_count": 5,
   "metadata": {},
   "outputs": [
    {
     "name": "stdout",
     "output_type": "stream",
     "text": [
      "4\n"
     ]
    }
   ],
   "source": [
    "#Find the min element from the given int array.\n",
    "l=[729077,4,6,29978,78,]\n",
    "min_element=l[0]\n",
    "for i in l:\n",
    "    if i<min_element:\n",
    "        min_element=i\n",
    "print(min_element)"
   ]
  },
  {
   "cell_type": "code",
   "execution_count": 7,
   "metadata": {},
   "outputs": [
    {
     "name": "stdout",
     "output_type": "stream",
     "text": [
      "729077\n"
     ]
    }
   ],
   "source": [
    "#Find the max element from the given int array\n",
    "l=[729077,4,6,29978,78]\n",
    "max_element=l[0]\n",
    "for i in l:\n",
    "    if i>max_element:\n",
    "        max_element=i\n",
    "print(max_element)\n"
   ]
  },
  {
   "cell_type": "code",
   "execution_count": 7,
   "metadata": {},
   "outputs": [
    {
     "name": "stdout",
     "output_type": "stream",
     "text": [
      "3\n"
     ]
    }
   ],
   "source": [
    "#Find the 2nd min element from the given int array\n",
    "l=[12,2,7,345,56,340,3]\n",
    "first_min=l[0]\n",
    "second_min=None\n",
    "for i in l:\n",
    "    if i<first_min:\n",
    "        second_min=first_min\n",
    "        first_min=i\n",
    "    elif i>first_min and i<second_min:\n",
    "        second_min=i\n",
    "print(second_min)"
   ]
  },
  {
   "cell_type": "code",
   "execution_count": 8,
   "metadata": {},
   "outputs": [
    {
     "name": "stdout",
     "output_type": "stream",
     "text": [
      "Second-max element: 20\n"
     ]
    }
   ],
   "source": [
    "#Find the 2nd max element from the given int array.\n",
    "my_list = [1,4,5,8,9,14,25,18,20]\n",
    "max_element = my_list[0]\n",
    "second_max = None\n",
    "for element in my_list:\n",
    "    if element > max_element:\n",
    "        second_max = max_element\n",
    "        max_element = element\n",
    "    elif element<max_element and element>second_max:\n",
    "        second_max=element\n",
    "print(\"Second-max element:\", second_max)\n"
   ]
  },
  {
   "cell_type": "code",
   "execution_count": 23,
   "metadata": {},
   "outputs": [
    {
     "name": "stdout",
     "output_type": "stream",
     "text": [
      "5\n"
     ]
    }
   ],
   "source": [
    "#Find the average value of an int array\n",
    "l=[1,2,3,4]\n",
    "sum=0\n",
    "for i in l:\n",
    "    sum+=i\n",
    "avg=sum//2\n",
    "print(avg)"
   ]
  },
  {
   "cell_type": "code",
   "execution_count": 55,
   "metadata": {},
   "outputs": [
    {
     "name": "stdout",
     "output_type": "stream",
     "text": [
      "25\n"
     ]
    }
   ],
   "source": [
    "#Find out the sum of all even indexed elements from a given int array\n",
    "l=[1,2,3,4,5,6,7,8,9,10]\n",
    "i=0\n",
    "sum=0\n",
    "while i<len(l):\n",
    "    if i%2==0:\n",
    "        sum+=l[i]\n",
    "    i+=1\n",
    "print(sum)"
   ]
  },
  {
   "cell_type": "code",
   "execution_count": 53,
   "metadata": {},
   "outputs": [
    {
     "name": "stdout",
     "output_type": "stream",
     "text": [
      "30\n"
     ]
    }
   ],
   "source": [
    "#Find out the sum of all odd indexed elements from a given int array\n",
    "l=[1,2,3,4,5,6,7,8,9,10]\n",
    "i=0\n",
    "sum=0\n",
    "while i<len(l):\n",
    "    if i%2==1:\n",
    "        sum+=l[i]\n",
    "    i+=1\n",
    "print(sum)"
   ]
  },
  {
   "cell_type": "code",
   "execution_count": 49,
   "metadata": {},
   "outputs": [
    {
     "name": "stdout",
     "output_type": "stream",
     "text": [
      "0 99\n",
      "2 3\n",
      "4 5\n",
      "6 7\n",
      "8 9\n",
      "3\n"
     ]
    }
   ],
   "source": [
    "#Find out the min value from all even indexed elements from a given int array\n",
    "l=[99,2,3,4,5,6,7,8,9,10]\n",
    "i=0\n",
    "min=l[0]\n",
    "while i<len(l):\n",
    "    if i%2==0:\n",
    "        print(i,l[i])\n",
    "        if i<min:\n",
    "            min=l[i]\n",
    "    i+=1\n",
    "print(min)"
   ]
  },
  {
   "cell_type": "code",
   "execution_count": 58,
   "metadata": {},
   "outputs": [
    {
     "name": "stdout",
     "output_type": "stream",
     "text": [
      "1 2\n",
      "3 4\n",
      "5 6\n",
      "7 8\n",
      "9 10\n",
      "10\n"
     ]
    }
   ],
   "source": [
    "#10. Find out the max value from all odd indexed elements from a given int array\n",
    "l=[1,2,3,4,5,6,7,8,9,10]\n",
    "i=0\n",
    "max_element=0\n",
    "while i<len(l):\n",
    "    if i%2==1:\n",
    "        print(i,l[i])\n",
    "        if i>max_element:\n",
    "            max_element=l[i]\n",
    "    i+=1\n",
    "print(max_element)"
   ]
  },
  {
   "cell_type": "code",
   "execution_count": 63,
   "metadata": {},
   "outputs": [
    {
     "name": "stdout",
     "output_type": "stream",
     "text": [
      "0 1\n",
      "2 3\n",
      "4 5\n",
      "6 7\n",
      "8 9\n",
      "sum 25 average 12\n"
     ]
    }
   ],
   "source": [
    "#11. Find out the avg value from all even indexed elements from a given int array\n",
    "l=[1,2,3,4,5,6,7,8,9,10]\n",
    "i=0\n",
    "sum=0\n",
    "while i<len(l):\n",
    "    if i%2==0:\n",
    "        print(i,l[i])\n",
    "        sum+=l[i]\n",
    "    i+=1\n",
    "avg=sum//2\n",
    "print(\"sum\",sum,\"average\",avg)"
   ]
  },
  {
   "cell_type": "code",
   "execution_count": 65,
   "metadata": {},
   "outputs": [
    {
     "name": "stdout",
     "output_type": "stream",
     "text": [
      "1 2\n",
      "3 4\n",
      "5 6\n",
      "7 8\n",
      "9 10\n",
      "sum 30 average 15\n"
     ]
    }
   ],
   "source": [
    "#12. Find out the avg value from all odd indexed elements from a given int array.\n",
    "l=[1,2,3,4,5,6,7,8,9,10]\n",
    "i=0\n",
    "sum=0\n",
    "while i<len(l):\n",
    "    if i%2==1:\n",
    "        print(i,l[i])\n",
    "        sum+=l[i]\n",
    "    i+=1\n",
    "avg=sum//2\n",
    "print(\"sum\",sum,\"average\",avg)"
   ]
  },
  {
   "cell_type": "code",
   "execution_count": 70,
   "metadata": {},
   "outputs": [
    {
     "name": "stdout",
     "output_type": "stream",
     "text": [
      "10\n"
     ]
    }
   ],
   "source": [
    "#13. Find out the sum of all elements from a first half of given int array\n",
    "l=[1,2,3,4,5,0,6,8,10]\n",
    "sum=0\n",
    "c=0\n",
    "for i in l:\n",
    "    c+=1\n",
    "    sum+=i\n",
    "    if c==len(l)//2:\n",
    "        break\n",
    "print(sum)"
   ]
  },
  {
   "cell_type": "code",
   "execution_count": 73,
   "metadata": {},
   "outputs": [
    {
     "name": "stdout",
     "output_type": "stream",
     "text": [
      "33\n"
     ]
    }
   ],
   "source": [
    "#14. Find out the sum of all elements from a second half of given int array.\n",
    "l=[1,2,3,4,5,0,6,8,10]\n",
    "sum=0\n",
    "c=0\n",
    "for i in l:\n",
    "    c+=1\n",
    "    if c>len(l)//2:\n",
    "        sum+=i\n",
    "print(sum)\n"
   ]
  },
  {
   "cell_type": "code",
   "execution_count": 78,
   "metadata": {},
   "outputs": [
    {
     "name": "stdout",
     "output_type": "stream",
     "text": [
      "3\n"
     ]
    }
   ],
   "source": [
    "#15. Find out the min value from a first half of given int array.\n",
    "l=[9,12,3,4,5,0,6,8,10]\n",
    "min_element=l[0]\n",
    "c=0\n",
    "for i in l:\n",
    "    c+=1\n",
    "    if i<min_element:\n",
    "        min_element=i\n",
    "    if c==len(l)//2:\n",
    "        break\n",
    "print(min_element)"
   ]
  },
  {
   "cell_type": "code",
   "execution_count": 88,
   "metadata": {},
   "outputs": [
    {
     "name": "stdout",
     "output_type": "stream",
     "text": [
      "5\n",
      "6\n",
      "7\n",
      "8\n",
      "9\n",
      "6\n"
     ]
    }
   ],
   "source": [
    "#16. Find out the min value from a second half of given int array\n",
    "l=[1,2,3,4,998,99,6,8,10]\n",
    "min_element=len(l)-1//2\n",
    "c=0\n",
    "i=0\n",
    "while i<len(l):\n",
    "    c+=1\n",
    "    if c>len(l)//2:\n",
    "        print(c)\n",
    "        if l[i]<min_element:\n",
    "            min_element=l[i]\n",
    "    i+=1\n",
    "print(min_element)"
   ]
  },
  {
   "cell_type": "code",
   "execution_count": 90,
   "metadata": {},
   "outputs": [
    {
     "name": "stdout",
     "output_type": "stream",
     "text": [
      "12\n"
     ]
    }
   ],
   "source": [
    "#17. Find out the max value from a first half of given int array\n",
    "l=[9,12,3,4,5,0,6,8,10]\n",
    "max_element=0\n",
    "c=0\n",
    "for i in l:\n",
    "    c+=1\n",
    "    if i>max_element:\n",
    "        max_element=i\n",
    "    if c==len(l)//2:\n",
    "        break\n",
    "print(max_element)"
   ]
  },
  {
   "cell_type": "code",
   "execution_count": 92,
   "metadata": {},
   "outputs": [
    {
     "name": "stdout",
     "output_type": "stream",
     "text": [
      "5\n",
      "6\n",
      "7\n",
      "8\n",
      "9\n",
      "99\n"
     ]
    }
   ],
   "source": [
    "#18. Find out the max value from a second half of given int array\n",
    "l=[1,2,3,4,9,99,6,8,10]\n",
    "max_element=len(l)-1//2\n",
    "c=0\n",
    "i=0\n",
    "while i<len(l):\n",
    "    c+=1\n",
    "    if c>len(l)//2:\n",
    "        print(c)\n",
    "        if l[i]>max_element:\n",
    "            max_element=l[i]\n",
    "    i+=1\n",
    "print(max_element)"
   ]
  },
  {
   "cell_type": "code",
   "execution_count": 93,
   "metadata": {},
   "outputs": [
    {
     "name": "stdout",
     "output_type": "stream",
     "text": [
      "sum 10 average 5\n"
     ]
    }
   ],
   "source": [
    "#19. Find out the avg value from a first half of given int array\n",
    "l=[1,2,3,4,5,0,6,8,10]\n",
    "sum=0\n",
    "c=0\n",
    "for i in l:\n",
    "    c+=1\n",
    "    sum+=i\n",
    "    if c==len(l)//2:\n",
    "        break\n",
    "avg=sum//2\n",
    "print(\"sum\",sum,\"average\",avg)"
   ]
  },
  {
   "cell_type": "code",
   "execution_count": 94,
   "metadata": {},
   "outputs": [
    {
     "name": "stdout",
     "output_type": "stream",
     "text": [
      "sum 29 average 14\n"
     ]
    }
   ],
   "source": [
    "#20. Find out the avg value from a second half of given int array\n",
    "l=[1,2,3,4,5,0,6,8,10]\n",
    "sum=0\n",
    "c=0\n",
    "for i in l:\n",
    "    c+=1\n",
    "    if c>len(l)//2:\n",
    "        sum+=i\n",
    "avg=sum//2\n",
    "print(\"sum\",sum,\"average\",avg)"
   ]
  },
  {
   "cell_type": "code",
   "execution_count": 3,
   "metadata": {},
   "outputs": [
    {
     "name": "stdout",
     "output_type": "stream",
     "text": [
      "[10, 8, 6, 0, 5, 4, 3, 2, 1]\n"
     ]
    }
   ],
   "source": [
    "#21,30 Read all elements from an array in the reverse order\n",
    "l=[1,2,3,4,5,0,6,8,10]\n",
    "l1=[]\n",
    "i=len(l)-1\n",
    "while i>=0:\n",
    "    e=l[i]\n",
    "    l1+=[e]\n",
    "    i-=1\n",
    "print(l1)\n"
   ]
  },
  {
   "cell_type": "code",
   "execution_count": 4,
   "metadata": {},
   "outputs": [
    {
     "name": "stdout",
     "output_type": "stream",
     "text": [
      "[46, 5, 28]\n"
     ]
    }
   ],
   "source": [
    "#22 Read first half of the elements in the reverse direction from an array\n",
    "l=[28,5,46,78,3,4]\n",
    "i=(len(l)//2)-1\n",
    "l1=[]\n",
    "while i>=0:\n",
    "    ch=l[i]\n",
    "    l1+=[ch]\n",
    "    i-=1\n",
    "print(l1)\n",
    "\n"
   ]
  },
  {
   "cell_type": "code",
   "execution_count": 9,
   "metadata": {},
   "outputs": [
    {
     "name": "stdout",
     "output_type": "stream",
     "text": [
      "[4, 3, 78]\n"
     ]
    }
   ],
   "source": [
    "#23,32. Read second half of the elements in the reverse direction from an array\n",
    "l=[28,5,46,78,3,4]\n",
    "i=len(l)-1\n",
    "l1=[]\n",
    "while i>=(len(l)//2):\n",
    "    ch=l[i]\n",
    "    l1+=[ch]\n",
    "    i-=1\n",
    "print(l1)"
   ]
  },
  {
   "cell_type": "code",
   "execution_count": 10,
   "metadata": {},
   "outputs": [
    {
     "name": "stdout",
     "output_type": "stream",
     "text": [
      "28\n",
      "46\n",
      "3\n"
     ]
    }
   ],
   "source": [
    "#24. Read only even indexed elements from an array\n",
    "l=[28,5,46,78,3,4]\n",
    "i=0\n",
    "while i<=len(l)-1:\n",
    "    ch=l[i]\n",
    "    if i%2==0:\n",
    "        print(ch)\n",
    "    i+=1"
   ]
  },
  {
   "cell_type": "code",
   "execution_count": 11,
   "metadata": {},
   "outputs": [
    {
     "name": "stdout",
     "output_type": "stream",
     "text": [
      "[3, 46, 28]\n"
     ]
    }
   ],
   "source": [
    "#25,33 Read only even indexed elements from an array in the reverse order\n",
    "l=[28,5,46,78,3,4]\n",
    "i=len(l)-1\n",
    "l1=[]\n",
    "while i>=0:\n",
    "    ch=l[i]\n",
    "    if i%2==0:\n",
    "        l1+=[ch]\n",
    "    i-=1\n",
    "print(l1)"
   ]
  },
  {
   "cell_type": "code",
   "execution_count": 12,
   "metadata": {},
   "outputs": [
    {
     "name": "stdout",
     "output_type": "stream",
     "text": [
      "5\n",
      "78\n",
      "4\n"
     ]
    }
   ],
   "source": [
    "#26,34 .Read only odd indexed elements from an array.\n",
    "l=[28,5,46,78,3,4]\n",
    "i=0\n",
    "while i<=len(l)-1:\n",
    "    ch=l[i]\n",
    "    if i%2==1:\n",
    "        print(ch)\n",
    "    i+=1"
   ]
  },
  {
   "cell_type": "code",
   "execution_count": 13,
   "metadata": {},
   "outputs": [
    {
     "name": "stdout",
     "output_type": "stream",
     "text": [
      "[4, 78, 5]\n"
     ]
    }
   ],
   "source": [
    "#27. Read only odd indexed elements from an array in the reverse order\n",
    "l=[28,5,46,78,3,4]\n",
    "i=len(l)-1\n",
    "l1=[]\n",
    "while i>=0:\n",
    "    ch=l[i]\n",
    "    if i%2==1:\n",
    "        l1+=[ch]\n",
    "    i-=1\n",
    "print(l1)"
   ]
  },
  {
   "cell_type": "code",
   "execution_count": 14,
   "metadata": {},
   "outputs": [
    {
     "name": "stdout",
     "output_type": "stream",
     "text": [
      "1\n"
     ]
    }
   ],
   "source": [
    "#28. Find out an index of a specified element from a given array.\n",
    "ele=int(input())\n",
    "l=[28,5,46,78,3,4]\n",
    "i=0\n",
    "while i<=len(l)-1:\n",
    "    ch=l[i]\n",
    "    if ele==ch:\n",
    "        print(i)\n",
    "    i+=1"
   ]
  },
  {
   "cell_type": "code",
   "execution_count": 23,
   "metadata": {},
   "outputs": [
    {
     "name": "stdout",
     "output_type": "stream",
     "text": [
      "4 5\n",
      "[1, 2, 3, 5, 4, 6]\n"
     ]
    }
   ],
   "source": [
    "#29. Swap two given indexed elements from the array\n",
    "index1=int(input())\n",
    "index2=int(input())\n",
    "i=0\n",
    "l=[1,2,3,4,5,6]\n",
    "ch=l[index1]\n",
    "ch1=l[index2]\n",
    "print(ch,ch1)\n",
    "while i<len(l)-1:\n",
    "    if ch in l and ch1 in l:\n",
    "        j=0\n",
    "        while j>=len(l):\n",
    "            if j==index1:\n",
    "                ch=l[j]\n",
    "            if j==index2:\n",
    "                ch1=l[j]\n",
    "            j+=1\n",
    "        l[index1]=ch1\n",
    "        l[index2]=ch\n",
    "    i+=1\n",
    "print(l)\n",
    "        "
   ]
  },
  {
   "cell_type": "code",
   "execution_count": 47,
   "metadata": {},
   "outputs": [
    {
     "name": "stdout",
     "output_type": "stream",
     "text": [
      "[5, 4, 3, 2, 1, 6, 7, 8, 9, 10]\n"
     ]
    }
   ],
   "source": [
    "#31. Reverse only first half of the elements of given array\n",
    "l=[1,2,3,4,5,6,7,8,9,10]\n",
    "i=0\n",
    "mid=len(l)//2-1\n",
    "res=[]\n",
    "while i<len(l):\n",
    "    if i<=mid:\n",
    "        res=[l[i]]+res\n",
    "    else:\n",
    "        res+=[l[i]]\n",
    "    i+=1\n",
    "print(res)\n",
    "    "
   ]
  },
  {
   "cell_type": "code",
   "execution_count": 53,
   "metadata": {},
   "outputs": [
    {
     "name": "stdout",
     "output_type": "stream",
     "text": [
      "[10, 9, 8, 7, 6, 5, 1, 2, 3, 4]\n"
     ]
    }
   ],
   "source": [
    "#32. Reverse only last half of the elements of given array\n",
    "l=[1,2,3,4,5,6,7,8,9,10]\n",
    "i=0\n",
    "mid=len(l)//2-1\n",
    "res=[]\n",
    "while i<len(l):\n",
    "    if i<mid:\n",
    "        res+=[l[i]]\n",
    "    elif i>=mid and i<=len(l)-1:\n",
    "        res=[l[i]]+res\n",
    "    i+=1\n",
    "print(res)"
   ]
  },
  {
   "cell_type": "code",
   "execution_count": null,
   "metadata": {},
   "outputs": [],
   "source": [
    "#33. Reverse only even indexed of the elements of given array\n"
   ]
  },
  {
   "cell_type": "code",
   "execution_count": null,
   "metadata": {},
   "outputs": [],
   "source": [
    "#34. Reverse only odd indexed of the elements of given array\n"
   ]
  },
  {
   "cell_type": "code",
   "execution_count": 33,
   "metadata": {},
   "outputs": [
    {
     "name": "stdout",
     "output_type": "stream",
     "text": [
      "[1, 3, 2, 5, 4, 7, 6, 9, 8]\n"
     ]
    }
   ],
   "source": [
    "#35. Swap odd indexed elements with its immediate next even indexed elements of given array.\n",
    "l=[1,2,3,4,5,6,7,8,9]\n",
    "i=1\n",
    "res=[l[0]]\n",
    "while i<len(l):\n",
    "    ch=l[i]\n",
    "    ch1=l[i+1]\n",
    "    res+=[ch1]\n",
    "    res+=[ch]\n",
    "    i+=2\n",
    "print(res)\n"
   ]
  },
  {
   "cell_type": "code",
   "execution_count": 3,
   "metadata": {},
   "outputs": [
    {
     "name": "stdout",
     "output_type": "stream",
     "text": [
      " olleh dlrow emoclew ot \n"
     ]
    }
   ],
   "source": [
    "st=' hello world welcome to python'\n",
    "res=''\n",
    "result=''\n",
    "for i in st:\n",
    "    if i!=' ':\n",
    "        res+=i\n",
    "    else:\n",
    "        result+=res[::-1]+' '\n",
    "        res=''\n",
    "print(result)\n",
    "        "
   ]
  },
  {
   "cell_type": "code",
   "execution_count": 1,
   "metadata": {},
   "outputs": [
    {
     "name": "stdout",
     "output_type": "stream",
     "text": [
      "7 welcome\n"
     ]
    }
   ],
   "source": [
    "st=' hello world welcome to python '\n",
    "maxc=0\n",
    "result=''\n",
    "res=''\n",
    "for i in st:\n",
    "    if i!=' ':\n",
    "        res+=i\n",
    "    else:\n",
    "        res=''\n",
    "    if len(res)>maxc:\n",
    "            maxc=len(res)\n",
    "            result=res\n",
    "print(maxc,result)"
   ]
  },
  {
   "cell_type": "code",
   "execution_count": 15,
   "metadata": {},
   "outputs": [
    {
     "name": "stdout",
     "output_type": "stream",
     "text": [
      "{'python': 1, 'is': 1, 'a': 1, 'programing': 1, 'language': 1}\n"
     ]
    }
   ],
   "source": [
    "st='python is a programing language'\n",
    "dict={}\n",
    "res=''\n",
    "for i in st:\n",
    "    if i!=' ':\n",
    "        res+=i\n",
    "    else:\n",
    "        dict[res]=1\n",
    "        res=''\n",
    "if res:\n",
    "    dict[res]=1\n",
    "print(dict)"
   ]
  },
  {
   "cell_type": "code",
   "execution_count": 21,
   "metadata": {},
   "outputs": [
    {
     "name": "stdout",
     "output_type": "stream",
     "text": [
      "[0, 1, 2, 3, 4, 5]\n"
     ]
    }
   ],
   "source": [
    "#36,37,38 right shift\n",
    "l=[1,2,3,4,5,6]\n",
    "rs=int(input())\n",
    "i=len(l)-1\n",
    "while i>=0:\n",
    "    l[i]=l[i-rs]\n",
    "    i-=1\n",
    "while rs>0:\n",
    "    l[rs-1]=0\n",
    "    rs-=1\n",
    "print(l)\n"
   ]
  },
  {
   "cell_type": "code",
   "execution_count": 26,
   "metadata": {},
   "outputs": [
    {
     "name": "stdout",
     "output_type": "stream",
     "text": [
      "[2, 3, 4, 5, 6, 0]\n"
     ]
    }
   ],
   "source": [
    "#left shift 39,40,41\n",
    "l=[1,2,3,4,5,6]\n",
    "ls=int(input())\n",
    "i=0\n",
    "while i<len(l)-ls:\n",
    "    l[i]=l[i+ls]\n",
    "    i+=1\n",
    "while ls>0:\n",
    "    l[-ls]=0\n",
    "    ls-=1\n",
    "print(l)"
   ]
  },
  {
   "cell_type": "code",
   "execution_count": 29,
   "metadata": {},
   "outputs": [
    {
     "name": "stdout",
     "output_type": "stream",
     "text": [
      "[7, 1, 2, 3, 4, 5, 6]\n"
     ]
    }
   ],
   "source": [
    "# 42,43,44 right rotate\n",
    "l=[1,2,3,4,5,6,7]\n",
    "rotations=int(input())\n",
    "j=1\n",
    "while j<=rotations:\n",
    "    i=len(l)-1\n",
    "    while i>=1:\n",
    "        l[i-1],l[i]=l[i],l[i-1]\n",
    "        i-=1\n",
    "    j+=1\n",
    "print(l)\n",
    "    "
   ]
  },
  {
   "cell_type": "code",
   "execution_count": 32,
   "metadata": {},
   "outputs": [
    {
     "name": "stdout",
     "output_type": "stream",
     "text": [
      "[2, 3, 4, 5, 6, 1]\n"
     ]
    }
   ],
   "source": [
    "#45,46,47 left rotate\n",
    "l=[1,2,3,4,5,6]\n",
    "rotations=int(input())\n",
    "j=1\n",
    "while j<=rotations:\n",
    "    i=1\n",
    "    while i<=len(l)-1:\n",
    "        l[i-1],l[i]=l[i],l[i-1]\n",
    "        i+=1\n",
    "    j+=1\n",
    "print(l)"
   ]
  },
  {
   "cell_type": "code",
   "execution_count": null,
   "metadata": {},
   "outputs": [],
   "source": [
    "#48) rotate first half of elements by one.\n",
    "l=[1,2,3,4,5,6]\n",
    "j=1\n",
    "rotations=int(input())\n",
    "while j<=rotations:\n",
    "    i=(len(l)//2)-1\n",
    "    while i>=1:\n",
    "        l[i-1],l[i]=l[i],l[i-1]\n",
    "        i-=1\n",
    "    j+=1\n",
    "print(l)"
   ]
  },
  {
   "cell_type": "code",
   "execution_count": null,
   "metadata": {},
   "outputs": [],
   "source": [
    "#49) rotate 2nd half of elements of the list by one.\n",
    "l=[1,2,3,4,5,6]\n",
    "j=1\n",
    "rotations=int(input())\n",
    "while j<=rotations:\n",
    "    i=(len(l)//2)+1\n",
    "    while i<len(l):\n",
    "        l[i-1],l[i]=l[i],l[i-1]\n",
    "        i+=1\n",
    "    j+=1\n",
    "print(l)"
   ]
  },
  {
   "cell_type": "code",
   "execution_count": null,
   "metadata": {},
   "outputs": [],
   "source": [
    "#50) rotate first half of elements by one and rotate 2nd half of elements of the list by one seperately.\n",
    "l=[1,2,3,4,5,6]\n",
    "j=1\n",
    "rotations=int(input())\n",
    "while j<=rotations:\n",
    "    i=(len(l)//2)-1\n",
    "    k=(len(l)//2)+1\n",
    "    while i>=1 and k<len(l):\n",
    "        l[i-1],l[i]=l[i],l[i-1]\n",
    "        i-=1\n",
    "    while k<len(l):\n",
    "        l[k-1],l[k]=l[k],l[k-1]\n",
    "        k+=1\n",
    "    j+=1\n",
    "print(l)"
   ]
  },
  {
   "cell_type": "code",
   "execution_count": null,
   "metadata": {},
   "outputs": [],
   "source": [
    "#51) remove specified indexed element from the given array.\n",
    "l=[1,2,3,4,5,6]\n",
    "index=int(input())\n",
    "i=0\n",
    "l1=[]\n",
    "while i<=len(l)-1:\n",
    "    ch=l[i]\n",
    "    if index==i:\n",
    "        i+=1\n",
    "    else:\n",
    "        l1+=[ch]\n",
    "        i+=1\n",
    "print(l1)\n"
   ]
  },
  {
   "cell_type": "code",
   "execution_count": null,
   "metadata": {},
   "outputs": [],
   "source": [
    "#52) update specified indexed element with a new element from the given array.\n",
    "index=int(input())\n",
    "newElement=int(input())\n",
    "l=[1,2,3,4,5,6]\n",
    "i=0\n",
    "l1=[]\n",
    "while i<=len(l)-1:\n",
    "    ch=l[i]\n",
    "    if index==i:\n",
    "        l[i]=newElement\n",
    "        i+=1\n",
    "    else:\n",
    "        l1+=[ch]\n",
    "        i+=1\n",
    "print(l)"
   ]
  },
  {
   "cell_type": "code",
   "execution_count": null,
   "metadata": {},
   "outputs": [],
   "source": [
    "#53) Remove all occurrences of specified element from the given array.\n",
    "element=int(input())\n",
    "l=[1,2,3,4,5,2,3,2,6]\n",
    "i=0\n",
    "l1=[]\n",
    "while i<=len(l)-1:\n",
    "    ch=l[i]\n",
    "    if element==ch:\n",
    "        i+=1\n",
    "    else:\n",
    "        l1+=[ch]\n",
    "        i+=1\n",
    "print(l1)"
   ]
  },
  {
   "cell_type": "code",
   "execution_count": null,
   "metadata": {},
   "outputs": [],
   "source": [
    "#54) Remove all odd indexed elements from the given array\n",
    "l=[1,2,3,4,5,6]\n",
    "i=0\n",
    "l1=[]\n",
    "while i<=len(l)-1:\n",
    "    ch=l[i]\n",
    "    if i%2==1:\n",
    "        i+=1\n",
    "    else:\n",
    "        l1+=[ch]\n",
    "        i+=1\n",
    "print(l1)"
   ]
  },
  {
   "cell_type": "code",
   "execution_count": null,
   "metadata": {},
   "outputs": [],
   "source": [
    "#55) Remove all even indexed elements from the given array.\n",
    "l=[1,2,3,4,5,6]\n",
    "i=0\n",
    "l1=[]\n",
    "while i<=len(l)-1:\n",
    "    ch=l[i]\n",
    "    if i%2==0:\n",
    "        i+=1\n",
    "    else:\n",
    "        l1+=[ch]\n",
    "        i+=1\n",
    "print(l1)"
   ]
  },
  {
   "cell_type": "code",
   "execution_count": null,
   "metadata": {},
   "outputs": [],
   "source": [
    "#56) Remove the duplicates from the given array.\n",
    "l=[1,2,3,4,2,5,3,6,7]\n",
    "i=0\n",
    "l1=[]\n",
    "while i<=len(l)-1:\n",
    "    ch=l[i]\n",
    "    if ch not in l1:\n",
    "        l1+=[ch]\n",
    "    i+=1\n",
    "print(l1)"
   ]
  },
  {
   "cell_type": "code",
   "execution_count": null,
   "metadata": {},
   "outputs": [],
   "source": [
    "#57) Find out missed elements from the given array between min and max element.\n",
    "l=[1,2,3,7,3,4,8,4]\n",
    "i=0\n",
    "j=0\n",
    "k=len(l)-1\n",
    "max=0\n",
    "min=0\n",
    "while i<=len(l)-1:\n",
    "    ch=l[i]\n",
    "    if ch>max:\n",
    "        max=ch\n",
    "    if min==0 or min>ch:\n",
    "        min=ch\n",
    "    i+=1\n",
    "print(max)\n",
    "print(min)\n",
    "while j in l(range(l[min],l[max])):\n",
    "    print(l[j])\n",
    "    j+=1\n"
   ]
  },
  {
   "cell_type": "code",
   "execution_count": null,
   "metadata": {},
   "outputs": [],
   "source": [
    "#58) Find out index of an element which contains left indexed element is same as right indexed element\n",
    "l=[1,3,6,7,6,7,8,9,8,43]\n",
    "i=0\n",
    "l1=[]\n",
    "while i<len(l)-1:\n",
    "    ch=l[i]\n",
    "    if l[i-1]==l[i+1]:\n",
    "        print(ch)\n",
    "    i+=1\n"
   ]
  },
  {
   "cell_type": "code",
   "execution_count": null,
   "metadata": {},
   "outputs": [],
   "source": [
    "#59) Find out the elements which are not duplicates in the given array\n",
    "l=[1,2,4,5,6,2,3,4,5,4]\n",
    "i=0\n",
    "while i<=len(l)-1:\n",
    "    ch=l[i]\n",
    "    j=0\n",
    "    c=0\n",
    "    while j<=len(l)-1:\n",
    "        ch1=l[j]\n",
    "        if ch==ch1:\n",
    "            c+=1\n",
    "        j+=1\n",
    "    if c==1:\n",
    "        print(ch)\n",
    "    i+=1\n"
   ]
  },
  {
   "cell_type": "code",
   "execution_count": null,
   "metadata": {},
   "outputs": [],
   "source": [
    "#60) Find out elements which are having minimum one duplicate.\n",
    "l=[1,2,4,5,6,2,3,4,5,4]\n",
    "i=0\n",
    "while i<=len(l)-1:\n",
    "    ch=l[i]\n",
    "    j=0\n",
    "    c=0\n",
    "    while j<=len(l)-1:\n",
    "        ch1=l[j]\n",
    "        if ch==ch1:\n",
    "            c+=1\n",
    "        j+=1\n",
    "    if c>1:\n",
    "        print(ch)\n",
    "    i+=1\n",
    "    "
   ]
  },
  {
   "cell_type": "code",
   "execution_count": null,
   "metadata": {},
   "outputs": [],
   "source": []
  }
 ],
 "metadata": {
  "kernelspec": {
   "display_name": "Python 3",
   "language": "python",
   "name": "python3"
  },
  "language_info": {
   "codemirror_mode": {
    "name": "ipython",
    "version": 3
   },
   "file_extension": ".py",
   "mimetype": "text/x-python",
   "name": "python",
   "nbconvert_exporter": "python",
   "pygments_lexer": "ipython3",
   "version": "3.10.0"
  }
 },
 "nbformat": 4,
 "nbformat_minor": 2
}
