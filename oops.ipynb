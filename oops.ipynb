{
 "cells": [
  {
   "cell_type": "code",
   "execution_count": 13,
   "metadata": {},
   "outputs": [
    {
     "name": "stdout",
     "output_type": "stream",
     "text": [
      "jagadeesh\n",
      "22\n",
      "satya\n",
      "23\n",
      "k.jagadeesh\n",
      "21\n",
      "p.satya\n",
      "23\n",
      "supriya\n",
      "20\n",
      "raju\n",
      "24\n"
     ]
    }
   ],
   "source": [
    "class student:\n",
    "    def __init__(self,name,age) :\n",
    "        self.name=name\n",
    "        self.age=age\n",
    "    def display(self):\n",
    "        print(self.name)\n",
    "        print(self.age)\n",
    "    def changename(self,newname):\n",
    "        self.name=newname\n",
    "    def changeage(self,newage):\n",
    "        self.age=newage\n",
    "    def deletename(self):\n",
    "        del self.name\n",
    "    def deleteage(self):\n",
    "        del self.age\n",
    "\n",
    "s1=student(\"jagadeesh\",22)\n",
    "s2=student(\"satya\",23)\n",
    "s1.display()\n",
    "s2.display()\n",
    "s1.changename(\"k.jagadeesh\")\n",
    "s1.changeage(21)\n",
    "s1.display()\n",
    "s1.deleteage()\n",
    "s2.changename(\"p.satya\")\n",
    "s2.display()\n",
    "s3=student(\"supriya\",20)\n",
    "s3.display()\n",
    "s4=student(\"raju\",24)\n",
    "s4.display()"
   ]
  },
  {
   "cell_type": "code",
   "execution_count": 1,
   "metadata": {},
   "outputs": [
    {
     "name": "stdout",
     "output_type": "stream",
     "text": [
      "express 17028 secunderabad kurnool\n",
      "passenger 179034 secunderabad guntakal\n"
     ]
    }
   ],
   "source": [
    "class train:\n",
    "    def __init__(self,type,num,start,end):\n",
    "        self.type=type\n",
    "        self.num=num\n",
    "        self.start=start\n",
    "        self.end=end\n",
    "    def display(self):\n",
    "        print(self.type,self.num,self.start,self.end)\n",
    "    def changetype(self,changetype):\n",
    "        self.type=changetype\n",
    "    def changenum(self,changenum):\n",
    "        self.num=changenum\n",
    "    def changestart(self,changestart):\n",
    "        self.start=changestart\n",
    "    def changeend(self,changeend):\n",
    "        self.end=changeend\n",
    "    def deletetype(self):\n",
    "        del self.type\n",
    "    def deletenum(self):\n",
    "        del self.num\n",
    "    def deletestart(self):\n",
    "        del self.start\n",
    "    def deleteend(self):\n",
    "        del self.end\n",
    "    \n",
    "t1=train(\"express\",17028,\"secunderabad\",\"kurnool\")\n",
    "t2=train(\"passenger\",179034,\"secunderabad\",\"guntakal\")\n",
    "t1.display()\n",
    "t2.display()"
   ]
  },
  {
   "cell_type": "code",
   "execution_count": null,
   "metadata": {},
   "outputs": [],
   "source": [
    "class train:\n",
    "    def __init__(self,type,num,start,end):\n",
    "        self.type=type\n",
    "        self.num=num\n",
    "        self.start=start\n",
    "        self.end=end\n",
    "    def display(self):\n",
    "        print(self.type,self.num,self.start,self.end)\n",
    "    def changetype(self,changetype):\n",
    "        self.type=changetype\n",
    "    def changenum(self,changenum):\n",
    "        self.num=changenum\n",
    "    def changestart(self,changestart):\n",
    "        self.start=changestart\n",
    "    def changeend(self,changeend):\n",
    "        self.end=changeend\n",
    "    def deletetype(self):\n",
    "        del self.type\n",
    "    def deletenum(self):\n",
    "        del self.num\n",
    "    def deletestart(self):\n",
    "        del self.start\n",
    "    def deleteend(self):\n",
    "        del self.end\n",
    "    \n",
    "t1=train(\"express\",17028,\"secunderabad\",\"kurnool\")\n",
    "t2=train(\"passenger\",179034,\"secunderabad\",\"guntakal\")\n",
    "t1.display()\n",
    "t2.display()"
   ]
  },
  {
   "cell_type": "code",
   "execution_count": 3,
   "metadata": {},
   "outputs": [
    {
     "name": "stdout",
     "output_type": "stream",
     "text": [
      "Car 123 City A City B\n"
     ]
    }
   ],
   "source": [
    "class Transportation:\n",
    "    def __init__(self, vehicle_type, vehicle_number, departure, destination):\n",
    "        self.vehicle_type = vehicle_type\n",
    "        self.vehicle_number = vehicle_number\n",
    "        self.departure = departure\n",
    "        self.destination = destination\n",
    "\n",
    "    def display(self):\n",
    "        print(self.vehicle_type, self.vehicle_number, self.departure, self.destination)\n",
    "\n",
    "    def change_type(self, new_type):\n",
    "        self.vehicle_type = new_type\n",
    "\n",
    "    def change_number(self, new_number):\n",
    "        self.vehicle_number = new_number\n",
    "\n",
    "    def change_departure(self, new_departure):\n",
    "        self.departure = new_departure\n",
    "\n",
    "    def change_destination(self, new_destination):\n",
    "        self.destination = new_destination\n",
    "\n",
    "    def delete_type(self):\n",
    "        del self.vehicle_type\n",
    "\n",
    "    def delete_number(self):\n",
    "        del self.vehicle_number\n",
    "\n",
    "    def delete_departure(self):\n",
    "        del self.departure\n",
    "\n",
    "    def delete_destination(self):\n",
    "        del self.destination\n",
    "transport1 = Transportation(\"Car\", \"123\", \"City A\", \"City B\")\n",
    "transport1.display()\n"
   ]
  },
  {
   "cell_type": "code",
   "execution_count": 4,
   "metadata": {},
   "outputs": [
    {
     "name": "stdout",
     "output_type": "stream",
     "text": [
      "Flight 456 City X City Y\n"
     ]
    }
   ],
   "source": [
    "class Journey:\n",
    "    def __init__(self, journey_type, journey_number, origin, destination):\n",
    "        self.journey_type = journey_type\n",
    "        self.journey_number = journey_number\n",
    "        self.origin = origin\n",
    "        self.destination = destination\n",
    "\n",
    "    def display(self):\n",
    "        print(self.journey_type, self.journey_number, self.origin, self.destination)\n",
    "\n",
    "    def change_type(self, new_type):\n",
    "        self.journey_type = new_type\n",
    "\n",
    "    def change_number(self, new_number):\n",
    "        self.journey_number = new_number\n",
    "\n",
    "    def change_origin(self, new_origin):\n",
    "        self.origin = new_origin\n",
    "\n",
    "    def change_destination(self, new_destination):\n",
    "        self.destination = new_destination\n",
    "\n",
    "    def delete_type(self):\n",
    "        del self.journey_type\n",
    "\n",
    "    def delete_number(self):\n",
    "        del self.journey_number\n",
    "\n",
    "    def delete_origin(self):\n",
    "        del self.origin\n",
    "\n",
    "    def delete_destination(self):\n",
    "        del self.destination\n",
    "\n",
    "journey1 = Journey(\"Flight\", \"456\", \"City X\", \"City Y\")\n",
    "journey1.display()\n"
   ]
  },
  {
   "cell_type": "code",
   "execution_count": null,
   "metadata": {},
   "outputs": [],
   "source": [
    "class TripInfo:\n",
    "    def __init__(self, trip_type, trip_number, start_location, end_location):\n",
    "        self.trip_type = trip_type\n",
    "        self.trip_number = trip_number\n",
    "        self.start_location = start_location\n",
    "        self.end_location = end_location\n",
    "\n",
    "    def display(self):\n",
    "        print(self.trip_type, self.trip_number, self.start_location, self.end_location)\n",
    "\n",
    "    def change_type(self, new_type):\n",
    "        self.trip_type = new_type\n",
    "\n",
    "    def change_number(self, new_number):\n",
    "        self.trip_number = new_number\n",
    "\n",
    "    def change_start_location(self, new_start_location):\n",
    "        self.start_location = new_start_location\n",
    "\n",
    "    def change_end_location(self, new_end_location):\n",
    "        self.end_location = new_end_location\n",
    "\n",
    "    def delete_type(self):\n",
    "        del self.trip_type\n",
    "\n",
    "    def delete_number(self):\n",
    "        del self.trip_number\n",
    "\n",
    "    def delete_start_location(self):\n",
    "        del self.start_location\n",
    "\n",
    "    def delete_end_location(self):\n",
    "        del self.end_location\n",
    "trip_info1 = TripInfo(\"Bus\", \"789\", \"Town P\", \"Town Q\")\n",
    "trip_info1.display()\n"
   ]
  },
  {
   "cell_type": "code",
   "execution_count": 2,
   "metadata": {},
   "outputs": [
    {
     "name": "stdout",
     "output_type": "stream",
     "text": [
      "Walk 101 Place M Place N\n"
     ]
    }
   ],
   "source": [
    "class Route:\n",
    "    def __init__(self, route_type, route_number, start_point, end_point):\n",
    "        self.route_type = route_type\n",
    "        self.route_number = route_number\n",
    "        self.start_point = start_point\n",
    "        self.end_point = end_point\n",
    "    def display(self):\n",
    "        print(self.route_type, self.route_number, self.start_point, self.end_point)\n",
    "\n",
    "    def change_type(self, new_type):\n",
    "        self.route_type = new_type\n",
    "\n",
    "    def change_number(self, new_number):\n",
    "        self.route_number = new_number\n",
    "\n",
    "    def change_start_point(self, new_start_point):\n",
    "        self.start_point = new_start_point\n",
    "\n",
    "    def change_end_point(self, new_end_point):\n",
    "        self.end_point = new_end_point\n",
    "\n",
    "    def delete_type(self):\n",
    "        del self.route_type\n",
    "\n",
    "    def delete_number(self):\n",
    "        del self.route_number\n",
    "\n",
    "    def delete_start_point(self):\n",
    "        del self.start_point\n",
    "\n",
    "    def delete_end_point(self):\n",
    "        del self.end_point\n",
    "route1 = Route(\"Walk\", \"101\", \"Place M\", \"Place N\")\n",
    "route1.display()"
   ]
  },
  {
   "cell_type": "code",
   "execution_count": 1,
   "metadata": {},
   "outputs": [
    {
     "name": "stdout",
     "output_type": "stream",
     "text": [
      "{'__module__': '__main__', 'schoolname': None, 'change_school_name': <classmethod(<function Student.change_school_name at 0x000002E1385C2FC0>)>, '__dict__': <attribute '__dict__' of 'Student' objects>, '__weakref__': <attribute '__weakref__' of 'Student' objects>, '__doc__': None}\n",
      "{'__module__': '__main__', 'schoolname': 'sps', 'change_school_name': <classmethod(<function Student.change_school_name at 0x000002E1385C2FC0>)>, '__dict__': <attribute '__dict__' of 'Student' objects>, '__weakref__': <attribute '__weakref__' of 'Student' objects>, '__doc__': None}\n"
     ]
    }
   ],
   "source": [
    "class Student:\n",
    "    \n",
    "    schoolname=None\n",
    "    @classmethod\n",
    "    def change_school_name(cls,newname):\n",
    "        cls.schoolname=newname\n",
    "    \n",
    "s1=Student\n",
    "print(Student.__dict__)\n",
    "Student.change_school_name(\"sps\")\n",
    "print(Student.__dict__)"
   ]
  },
  {
   "cell_type": "code",
   "execution_count": 9,
   "metadata": {},
   "outputs": [
    {
     "name": "stdout",
     "output_type": "stream",
     "text": [
      "{'__module__': '__main__', 'busname': 'express', 'busnum': None, 'changebusname': <classmethod(<function bus.changebusname at 0x000002E138697BA0>)>, 'changebusnum': 229, 'deletename': <classmethod(<function bus.deletename at 0x000002E138B6D260>)>, '__dict__': <attribute '__dict__' of 'bus' objects>, '__weakref__': <attribute '__weakref__' of 'bus' objects>, '__doc__': None}\n"
     ]
    }
   ],
   "source": [
    "class bus:\n",
    "    busname=None\n",
    "    busnum=None \n",
    "    \n",
    "    @classmethod\n",
    "    def changebusname(cls,newname):\n",
    "        bus.busname=newname\n",
    "    \n",
    "    @classmethod\n",
    "    def changebusnum(cls,newnum):\n",
    "        bus.changebusnum=newnum\n",
    "    \n",
    "    @classmethod\n",
    "    def deletename(cls):\n",
    "        del cls.busname\n",
    "\n",
    "bus.changebusname(\"express\")\n",
    "bus.changebusnum(229)\n",
    "print(bus.__dict__)"
   ]
  },
  {
   "cell_type": "code",
   "execution_count": 6,
   "metadata": {},
   "outputs": [
    {
     "name": "stdout",
     "output_type": "stream",
     "text": [
      "hyd hyd\n",
      "ap ap\n"
     ]
    }
   ],
   "source": [
    "#class method ==> changing class variables using classs reference\n",
    "class bank:\n",
    "    bankname=\"sbi\"\n",
    "    loc=\"hyd\"\n",
    "    @classmethod\n",
    "    def cname(cls,nname):\n",
    "        cls.bankname=nname\n",
    "    def cloc(cls,nloc):\n",
    "        cls.loc=nloc\n",
    "b1=bank()\n",
    "b2=bank()\n",
    "print(b1.loc,b2.loc)\n",
    "bank.loc=\"ap\"\n",
    "print(b1.loc,b2.loc)\n",
    "    "
   ]
  },
  {
   "cell_type": "code",
   "execution_count": 20,
   "metadata": {},
   "outputs": [
    {
     "name": "stdout",
     "output_type": "stream",
     "text": [
      "12 12\n",
      "14 14\n",
      "15 15\n",
      "15\n",
      "15\n"
     ]
    }
   ],
   "source": [
    "#class method ==> changing class variables using classs reference & objecct reference\n",
    "class phone:\n",
    "    company=\"oppo\"\n",
    "    model=12\n",
    "    @classmethod\n",
    "    def cname(cls,nname):\n",
    "        cls.company=nname\n",
    "    @classmethod\n",
    "    def cloc(cls,nloc):\n",
    "        cls.model=nloc\n",
    "b1=phone()\n",
    "b2=phone()\n",
    "print(b1.model,b2.model)\n",
    "phone.model=14\n",
    "print(b1.model,b2.model)\n",
    "b1.cloc(15)\n",
    "print(b1.model,b2.model)\n",
    "print(phone.model)\n",
    "\n",
    "  "
   ]
  },
  {
   "cell_type": "code",
   "execution_count": 40,
   "metadata": {},
   "outputs": [
    {
     "name": "stdout",
     "output_type": "stream",
     "text": [
      "Bus 789 Town P Town Q\n"
     ]
    }
   ],
   "source": [
    "#pbject methods\n",
    "class TripInfo:\n",
    "    def __init__(self, trip_type, trip_number, start_location, end_location):\n",
    "        self.trip_type = trip_type\n",
    "        self.trip_number = trip_number\n",
    "        self.start_location = start_location\n",
    "        self.end_location = end_location\n",
    "\n",
    "    def display(self):\n",
    "        print(self.trip_type, self.trip_number, self.start_location, self.end_location)\n",
    "\n",
    "    def change_type(self, new_type):\n",
    "        self.trip_type = new_type\n",
    "\n",
    "    def change_number(self, new_number):\n",
    "        self.trip_number = new_number\n",
    "\n",
    "    def change_start_location(self, new_start_location):\n",
    "        self.start_location = new_start_location\n",
    "\n",
    "    def change_end_location(self, new_end_location):\n",
    "        self.end_location = new_end_location\n",
    "\n",
    "    def delete_type(self):\n",
    "        del self.trip_type\n",
    "\n",
    "    def delete_number(self):\n",
    "        del self.trip_number\n",
    "\n",
    "    def delete_start_location(self):\n",
    "        del self.start_location\n",
    "\n",
    "    def delete_end_location(self):\n",
    "        del self.end_location\n",
    "trip_info1 = TripInfo(\"Bus\", \"789\", \"Town P\", \"Town Q\")\n",
    "trip_info1.display()\n"
   ]
  },
  {
   "cell_type": "code",
   "execution_count": 21,
   "metadata": {},
   "outputs": [
    {
     "name": "stdout",
     "output_type": "stream",
     "text": [
      "30\n",
      "30\n"
     ]
    }
   ],
   "source": [
    "#static method\n",
    "class MyClass:\n",
    "\tdef __init__(self, value):\n",
    "\t\tself.value = value\n",
    "\n",
    "\t@staticmethod\n",
    "\tdef get_max_value(x, y):\n",
    "\t\treturn max(x, y)\n",
    "\n",
    "\n",
    "obj = MyClass(10)\n",
    "\n",
    "print(MyClass.get_max_value(20, 30)) \n",
    "\n",
    "print(obj.get_max_value(20, 30)) \n"
   ]
  },
  {
   "cell_type": "code",
   "execution_count": 38,
   "metadata": {},
   "outputs": [
    {
     "name": "stdout",
     "output_type": "stream",
     "text": [
      "Inside static method 10\n",
      "Inside static method 10\n"
     ]
    }
   ],
   "source": [
    "class Employee:\n",
    "    @staticmethod\n",
    "    def sample(x):\n",
    "        print('Inside static method', x)\n",
    "\n",
    "# call static method\n",
    "Employee.sample(10)\n",
    "\n",
    "# can be called using object\n",
    "emp = Employee()\n",
    "emp.sample(10)"
   ]
  },
  {
   "cell_type": "code",
   "execution_count": 51,
   "metadata": {},
   "outputs": [
    {
     "name": "stdout",
     "output_type": "stream",
     "text": [
      "Completed task_1\n",
      "Completed task_2\n",
      "Completed task_3\n",
      "['task_1', 'task_2', 'task_3']\n"
     ]
    }
   ],
   "source": [
    "class Employee(object):\n",
    "\n",
    "    def __init__(self, name, salary, project_name):\n",
    "        self.name = name\n",
    "        self.salary = salary\n",
    "        self.project_name = project_name\n",
    "\n",
    "    @staticmethod\n",
    "    def gather_requirement(project_name):\n",
    "        if project_name == 'ABC Project':\n",
    "            requirement = ['task_1', 'task_2', 'task_3']\n",
    "        else:\n",
    "            requirement = ['task_1']\n",
    "        return requirement\n",
    "\n",
    "    # instance method\n",
    "    def work(self):\n",
    "        # call static method from instance method\n",
    "        requirement = self.gather_requirement(self.project_name)\n",
    "        for task in requirement:\n",
    "            print('Completed', task)\n",
    "\n",
    "emp = Employee('Kelly', 12000, 'ABC Project')\n",
    "emp.work()\n",
    "print(emp.gather_requirement(\"ABC Project\"))\n"
   ]
  },
  {
   "cell_type": "code",
   "execution_count": 63,
   "metadata": {},
   "outputs": [
    {
     "name": "stdout",
     "output_type": "stream",
     "text": [
      "static method 1\n",
      "static method 1\n",
      "static method 1\n"
     ]
    }
   ],
   "source": [
    "class Test :\n",
    "    @staticmethod\n",
    "    def static_method_1():\n",
    "        print('static method 1')\n",
    "\n",
    "    @staticmethod\n",
    "    def static_method_2() :\n",
    "        Test.static_method_1()\n",
    "\n",
    "    @classmethod\n",
    "    def class_method_1(cls) :\n",
    "        cls.static_method_2()\n",
    "\n",
    "# call class method\n",
    "Test.class_method_1()\n",
    "Test.static_method_1()\n",
    "Test.static_method_2()"
   ]
  },
  {
   "cell_type": "code",
   "execution_count": 79,
   "metadata": {},
   "outputs": [
    {
     "name": "stdout",
     "output_type": "stream",
     "text": [
      "white white white\n",
      "yellow yellow yellow\n"
     ]
    }
   ],
   "source": [
    "class book:\n",
    "    color=\"white\"\n",
    "    @classmethod\n",
    "    def changecolor(cls,ncolor):\n",
    "        cls.color=ncolor\n",
    "    \n",
    "b1=book()\n",
    "b2=book()\n",
    "print(b1.color,book.color,b2.color)\n",
    "b1.changecolor(\"brown\")\n",
    "book.color=\"yellow\"\n",
    "print(b1.color,book.color,b2.color)\n",
    "        "
   ]
  },
  {
   "cell_type": "code",
   "execution_count": 78,
   "metadata": {},
   "outputs": [
    {
     "name": "stdout",
     "output_type": "stream",
     "text": [
      "carnivore carnivore\n",
      "omni omni\n"
     ]
    }
   ],
   "source": [
    "class animal:\n",
    "    type=\"carnivore\"\n",
    "    @classmethod\n",
    "    def changetype(cls,ntypee):\n",
    "        cls.type=ntypee\n",
    "a1=animal()\n",
    "print(a1.type,animal.type)\n",
    "a1.changetype(\"ommni\")\n",
    "# print(a1.type)\n",
    "a1.changetype(\"herbi\")\n",
    "animal.type=\"omni\" \n",
    "print(a1.type,animal.type)"
   ]
  },
  {
   "cell_type": "code",
   "execution_count": 35,
   "metadata": {},
   "outputs": [
    {
     "name": "stdout",
     "output_type": "stream",
     "text": [
      "CS_BT_21_7412@student.onlinedegree.iitm.ac.in\n"
     ]
    }
   ],
   "source": [
    "class student:\n",
    "    def __init__(self,branch,degree,year,rollnumber,institute):\n",
    "        self.branch=branch\n",
    "        self.degree=degree\n",
    "        self.year=year\n",
    "        self.rollnumber=rollnumber\n",
    "        self.institute=institute\n",
    "    def generateemail(self):\n",
    "        print(self.branch+\"_\"+self.degree+\"_\"+(str(self.year))+\"_\"+str(self.rollnumber)+\"@student.onlinedegree.\"+self.institute+\".ac.in\")\n",
    "s1=student(\"CS\",\"BT\",21,7412,\"iitm\")\n",
    "s1.generateemail()\n"
   ]
  },
  {
   "cell_type": "code",
   "execution_count": 37,
   "metadata": {},
   "outputs": [
    {
     "name": "stdout",
     "output_type": "stream",
     "text": [
      "100.0\n",
      "400.0\n"
     ]
    }
   ],
   "source": [
    "class triangle:\n",
    "    def __init__(self,base,height) :\n",
    "        self.base=base\n",
    "        self.height=height\n",
    "    def area(self):\n",
    "        print(0.5*self.base*self.height)\n",
    "        \n",
    "t1=triangle(10,20)\n",
    "t2=triangle(20,40)\n",
    "t1.area()\n",
    "t2.area()"
   ]
  },
  {
   "cell_type": "code",
   "execution_count": 38,
   "metadata": {},
   "outputs": [
    {
     "name": "stdout",
     "output_type": "stream",
     "text": [
      "200\n",
      "800\n"
     ]
    }
   ],
   "source": [
    "class rectangle:\n",
    "    def __init__(self,length,breadth) :\n",
    "        self.length=length\n",
    "        self.breadth=breadth\n",
    "    def area(self):\n",
    "        print(self.length*self.breadth)\n",
    "        \n",
    "t1=rectangle(10,20)\n",
    "t2=rectangle(20,40)\n",
    "t1.area()\n",
    "t2.area()"
   ]
  },
  {
   "cell_type": "code",
   "execution_count": 42,
   "metadata": {},
   "outputs": [
    {
     "name": "stdout",
     "output_type": "stream",
     "text": [
      "78.5\n"
     ]
    }
   ],
   "source": [
    "class circle:\n",
    "    def __init__(self,radius):\n",
    "        self.radius=radius\n",
    "    def area(self):\n",
    "        print(3.14*self.radius**2)\n",
    " \n",
    "c1=circle(5)\n",
    "c1.area()"
   ]
  },
  {
   "cell_type": "code",
   "execution_count": 71,
   "metadata": {},
   "outputs": [
    {
     "name": "stdout",
     "output_type": "stream",
     "text": [
      "kalki->30->3556000->1239852245->Info224530\n",
      "maran->28->3089000->79853562219->Info221928\n",
      "vanara->38->920000->8345724338->Info433838\n",
      "kaarina->40->1000000->9090720812->Info81240\n",
      "8565000\n"
     ]
    }
   ],
   "source": [
    "class employee:\n",
    "    companyName='name'\n",
    "    loc='loc'\n",
    "    def __init__(self,name,age,salary,phonenumber):\n",
    "        self.name=name\n",
    "        self.age=age\n",
    "        self.salary=salary\n",
    "        self.phonenumber=phonenumber\n",
    "    def generate_employee_id(self):\n",
    "        self.empid=self.companyName[0:4]+str(self.phonenumber%10000)+str(self.age)\n",
    "    def display_details(self):\n",
    "        print(self.name,self.age,self.salary,self.phonenumber,self.empid,sep='->')\n",
    "    def getSalary(self):\n",
    "        return self.salary\n",
    "employee.companyName='Infosys'\n",
    "employee.loc='hyderabad'\n",
    "e1=employee('kalki',30,3556000,1239852245)\n",
    "e2=employee('maran',28,3089000,79853562219)    \n",
    "e3=employee('vanara',38,920000,8345724338)\n",
    "e4=employee('kaarina',40,1000000,9090720812)\n",
    "e1.generate_employee_id()\n",
    "e2.generate_employee_id()\n",
    "e3.generate_employee_id()\n",
    "e4.generate_employee_id()\n",
    "e1.display_details()\n",
    "e2.display_details()\n",
    "e3.display_details()\n",
    "e4.display_details()\n",
    "sum=e1.getSalary()+e2.getSalary()+e3.getSalary()+e4.getSalary()\n",
    "print(sum)"
   ]
  },
  {
   "cell_type": "code",
   "execution_count": 34,
   "metadata": {},
   "outputs": [
    {
     "name": "stdout",
     "output_type": "stream",
     "text": [
      "{'__module__': '__main__', 'schoolname': None, 'change_school_name': <classmethod(<function Student.change_school_name at 0x000002542FAFFB00>)>, '__dict__': <attribute '__dict__' of 'Student' objects>, '__weakref__': <attribute '__weakref__' of 'Student' objects>, '__doc__': None}\n",
      "{'__module__': '__main__', 'schoolname': 'sps', 'change_school_name': <classmethod(<function Student.change_school_name at 0x000002542FAFFB00>)>, '__dict__': <attribute '__dict__' of 'Student' objects>, '__weakref__': <attribute '__weakref__' of 'Student' objects>, '__doc__': None}\n"
     ]
    }
   ],
   "source": [
    "class Student:\n",
    "    \n",
    "    schoolname=None\n",
    "    @classmethod\n",
    "    def change_school_name(cls,newname):\n",
    "        cls.schoolname=newname\n",
    "    \n",
    "s1=Student\n",
    "\n",
    "print(Student.__dict__)\n",
    "Student.change_school_name(\"sps\")\n",
    "print(Student.__dict__)"
   ]
  },
  {
   "cell_type": "code",
   "execution_count": 2,
   "metadata": {},
   "outputs": [
    {
     "name": "stdout",
     "output_type": "stream",
     "text": [
      "Car: 2019 Toyota Camry, Wheels: 4\n",
      "Car: 2020 Honda Accord, Wheels: 4\n",
      "Number of wheels for car1: 4\n",
      "Number of wheels for car2: 4\n",
      "Number of wheels for car1 after update: 6\n",
      "Number of wheels for car2 after update: 6\n",
      "Car: 2019 Toyota Camry, Wheels: 6\n",
      "Car: 2020 Honda Accord, Wheels: 6\n"
     ]
    }
   ],
   "source": [
    "class Car:\n",
    "    wheels = 4\n",
    "    \n",
    "    def __init__(self, make, model, year):\n",
    "        self.make = make\n",
    "        self.model = model\n",
    "        self.year = year\n",
    "        \n",
    "    def display_info(self):\n",
    "        print(\"Car:\", self.year, self.make, self.model + \",\", \"Wheels:\", self.wheels)\n",
    "        \n",
    "    @classmethod\n",
    "    def update_wheels(cls, new_wheels):\n",
    "        cls.wheels = new_wheels\n",
    "        \n",
    "car1 = Car(\"Toyota\", \"Camry\", 2019)\n",
    "car2 = Car(\"Honda\", \"Accord\", 2020)\n",
    "\n",
    "car1.display_info()\n",
    "car2.display_info()\n",
    "\n",
    "print(\"Number of wheels for car1:\", car1.wheels)\n",
    "print(\"Number of wheels for car2:\", car2.wheels)\n",
    "\n",
    "Car.update_wheels(6)\n",
    "\n",
    "print(\"Number of wheels for car1 after update:\", car1.wheels)\n",
    "print(\"Number of wheels for car2 after update:\", car2.wheels)\n",
    "car1.display_info()\n",
    "car2.display_info()\n"
   ]
  },
  {
   "cell_type": "code",
   "execution_count": null,
   "metadata": {},
   "outputs": [],
   "source": [
    "#student record management\n",
    "class Student:\n",
    "    pass\n",
    "\n",
    "    @classmethod\n",
    "    def create_student(cls, student_id, name):\n",
    "        return cls(student_id, name)\n",
    "\n",
    "    def __init__(self, student_id, name):\n",
    "        self.student_id = student_id\n",
    "        self.name = name\n",
    "        self.courses = []\n",
    "        self.grades = {}\n",
    "\n",
    "    def add_course(self, course):\n",
    "        self.courses.append(course)\n",
    "\n",
    "    def add_grade(self, course, grade):\n",
    "        self.grades[course] = grade\n",
    "\n",
    "\n",
    "student1 = Student.create_student(\"123456\", \"Alice\")\n",
    "student1.add_course(\"Math\")\n",
    "student1.add_grade(\"Math\", \"A\")\n"
   ]
  },
  {
   "cell_type": "code",
   "execution_count": null,
   "metadata": {},
   "outputs": [],
   "source": [
    "#object methods\n",
    "class TripInfo:\n",
    "    def __init__(self, trip_type, trip_number, start_location, end_location):\n",
    "        self.trip_type = trip_type\n",
    "        self.trip_number = trip_number\n",
    "        self.start_location = start_location\n",
    "        self.end_location = end_location\n",
    "\n",
    "    def display(self):\n",
    "        print(self.trip_type, self.trip_number, self.start_location, self.end_location)\n",
    "\n",
    "    def change_type(self, new_type):\n",
    "        self.trip_type = new_type\n",
    "\n",
    "    def change_number(self, new_number):\n",
    "        self.trip_number = new_number\n",
    "\n",
    "    def change_start_location(self, new_start_location):\n",
    "        self.start_location = new_start_location\n",
    "\n",
    "    def change_end_location(self, new_end_location):\n",
    "        self.end_location = new_end_location\n",
    "\n",
    "    def delete_type(self):\n",
    "        del self.trip_type\n",
    "\n",
    "    def delete_number(self):\n",
    "        del self.trip_number\n",
    "\n",
    "    def delete_start_location(self):\n",
    "        del self.start_location\n",
    "\n",
    "    def delete_end_location(self):\n",
    "        del self.end_location\n",
    "trip_info1 = TripInfo(\"Bus\", \"789\", \"Town P\", \"Town Q\")\n",
    "trip_info1.display()\n"
   ]
  },
  {
   "cell_type": "code",
   "execution_count": null,
   "metadata": {},
   "outputs": [],
   "source": [
    "class train:\n",
    "    def __init__(self,type,num,start,end):\n",
    "        self.type=type\n",
    "        self.num=num\n",
    "        self.start=start\n",
    "        self.end=end\n",
    "    def display(self):\n",
    "        print(self.type,self.num,self.start,self.end)\n",
    "    def changetype(self,changetype):\n",
    "        self.type=changetype\n",
    "    def changenum(self,changenum):\n",
    "        self.num=changenum\n",
    "    def changestart(self,changestart):\n",
    "        self.start=changestart\n",
    "    def changeend(self,changeend):\n",
    "        self.end=changeend\n",
    "    def deletetype(self):\n",
    "        del self.type\n",
    "    def deletenum(self):\n",
    "        del self.num\n",
    "    def deletestart(self):\n",
    "        del self.start\n",
    "    def deleteend(self):\n",
    "        del self.end\n",
    "    \n",
    "t1=train(\"express\",17028,\"secunderabad\",\"kurnool\")\n",
    "t2=train(\"passenger\",179034,\"secunderabad\",\"guntakal\")\n",
    "t1.display()\n",
    "t2.display()"
   ]
  },
  {
   "cell_type": "code",
   "execution_count": 17,
   "metadata": {},
   "outputs": [
    {
     "name": "stdout",
     "output_type": "stream",
     "text": [
      "001 Laptop 8 800\n"
     ]
    }
   ],
   "source": [
    "class Product:\n",
    "    def __init__(self, product_id, name, quantity, price):\n",
    "        self.product_id = product_id\n",
    "        self.name = name\n",
    "        self.quantity = quantity\n",
    "        self.price = price\n",
    "\n",
    "    def update_quantity(self, new_quantity):\n",
    "        self.quantity = new_quantity\n",
    "    \n",
    "    def display(self):\n",
    "        print(self.product_id,self.name,self.quantity,self.price)\n",
    "\n",
    "product1 = Product(\"001\", \"Laptop\", 10, 800)\n",
    "product1.update_quantity(8)\n",
    "Product.display(product1)\n"
   ]
  },
  {
   "cell_type": "code",
   "execution_count": 31,
   "metadata": {},
   "outputs": [
    {
     "name": "stdout",
     "output_type": "stream",
     "text": [
      "231 chicken 500 noveg\n",
      "321 pasta 900 veg\n",
      "Margherita Pizza->veg\n"
     ]
    }
   ],
   "source": [
    "class MenuItem:\n",
    "    def __init__(self, item_id, name, price, category):\n",
    "        self.item_id = item_id\n",
    "        self.name = name\n",
    "        self.price = price\n",
    "        self.category = category\n",
    "    def display(self):\n",
    "        print(self.item_id,self.name ,self.price,self.category)\n",
    "\n",
    "    @staticmethod\n",
    "    def is_vegetarian(item_name):\n",
    "        vegetarian_items = [\"Salad\", \"Vegetable Soup\", \"Margherita Pizza\"]\n",
    "        if item_name in vegetarian_items:\n",
    "            print(item_name,\"veg\",sep=\"->\")\n",
    "        else:\n",
    "            print(\"non veg\")\n",
    "m1=MenuItem(231,\"chicken\",500,\"noveg\")\n",
    "m2=MenuItem(321,\"pasta\",900,\"veg\")\n",
    "m1.display()\n",
    "m2.display()\n",
    "MenuItem.is_vegetarian(\"Margherita Pizza\") \n"
   ]
  },
  {
   "cell_type": "code",
   "execution_count": null,
   "metadata": {},
   "outputs": [],
   "source": [
    "class student:\n",
    "    def __init__(self,name,age) :\n",
    "        self.name=name\n",
    "        self.age=age\n",
    "    def display(self):\n",
    "        print(self.name)\n",
    "        print(self.age)\n",
    "    def changename(self,newname):\n",
    "        self.name=newname\n",
    "    def changeage(self,newage):\n",
    "        self.age=newage\n",
    "    def deletename(self):\n",
    "        del self.name\n",
    "    def deleteage(self):\n",
    "        del self.age\n",
    "\n",
    "s1=student(\"jagadeesh\",22)\n",
    "s2=student(\"satya\",23)\n",
    "s1.display()\n",
    "s2.display()\n",
    "s1.changename(\"k.jagadeesh\")\n",
    "s1.changeage(21)\n",
    "s1.display()\n",
    "s1.deleteage()\n",
    "s2.changename(\"p.satya\")\n",
    "s2.display()\n",
    "s3=student(\"supriya\",20)\n",
    "s3.display()\n",
    "s4=student(\"raju\",24)\n",
    "s4.display()"
   ]
  },
  {
   "cell_type": "code",
   "execution_count": null,
   "metadata": {},
   "outputs": [],
   "source": [
    "class animal:\n",
    "    type=\"carnivore\"\n",
    "    @classmethod\n",
    "    def changetype(cls,ntypee):\n",
    "        cls.type=ntypee\n",
    "a1=animal()\n",
    "print(a1.type,animal.type)\n",
    "a1.changetype(\"ommni\")\n",
    "# print(a1.type)\n",
    "a1.changetype(\"herbi\")\n",
    "animal.type=\"omni\" \n",
    "print(a1.type,animal.type)"
   ]
  },
  {
   "cell_type": "code",
   "execution_count": 35,
   "metadata": {},
   "outputs": [
    {
     "name": "stdout",
     "output_type": "stream",
     "text": [
      "12 12\n",
      "14 14\n",
      "15 15\n",
      "15\n"
     ]
    }
   ],
   "source": [
    "\n",
    "class phone:\n",
    "    company=\"oppo\"\n",
    "    model=12\n",
    "    @classmethod\n",
    "    def cname(cls,nname):\n",
    "        cls.company=nname\n",
    "    @classmethod\n",
    "    def cloc(cls,nloc):\n",
    "        cls.model=nloc\n",
    "b1=phone()\n",
    "b2=phone()\n",
    "print(b1.model,b2.model)\n",
    "phone.model=14\n",
    "print(b1.model,b2.model)\n",
    "b1.cloc(15)\n",
    "print(b1.model,b2.model)\n",
    "print(phone.model)\n",
    "\n",
    "  "
   ]
  },
  {
   "cell_type": "code",
   "execution_count": 40,
   "metadata": {},
   "outputs": [
    {
     "name": "stdout",
     "output_type": "stream",
     "text": [
      "None\n",
      "None\n",
      "None\n",
      "None\n",
      "hello\n",
      "helloworld\n",
      "hello\n",
      "helloworld\n"
     ]
    }
   ],
   "source": [
    "class abc:\n",
    "    cv1=None\n",
    "    cv2=None\n",
    "    @classmethod\n",
    "    def changecv1(cls,newcv1):\n",
    "        cls.cv1=newcv1\n",
    "    @classmethod\n",
    "    def changecv2(cls,newcv2):\n",
    "        cls.cv2=newcv2\n",
    "    @classmethod\n",
    "    def displaycv1(cls):\n",
    "        print(cls.cv1)\n",
    "    @classmethod\n",
    "    def displaycv2(cls):\n",
    "        print(cls.cv2)\n",
    "\n",
    "a1=abc()\n",
    "a1.displaycv1()\n",
    "a1.displaycv2()\n",
    "abc.displaycv1()\n",
    "abc.displaycv2()\n",
    "abc.changecv1(\"hello\")\n",
    "abc.changecv2(\"helloworld\")\n",
    "a1.displaycv1()\n",
    "a1.displaycv2()\n",
    "abc.displaycv1()\n",
    "abc.displaycv2()"
   ]
  },
  {
   "cell_type": "code",
   "execution_count": 12,
   "metadata": {},
   "outputs": [
    {
     "name": "stdout",
     "output_type": "stream",
     "text": [
      "mrf\n",
      "ceat\n",
      "3202991722768 3202991082512 3202991082512\n"
     ]
    }
   ],
   "source": [
    "#has a relation\n",
    "\n",
    "class car:\n",
    "    def __init__(self,name,price,tyre):\n",
    "        self.__name=name\n",
    "        self.__price=price\n",
    "        self.__tyre=tyre  \n",
    "    def setname(self,newname):\n",
    "        self.__name=newname\n",
    "    def setphone(self,newprice):\n",
    "        self.__price=newprice\n",
    "    def getname(self):\n",
    "        return self.__name\n",
    "    def getphone(self):\n",
    "        return self.__price\n",
    "    def gettyre(self):\n",
    "        return self.__tyre\n",
    "\n",
    "class tyre:\n",
    "    def __init__(self,tyrename):\n",
    "        self.__tyrename=tyrename\n",
    "    def settyrename(self,newname):\n",
    "        self.__tyrename=newname\n",
    "    def gettyrename(self):\n",
    "        return self.__tyrename\n",
    "\n",
    "t1=tyre(\"mrf\")\n",
    "c1=car(\"toyota\",3000000,t1)\n",
    "\n",
    "print(c1.gettyre().gettyrename())\n",
    "\n",
    "t2=c1.gettyre()\n",
    "t2.settyrename(\"ceat\")\n",
    "print(c1.gettyre().gettyrename())\n",
    "\n",
    "print(id(c1),id(t1),id(t2))\n"
   ]
  }
 ],
 "metadata": {
  "kernelspec": {
   "display_name": "Python 3",
   "language": "python",
   "name": "python3"
  },
  "language_info": {
   "codemirror_mode": {
    "name": "ipython",
    "version": 3
   },
   "file_extension": ".py",
   "mimetype": "text/x-python",
   "name": "python",
   "nbconvert_exporter": "python",
   "pygments_lexer": "ipython3",
   "version": "3.11.8"
  }
 },
 "nbformat": 4,
 "nbformat_minor": 2
}
