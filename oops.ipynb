{
 "cells": [
  {
   "cell_type": "code",
   "execution_count": 9,
   "metadata": {},
   "outputs": [
    {
     "name": "stdout",
     "output_type": "stream",
     "text": [
      "jagadeesh\n",
      "22\n",
      "satya\n",
      "23\n",
      "k.jagadeesh\n",
      "21\n"
     ]
    }
   ],
   "source": [
    "class student:\n",
    "    def __init__(self,name,age) :\n",
    "        self.name=name\n",
    "        self.age=age\n",
    "    def display(self):\n",
    "        print(self.name)\n",
    "        print(self.age)\n",
    "    def changename(self,newname):\n",
    "        self.name=newname\n",
    "    def changeage(self,newage):\n",
    "        self.age=newage\n",
    "    def deletename(self):\n",
    "        del self.name\n",
    "    def deleteage(self):\n",
    "        del self.age\n",
    "\n",
    "s1=student(\"jagadeesh\",22)\n",
    "s2=student(\"satya\",23)\n",
    "s1.display()\n",
    "s2.display()\n",
    "s1.changename(\"k.jagadeesh\")\n",
    "s1.changeage(21)\n",
    "s1.display()\n",
    "s1.deleteage()\n",
    "s2.changename(\"p.satya\")\n",
    "s2.display()\n",
    "\n",
    "    \n",
    "        \n",
    "        "
   ]
  }
 ],
 "metadata": {
  "kernelspec": {
   "display_name": "Python 3",
   "language": "python",
   "name": "python3"
  },
  "language_info": {
   "codemirror_mode": {
    "name": "ipython",
    "version": 3
   },
   "file_extension": ".py",
   "mimetype": "text/x-python",
   "name": "python",
   "nbconvert_exporter": "python",
   "pygments_lexer": "ipython3",
   "version": "3.11.8"
  }
 },
 "nbformat": 4,
 "nbformat_minor": 2
}
